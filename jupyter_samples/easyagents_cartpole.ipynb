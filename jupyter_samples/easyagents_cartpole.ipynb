{
 "cells": [
  {
   "cell_type": "markdown",
   "metadata": {
    "colab_type": "text",
    "id": "itbylRO_XSzd"
   },
   "source": [
    "# Simple TfAgents example with EasyAgents"
   ]
  },
  {
   "cell_type": "markdown",
   "metadata": {
    "colab_type": "text",
    "id": "JszJwM7GXkFK"
   },
   "source": [
    "## Install all packages (gym, tfagents, tensorflow,....)"
   ]
  },
  {
   "cell_type": "code",
   "execution_count": 2,
   "metadata": {
    "colab": {
     "base_uri": "https://localhost:8080/",
     "height": 34
    },
    "colab_type": "code",
    "id": "C-jRHCOPW56b",
    "outputId": "28038221-7a27-4906-bc36-84b6efc7dba8"
   },
   "outputs": [
    {
     "name": "stdout",
     "output_type": "stream",
     "text": [
      "Looking in indexes: https://test.pypi.org/simple/\n",
      "Requirement already satisfied: easyagents in c:\\dev\\github\\easyagents\\env\\lib\\site-packages (0.0.1)\n",
      "Requirement already satisfied: imageio==2.4.0 in c:\\dev\\github\\easyagents\\env\\lib\\site-packages (from easyagents) (2.4.0)\n",
      "Requirement already satisfied: PILLOW in c:\\dev\\github\\easyagents\\env\\lib\\site-packages (from easyagents) (6.0.0)\n",
      "Requirement already satisfied: gym==0.10.11 in c:\\dev\\github\\easyagents\\env\\lib\\site-packages (from easyagents) (0.10.11)\n",
      "Requirement already satisfied: pyglet in c:\\dev\\github\\easyagents\\env\\lib\\site-packages (from easyagents) (1.3.2)\n",
      "Requirement already satisfied: tf-nightly in c:\\dev\\github\\easyagents\\env\\lib\\site-packages (from easyagents) (1.14.1.dev20190607)\n",
      "Requirement already satisfied: tf-agents-nightly in c:\\dev\\github\\easyagents\\env\\lib\\site-packages (from easyagents) (0.2.0.dev20190528)\n",
      "Requirement already satisfied: imageio-ffmpeg in c:\\dev\\github\\easyagents\\env\\lib\\site-packages (from easyagents) (0.3.0)\n",
      "Requirement already satisfied: matplotlib in c:\\dev\\github\\easyagents\\env\\lib\\site-packages (from easyagents) (3.1.0)\n",
      "Requirement already satisfied: numpy in c:\\dev\\github\\easyagents\\env\\lib\\site-packages (from imageio==2.4.0->easyagents) (1.16.4)\n",
      "Requirement already satisfied: scipy in c:\\dev\\github\\easyagents\\env\\lib\\site-packages (from gym==0.10.11->easyagents) (1.3.0)\n",
      "Requirement already satisfied: requests>=2.0 in c:\\dev\\github\\easyagents\\env\\lib\\site-packages (from gym==0.10.11->easyagents) (2.22.0)\n",
      "Requirement already satisfied: six in c:\\dev\\github\\easyagents\\env\\lib\\site-packages (from gym==0.10.11->easyagents) (1.12.0)\n",
      "Requirement already satisfied: future in c:\\dev\\github\\easyagents\\env\\lib\\site-packages (from pyglet->easyagents) (0.17.1)\n",
      "Requirement already satisfied: tb-nightly<1.15.0a0,>=1.14.0a0 in c:\\dev\\github\\easyagents\\env\\lib\\site-packages (from tf-nightly->easyagents) (1.14.0a20190614)\n",
      "Requirement already satisfied: absl-py>=0.7.0 in c:\\dev\\github\\easyagents\\env\\lib\\site-packages (from tf-nightly->easyagents) (0.7.1)\n",
      "Requirement already satisfied: tf-estimator-nightly in c:\\dev\\github\\easyagents\\env\\lib\\site-packages (from tf-nightly->easyagents) (1.14.0.dev2019061701)\n",
      "Requirement already satisfied: wrapt>=1.11.1 in c:\\dev\\github\\easyagents\\env\\lib\\site-packages (from tf-nightly->easyagents) (1.11.1)\n",
      "Requirement already satisfied: wheel>=0.26 in c:\\dev\\github\\easyagents\\env\\lib\\site-packages (from tf-nightly->easyagents) (0.33.4)\n",
      "Requirement already satisfied: termcolor>=1.1.0 in c:\\dev\\github\\easyagents\\env\\lib\\site-packages (from tf-nightly->easyagents) (1.1.0)\n",
      "Requirement already satisfied: google-pasta>=0.1.6 in c:\\dev\\github\\easyagents\\env\\lib\\site-packages (from tf-nightly->easyagents) (0.1.7)\n",
      "Requirement already satisfied: protobuf>=3.6.1 in c:\\dev\\github\\easyagents\\env\\lib\\site-packages (from tf-nightly->easyagents) (3.8.0)\n",
      "Requirement already satisfied: keras-applications>=1.0.6 in c:\\dev\\github\\easyagents\\env\\lib\\site-packages (from tf-nightly->easyagents) (1.0.8)\n",
      "Requirement already satisfied: grpcio>=1.8.6 in c:\\dev\\github\\easyagents\\env\\lib\\site-packages (from tf-nightly->easyagents) (1.21.1)\n",
      "Requirement already satisfied: astor>=0.6.0 in c:\\dev\\github\\easyagents\\env\\lib\\site-packages (from tf-nightly->easyagents) (0.8.0)\n",
      "Requirement already satisfied: keras-preprocessing>=1.0.5 in c:\\dev\\github\\easyagents\\env\\lib\\site-packages (from tf-nightly->easyagents) (1.1.0)\n",
      "Requirement already satisfied: gast>=0.2.0 in c:\\dev\\github\\easyagents\\env\\lib\\site-packages (from tf-nightly->easyagents) (0.2.2)\n",
      "Requirement already satisfied: tfp-nightly in c:\\dev\\github\\easyagents\\env\\lib\\site-packages (from tf-agents-nightly->easyagents) (0.8.0.dev20190617)\n",
      "Requirement already satisfied: gin-config==0.1.3 in c:\\dev\\github\\easyagents\\env\\lib\\site-packages (from tf-agents-nightly->easyagents) (0.1.3)\n",
      "Requirement already satisfied: kiwisolver>=1.0.1 in c:\\dev\\github\\easyagents\\env\\lib\\site-packages (from matplotlib->easyagents) (1.1.0)\n",
      "Requirement already satisfied: pyparsing!=2.0.4,!=2.1.2,!=2.1.6,>=2.0.1 in c:\\dev\\github\\easyagents\\env\\lib\\site-packages (from matplotlib->easyagents) (2.4.0)\n",
      "Requirement already satisfied: cycler>=0.10 in c:\\dev\\github\\easyagents\\env\\lib\\site-packages (from matplotlib->easyagents) (0.10.0)\n",
      "Requirement already satisfied: python-dateutil>=2.1 in c:\\dev\\github\\easyagents\\env\\lib\\site-packages (from matplotlib->easyagents) (2.8.0)\n",
      "Requirement already satisfied: certifi>=2017.4.17 in c:\\dev\\github\\easyagents\\env\\lib\\site-packages (from requests>=2.0->gym==0.10.11->easyagents) (2019.6.16)\n",
      "Requirement already satisfied: chardet<3.1.0,>=3.0.2 in c:\\dev\\github\\easyagents\\env\\lib\\site-packages (from requests>=2.0->gym==0.10.11->easyagents) (3.0.4)\n",
      "Requirement already satisfied: urllib3!=1.25.0,!=1.25.1,<1.26,>=1.21.1 in c:\\dev\\github\\easyagents\\env\\lib\\site-packages (from requests>=2.0->gym==0.10.11->easyagents) (1.25.3)\n",
      "Requirement already satisfied: idna<2.9,>=2.5 in c:\\dev\\github\\easyagents\\env\\lib\\site-packages (from requests>=2.0->gym==0.10.11->easyagents) (2.8)\n",
      "Collecting setuptools>=41.0.0 (from tb-nightly<1.15.0a0,>=1.14.0a0->tf-nightly->easyagents)\n"
     ]
    },
    {
     "name": "stderr",
     "output_type": "stream",
     "text": [
      "  Could not find a version that satisfies the requirement setuptools>=41.0.0 (from tb-nightly<1.15.0a0,>=1.14.0a0->tf-nightly->easyagents) (from versions: 40.2.0)\n",
      "No matching distribution found for setuptools>=41.0.0 (from tb-nightly<1.15.0a0,>=1.14.0a0->tf-nightly->easyagents)\n",
      "You are using pip version 19.0.3, however version 19.1.1 is available.\n",
      "You should consider upgrading via the 'python -m pip install --upgrade pip' command.\n"
     ]
    }
   ],
   "source": [
    "!pip install --index-url https://test.pypi.org/simple/ easyagents \n",
    "#!pip install easyagents >/dev/null"
   ]
  },
  {
   "cell_type": "markdown",
   "metadata": {
    "colab_type": "text",
    "id": "67n5CylJZJpt"
   },
   "source": [
    "## Choose an environment and train"
   ]
  },
  {
   "cell_type": "code",
   "execution_count": 3,
   "metadata": {
    "colab": {
     "base_uri": "https://localhost:8080/",
     "height": 230
    },
    "colab_type": "code",
    "id": "fuzjC3Q8ZQaC",
    "outputId": "cf1739b4-ce08-4334-de28-7155f8205e26"
   },
   "outputs": [
    {
     "name": "stdout",
     "output_type": "stream",
     "text": [
      "iteration/train_step = 0, loss = 150579440.0\n",
      "iteration/train_step = 0, Average Return = 9.199999809265137\n"
     ]
    }
   ],
   "source": [
    "from easyagents.tfagents import Ppo\n",
    "\n",
    "ppoAgent = Ppo( 'CartPole-v0' )\n",
    "ppoAgent.train()\n"
   ]
  },
  {
   "cell_type": "code",
   "execution_count": null,
   "metadata": {},
   "outputs": [],
   "source": []
  }
 ],
 "metadata": {
  "accelerator": "GPU",
  "colab": {
   "collapsed_sections": [],
   "name": "Untitled2.ipynb",
   "provenance": [],
   "version": "0.3.2"
  },
  "kernelspec": {
   "display_name": "Python 3",
   "language": "python",
   "name": "python3"
  },
  "language_info": {
   "codemirror_mode": {
    "name": "ipython",
    "version": 3
   },
   "file_extension": ".py",
   "mimetype": "text/x-python",
   "name": "python",
   "nbconvert_exporter": "python",
   "pygments_lexer": "ipython3",
   "version": "3.7.3"
  }
 },
 "nbformat": 4,
 "nbformat_minor": 1
}
