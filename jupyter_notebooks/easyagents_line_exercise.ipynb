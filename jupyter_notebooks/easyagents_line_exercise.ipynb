{
  "nbformat": 4,
  "nbformat_minor": 0,
  "metadata": {
    "accelerator": "GPU",
    "colab": {
      "name": "easyagents_line.ipynb",
      "version": "0.3.2",
      "provenance": [],
      "collapsed_sections": [
        "zpzHtN3-kQ26",
        "w3OdHyWEEEwy",
        "bzoq0VM85p46"
      ],
      "include_colab_link": true
    },
    "kernelspec": {
      "display_name": "Python 3",
      "language": "python",
      "name": "python3"
    },
    "language_info": {
      "codemirror_mode": {
        "name": "ipython",
        "version": 3
      },
      "file_extension": ".py",
      "mimetype": "text/x-python",
      "name": "python",
      "nbconvert_exporter": "python",
      "pygments_lexer": "ipython3",
      "version": "3.7.3"
    },
    "pycharm": {
      "stem_cell": {
        "cell_type": "raw",
        "metadata": {
          "collapsed": false
        },
        "source": []
      }
    }
  },
  "cells": [
    {
      "cell_type": "markdown",
      "metadata": {
        "id": "view-in-github",
        "colab_type": "text"
      },
      "source": [
        "<a href=\"https://colab.research.google.com/github/christianhidber/easyagents/blob/master/jupyter_notebooks/easyagents_line_exercise.ipynb\" target=\"_parent\"><img src=\"https://colab.research.google.com/assets/colab-badge.svg\" alt=\"Open In Colab\"/></a>"
      ]
    },
    {
      "cell_type": "markdown",
      "metadata": {
        "colab_type": "text",
        "id": "eU7ylMh1kQ2y"
      },
      "source": [
        "# Line World\n",
        "\n",
        "* an agent lives in a finite linear world of uneven elements\n",
        "* at each moment it is in a certain position\n",
        "* initial position is the middle\n",
        "* some positions gain rewards, some don't\n",
        "* rewards are between 0 and 15\n",
        "* agent can either move left or right\n",
        "* Objective: maximize total reward = sum(rewards) + sum(steps)\n",
        "* Cost per step: -1\n",
        "* Done Condition: agent is at pos 0 or total reward <= -20\n",
        "\n",
        "<img src='https://raw.githubusercontent.com/christianhidber/easyagents/master/images/line-world.png'>"
      ]
    },
    {
      "cell_type": "markdown",
      "metadata": {
        "colab_type": "text",
        "id": "sQ8Nfk3MKgLt"
      },
      "source": [
        "### Install gym, tensorflow, tf-agents,..., setup display"
      ]
    },
    {
      "cell_type": "code",
      "metadata": {
        "colab_type": "code",
        "id": "QFQXRNBFI5Re",
        "pycharm": {
          "is_executing": false
        },
        "colab": {}
      },
      "source": [
        "import sys\n",
        "if 'google.colab' in sys.modules:\n",
        "    !pip install -q easyagents\n",
        "    !pip install -q networkx==2.3.0 "
      ],
      "execution_count": 0,
      "outputs": []
    },
    {
      "cell_type": "markdown",
      "metadata": {
        "colab_type": "text",
        "id": "aS8yqznR8UL7",
        "pycharm": {
          "name": "#%% md\n"
        }
      },
      "source": [
        "##### suppress package warnings, in colab: load additional packages for rendering"
      ]
    },
    {
      "cell_type": "code",
      "metadata": {
        "colab_type": "code",
        "id": "DcilvDdeI5Ri",
        "outputId": "f0e5d79c-6b81-4fb7-8ac5-14373a836a0b",
        "pycharm": {
          "is_executing": false
        },
        "colab": {
          "base_uri": "https://localhost:8080/",
          "height": 34
        }
      },
      "source": [
        "import sys\n",
        "import warnings\n",
        "import matplotlib.pyplot as plt\n",
        "\n",
        "warnings.filterwarnings('ignore')\n",
        "if 'google.colab' in sys.modules:\n",
        "    !apt-get install xvfb >/dev/null\n",
        "    !pip install pyvirtualdisplay >/dev/null    \n",
        "    \n",
        "    from pyvirtualdisplay import Display\n",
        "    Display(visible=0, size=(960, 720)).start() "
      ],
      "execution_count": 2,
      "outputs": [
        {
          "output_type": "stream",
          "text": [
            "xdpyinfo was not found, X start can not be checked! Please install xdpyinfo!\n"
          ],
          "name": "stderr"
        }
      ]
    },
    {
      "cell_type": "markdown",
      "metadata": {
        "colab_type": "text",
        "id": "w3OdHyWEEEwy"
      },
      "source": [
        "# Define Gym Environment\n",
        "\n",
        "## What you need to define\n",
        "1. Actions\n",
        "1. Observation\n",
        "1. Reward\n",
        "1. Game done?\n",
        "\n",
        "## Remember how an environment looks like\n",
        "\n",
        "```python\n",
        "class MyEnv(gym.Env):\n",
        "  def __init__(self):\n",
        "      # set up the environment\n",
        "\n",
        "    def step(self, action):\n",
        "        # make the action have an impact on the environment\n",
        "        # and return the information the algorithms need\n",
        "        return observation, reward, done, info\n",
        "\n",
        "    def reset(self):\n",
        "        # reset this environment to the initial state and return the according observation\n",
        "        return observation\n",
        "\n",
        "    def render(self, mode='ansi'):\n",
        "        # spits out a human readable rendering of the environment\n",
        "        if mode == 'ansi':\n",
        "            return self._render_ansi()\n",
        "        if mode == 'human':\n",
        "            return self._render_human()            \n",
        "        elif mode == 'rgb_array':\n",
        "            return self._render_rgb() \n",
        "```\n",
        "\n",
        "https://gym.openai.com/\n",
        "\n",
        "https://github.com/openai/gym/blob/master/docs/creating-environments.md\n",
        "\n",
        "## Applying Reinforcement Learning to a problem\n",
        "\n",
        "* Is your problem approachable by Reinforcement Learning (more on that later)?\n",
        "  * Can you defined what would be the agent and what the environment?\n",
        "* You can simulate your environment or are able to safely perform a large number of experiments in the real world\n",
        "* You need to be able to define your problem as a Markov Decision Process (MDP)\n",
        "* Good sanity check: Would you as a human be able to play the game based on the observation and reward you get?\n",
        "* there are different kinds of observations\n",
        "  * fully observed environment (e.g. Jump'n'Run Game)\n",
        "  * partially observed environment (e.g. Ego Shooter)\n",
        "* Choose a proper Reinforcement Learning Algorithm (more on that later)\n",
        "\n",
        "## MDP: Markov Decision Process in Reinforcement Learning\n",
        "\n",
        "* https://en.wikipedia.org/wiki/Markov_decision_process\n",
        "* Model your observation in a way that which actions the agent took to get to a certain state are irrelevant\n",
        "* That means all information necessary to derive a proper action need to be in a single observation\n",
        "* The agents must not be forced to also learn the sequence of observations\n",
        "* E.g. the position of the PacMan is not enough. Which path taken results in where the ghosts are and what pills have been eaten"
      ]
    },
    {
      "cell_type": "code",
      "metadata": {
        "colab_type": "code",
        "id": "6yEvuCliwJiD",
        "pycharm": {
          "is_executing": false
        },
        "colab": {}
      },
      "source": [
        "import numpy as np\n",
        "import math\n",
        "\n",
        "import gym\n",
        "from gym import error, spaces, utils\n",
        "\n",
        "import matplotlib.pyplot as plt\n",
        "from IPython.display import display, clear_output\n",
        "\n",
        "LEFT = 0\n",
        "RIGHT = 1\n",
        "\n",
        "class LineWorldEnv(gym.Env):\n",
        "\n",
        "    # constructor sets up the properties of the environment\n",
        "    # most important action space, observation space and reward range\n",
        "    def __init__(self, state=[10, 0, 0, 5, 0, 2, 15]):\n",
        "        self.state = np.array(state)\n",
        "        # the agent can perform  different actions\n",
        "        number_of_actions = 2\n",
        "        self.action_space = spaces.Discrete(number_of_actions)\n",
        "\n",
        "        self.size_of_world = len(state)\n",
        "        \n",
        "        self.max_reward = 15\n",
        "        self.min_reward = 0\n",
        "        self.observation_size = 1 + self.size_of_world\n",
        "        \n",
        "\n",
        "        ### OZ->CHH: Hier würden wir was hinschreiben, damit es zur Observation passt, das müssten die Teilnehmer dann ebenfalls umbauen\n",
        "        # Für observation gleiche Werte für alles\n",
        "\n",
        "        # Observation size = 5\n",
        "        # Min = 0\n",
        "        # Max = 10\n",
        "\n",
        "        # Constante rein in v0\n",
        "\n",
        "        # Ableiten von State in get observation\n",
        "\n",
        "        # Plot arbeitet auf State, nicht observation\n",
        "\n",
        "        # the environment's state is described by the position of the agent and the remaining rewards\n",
        "        low = np.full(self.observation_size, self.min_reward)\n",
        "        high = np.full(self.observation_size, self.max_reward)\n",
        "        self.observation_space = spaces.Box(low=low,\n",
        "                                            high=high,\n",
        "                                            dtype=np.float32)\n",
        "\n",
        "        self.reward_range = (-1, 1)\n",
        "        # 32 is only theoretical, because we need to travel at least 9 steps, leaving us with 23 practically\n",
        "        self.optimum = self.state.sum() - 9\n",
        "\n",
        "        self._figure = None\n",
        "\n",
        "        self.reset()\n",
        "\n",
        "    # OZ->CHH: Für die Übung würde hier nur ein flaches np.array herauskommen mit Nullen drin, geht dann natürlich nicht \n",
        "    def get_observation(self):\n",
        "        return np.append([self.pos], self.remaining_rewards)\n",
        "\n",
        "    def reset(self):\n",
        "        self.total_reward = 0\n",
        "        self.done = False\n",
        "        self.pos = math.floor(len(self.state) / 2)\n",
        "        self.steps = 0\n",
        "\n",
        "        self.remaining_rewards = np.array(self.state, copy=True)\n",
        "        return self.get_observation()\n",
        "\n",
        "    def step(self, action):\n",
        "        if action == LEFT and self.pos != 0:\n",
        "          self.pos -= 1\n",
        "        elif self.pos < self.size_of_world -1:\n",
        "          self.pos += 1\n",
        "\n",
        "        reward = self.remaining_rewards[self.pos] - 1\n",
        "        normalized_reward = reward / self.optimum\n",
        "        self.total_reward += normalized_reward\n",
        "        self.remaining_rewards[self.pos] = 0\n",
        "\n",
        "        if self.pos == 0 or self.total_reward * self.optimum <= -20:\n",
        "          self.done = True\n",
        "        self.steps += 1\n",
        "\n",
        "        observation = self.get_observation()\n",
        "        info = None\n",
        "        return observation, normalized_reward, self.done, info\n",
        "\n",
        "    def _render_to_ansi(self):\n",
        "        return 'position: {position}, remaining rewards: {rewards}, total reward so far: {total}, normalized total reward: {normalized_total}, steps so far: {steps}, game done: {done}'.format(\n",
        "            position=self.pos, \n",
        "            rewards=self.remaining_rewards, \n",
        "            total=self.total_reward * self.optimum, \n",
        "            normalized_total = self.total_reward,\n",
        "            done=self.done,\n",
        "            steps=self.steps)              \n",
        "\n",
        "    def _render_to_figure(self):\n",
        "        \"\"\" Renders the current state as a graph with matplotlib \"\"\"\n",
        "        if self._figure is not None:\n",
        "            plt.close(self._figure)\n",
        "        self._figure, ax = plt.subplots(1, figsize=(8, 4))\n",
        "        ax.set_ylim(bottom=-1, top=self.max_reward + 1)\n",
        "        x = np.arange(0, self.size_of_world, 1, dtype=np.uint8)\n",
        "        y = self.remaining_rewards\n",
        "        plt.plot([self.pos, self.pos], [0, 2], 'r^-')\n",
        "        ax.scatter(x, y, s=75)\n",
        "        self._figure.canvas.draw()\n",
        "        \n",
        "    def _render_to_human(self):\n",
        "        \"\"\" show render_to_figure in a jupyter cell. \n",
        "            the result of each call is rendered in the same cell\"\"\"\n",
        "        clear_output(wait=True)\n",
        "        self._render_to_figure()\n",
        "        plt.pause(0.01)\n",
        "        \n",
        "    def _render_to_rgb(self):\n",
        "        \"\"\" convert the output of render_to_figure to a rgb_array \"\"\"\n",
        "        self._render_to_figure()\n",
        "        self._figure.canvas.draw()\n",
        "        buf = self._figure.canvas.tostring_rgb()\n",
        "        num_cols, num_rows = self._figure.canvas.get_width_height()\n",
        "        plt.close(self._figure)\n",
        "        self._figure = None\n",
        "        result = np.fromstring(buf, dtype=np.uint8).reshape(num_rows, num_cols, 3)\n",
        "        return result        \n",
        "\n",
        "    def render(self, mode='ansi'):\n",
        "        if mode == 'ansi':\n",
        "            return self._render_to_ansi()\n",
        "        elif mode == 'human':\n",
        "            return self._render_to_human()\n",
        "        elif mode == 'rgb_array':\n",
        "            return self._render_to_rgb()\n",
        "        else:\n",
        "            super().render(mode=mode)\n"
      ],
      "execution_count": 0,
      "outputs": []
    },
    {
      "cell_type": "markdown",
      "metadata": {
        "colab_type": "text",
        "id": "D2aXwjnTc9LV"
      },
      "source": [
        "# Hands-On 1: Try out our environment\n",
        "\n",
        "_use yourself to simulate the agent_\n",
        "\n",
        "* Create an environment and play the game to the end manually using the cells below\n",
        "* Use a sequence of left and right commands to find the best solution possible\n",
        "* Show yourself only local observations and reward for each step and choose an action\n",
        "* Would this be sufficent for a good reward?\n",
        "* What reward do you get? What is the optimum?"
      ]
    },
    {
      "cell_type": "code",
      "metadata": {
        "colab_type": "code",
        "id": "_fHrBrxxI5Rt",
        "pycharm": {
          "is_executing": false
        },
        "colab": {}
      },
      "source": [
        "env = LineWorldEnv()"
      ],
      "execution_count": 0,
      "outputs": []
    },
    {
      "cell_type": "code",
      "metadata": {
        "colab_type": "code",
        "id": "SJARCo5U9PfR",
        "outputId": "d9890ba7-694e-4fb2-aec5-9722a136e9a2",
        "colab": {
          "base_uri": "https://localhost:8080/",
          "height": 34
        }
      },
      "source": [
        "# shows the raw observation, position is first, then all rest rewards\n",
        "env.reset()"
      ],
      "execution_count": 5,
      "outputs": [
        {
          "output_type": "execute_result",
          "data": {
            "text/plain": [
              "array([ 3, 10,  0,  0,  5,  0,  2, 15])"
            ]
          },
          "metadata": {
            "tags": []
          },
          "execution_count": 5
        }
      ]
    },
    {
      "cell_type": "code",
      "metadata": {
        "colab_type": "code",
        "id": "stTFpBh_9R6X",
        "outputId": "a29282f9-c350-432e-ca48-d3d0d86afb32",
        "colab": {
          "base_uri": "https://localhost:8080/",
          "height": 34
        }
      },
      "source": [
        "# more complete and readable information\n",
        "env.render()"
      ],
      "execution_count": 6,
      "outputs": [
        {
          "output_type": "execute_result",
          "data": {
            "text/plain": [
              "'position: 3, remaining rewards: [10  0  0  5  0  2 15], total reward so far: 0, normalized total reward: 0, steps so far: 0, game done: False'"
            ]
          },
          "metadata": {
            "tags": []
          },
          "execution_count": 6
        }
      ]
    },
    {
      "cell_type": "code",
      "metadata": {
        "colab_type": "code",
        "id": "s2RYX2_2I5Ry",
        "outputId": "976f2c8f-0080-4e92-b47a-26160b1aeec6",
        "pycharm": {
          "is_executing": false,
          "name": "#%%\n"
        },
        "colab": {
          "base_uri": "https://localhost:8080/",
          "height": 34
        }
      },
      "source": [
        "env.step(RIGHT)\n",
        "env.render()"
      ],
      "execution_count": 7,
      "outputs": [
        {
          "output_type": "execute_result",
          "data": {
            "text/plain": [
              "'position: 4, remaining rewards: [10  0  0  5  0  2 15], total reward so far: -1.0, normalized total reward: -0.043478260869565216, steps so far: 1, game done: False'"
            ]
          },
          "metadata": {
            "tags": []
          },
          "execution_count": 7
        }
      ]
    },
    {
      "cell_type": "code",
      "metadata": {
        "colab_type": "code",
        "id": "mGWH4CQCBSEk",
        "outputId": "a5d2fd13-118a-4348-e01e-3aff2e89b429",
        "colab": {
          "base_uri": "https://localhost:8080/",
          "height": 34
        }
      },
      "source": [
        "env.step(RIGHT)\n",
        "env.render()"
      ],
      "execution_count": 8,
      "outputs": [
        {
          "output_type": "execute_result",
          "data": {
            "text/plain": [
              "'position: 5, remaining rewards: [10  0  0  5  0  0 15], total reward so far: 0.0, normalized total reward: 0.0, steps so far: 2, game done: False'"
            ]
          },
          "metadata": {
            "tags": []
          },
          "execution_count": 8
        }
      ]
    },
    {
      "cell_type": "code",
      "metadata": {
        "colab_type": "code",
        "id": "JdHyE42vBhbC",
        "outputId": "d293f722-6eaf-4b87-904e-e5ec4e0c6e2d",
        "colab": {
          "base_uri": "https://localhost:8080/",
          "height": 34
        }
      },
      "source": [
        "env.step(RIGHT)\n",
        "env.render()"
      ],
      "execution_count": 9,
      "outputs": [
        {
          "output_type": "execute_result",
          "data": {
            "text/plain": [
              "'position: 6, remaining rewards: [10  0  0  5  0  0  0], total reward so far: 14.0, normalized total reward: 0.6086956521739131, steps so far: 3, game done: False'"
            ]
          },
          "metadata": {
            "tags": []
          },
          "execution_count": 9
        }
      ]
    },
    {
      "cell_type": "code",
      "metadata": {
        "colab_type": "code",
        "id": "5QRACggIChZK",
        "outputId": "c2a0acde-9a3d-45a2-a072-9e4109def690",
        "colab": {
          "base_uri": "https://localhost:8080/",
          "height": 34
        }
      },
      "source": [
        "env.step(RIGHT)\n",
        "env.render()"
      ],
      "execution_count": 10,
      "outputs": [
        {
          "output_type": "execute_result",
          "data": {
            "text/plain": [
              "'position: 6, remaining rewards: [10  0  0  5  0  0  0], total reward so far: 13.000000000000002, normalized total reward: 0.5652173913043479, steps so far: 4, game done: False'"
            ]
          },
          "metadata": {
            "tags": []
          },
          "execution_count": 10
        }
      ]
    },
    {
      "cell_type": "code",
      "metadata": {
        "colab_type": "code",
        "id": "RvfFHbSfckCy",
        "outputId": "ad7011a0-3bff-4123-cc33-6d182e634784",
        "colab": {
          "base_uri": "https://localhost:8080/",
          "height": 269
        }
      },
      "source": [
        "env.render(mode='human')"
      ],
      "execution_count": 11,
      "outputs": [
        {
          "output_type": "display_data",
          "data": {
            "image/png": "[encoded data removed]",
            "text/plain": [
              "<Figure size 576x288 with 1 Axes>"
            ]
          },
          "metadata": {
            "tags": []
          }
        }
      ]
    },
    {
      "cell_type": "code",
      "metadata": {
        "colab_type": "code",
        "id": "r4zbZtCsBx7x",
        "outputId": "659b96df-bba6-43da-c195-e56ec5ed5c06",
        "colab": {
          "base_uri": "https://localhost:8080/",
          "height": 34
        }
      },
      "source": [
        "env.step(LEFT)\n",
        "env.render()"
      ],
      "execution_count": 12,
      "outputs": [
        {
          "output_type": "execute_result",
          "data": {
            "text/plain": [
              "'position: 5, remaining rewards: [10  0  0  5  0  0  0], total reward so far: 12.000000000000002, normalized total reward: 0.5217391304347827, steps so far: 5, game done: False'"
            ]
          },
          "metadata": {
            "tags": []
          },
          "execution_count": 12
        }
      ]
    },
    {
      "cell_type": "code",
      "metadata": {
        "colab_type": "code",
        "id": "5eso3wdfFfGu",
        "outputId": "b7265e7b-280d-475e-e0a1-2c75bb3f8799",
        "colab": {
          "base_uri": "https://localhost:8080/",
          "height": 34
        }
      },
      "source": [
        "env.step(LEFT)\n",
        "env.render()"
      ],
      "execution_count": 13,
      "outputs": [
        {
          "output_type": "execute_result",
          "data": {
            "text/plain": [
              "'position: 4, remaining rewards: [10  0  0  5  0  0  0], total reward so far: 11.000000000000004, normalized total reward: 0.4782608695652175, steps so far: 6, game done: False'"
            ]
          },
          "metadata": {
            "tags": []
          },
          "execution_count": 13
        }
      ]
    },
    {
      "cell_type": "code",
      "metadata": {
        "colab_type": "code",
        "id": "_FUidR2SFgq2",
        "outputId": "c7487ae5-80f9-40c7-8afc-4412ce220f10",
        "colab": {
          "base_uri": "https://localhost:8080/",
          "height": 34
        }
      },
      "source": [
        "env.step(LEFT)\n",
        "env.render()"
      ],
      "execution_count": 14,
      "outputs": [
        {
          "output_type": "execute_result",
          "data": {
            "text/plain": [
              "'position: 3, remaining rewards: [10  0  0  0  0  0  0], total reward so far: 15.000000000000004, normalized total reward: 0.6521739130434784, steps so far: 7, game done: False'"
            ]
          },
          "metadata": {
            "tags": []
          },
          "execution_count": 14
        }
      ]
    },
    {
      "cell_type": "code",
      "metadata": {
        "colab_type": "code",
        "id": "zaPJ-GDtFnRL",
        "outputId": "ab6b9ec1-e9ef-4277-9156-df90dc6bd97e",
        "colab": {
          "base_uri": "https://localhost:8080/",
          "height": 34
        }
      },
      "source": [
        "env.step(LEFT)\n",
        "env.render()"
      ],
      "execution_count": 15,
      "outputs": [
        {
          "output_type": "execute_result",
          "data": {
            "text/plain": [
              "'position: 2, remaining rewards: [10  0  0  0  0  0  0], total reward so far: 14.000000000000004, normalized total reward: 0.6086956521739132, steps so far: 8, game done: False'"
            ]
          },
          "metadata": {
            "tags": []
          },
          "execution_count": 15
        }
      ]
    },
    {
      "cell_type": "code",
      "metadata": {
        "colab_type": "code",
        "id": "RdmP61D_FpTE",
        "outputId": "b0e49716-b149-44fc-8adc-47dfa05ffc8b",
        "colab": {
          "base_uri": "https://localhost:8080/",
          "height": 34
        }
      },
      "source": [
        "env.step(LEFT)\n",
        "env.render()"
      ],
      "execution_count": 16,
      "outputs": [
        {
          "output_type": "execute_result",
          "data": {
            "text/plain": [
              "'position: 1, remaining rewards: [10  0  0  0  0  0  0], total reward so far: 13.000000000000004, normalized total reward: 0.565217391304348, steps so far: 9, game done: False'"
            ]
          },
          "metadata": {
            "tags": []
          },
          "execution_count": 16
        }
      ]
    },
    {
      "cell_type": "code",
      "metadata": {
        "colab_type": "code",
        "id": "y1dxqY92FqV2",
        "outputId": "aa6c7cf8-7491-4b94-c057-add75b3319fd",
        "colab": {
          "base_uri": "https://localhost:8080/",
          "height": 34
        }
      },
      "source": [
        "env.step(LEFT)\n",
        "env.render()"
      ],
      "execution_count": 17,
      "outputs": [
        {
          "output_type": "execute_result",
          "data": {
            "text/plain": [
              "'position: 0, remaining rewards: [0 0 0 0 0 0 0], total reward so far: 22.000000000000007, normalized total reward: 0.956521739130435, steps so far: 10, game done: True'"
            ]
          },
          "metadata": {
            "tags": []
          },
          "execution_count": 17
        }
      ]
    },
    {
      "cell_type": "code",
      "metadata": {
        "id": "krSpCff7cyFC",
        "colab_type": "code",
        "colab": {
          "base_uri": "https://localhost:8080/",
          "height": 269
        },
        "outputId": "6d4998ce-7bb7-455f-b786-bb762b1151de"
      },
      "source": [
        "env.render(mode='human')"
      ],
      "execution_count": 18,
      "outputs": [
        {
          "output_type": "display_data",
          "data": {
            "image/png": "[encoded data removed]",
            "text/plain": [
              "<Figure size 576x288 with 1 Axes>"
            ]
          },
          "metadata": {
            "tags": []
          }
        }
      ]
    },
    {
      "cell_type": "markdown",
      "metadata": {
        "id": "UYIx2ER7dCkX",
        "colab_type": "text"
      },
      "source": [
        "### Register with OpenAI Gym"
      ]
    },
    {
      "cell_type": "code",
      "metadata": {
        "colab_type": "code",
        "id": "OS3pnnbAI5R9",
        "pycharm": {
          "is_executing": false
        },
        "colab": {}
      },
      "source": [
        "from easyagents.easyenv import register_with_gym\n",
        "\n",
        "env_name=\"LineWorld-v0\"\n",
        "register_with_gym(gym_env_name=env_name, entry_point=LineWorldEnv, max_episode_steps=100)"
      ],
      "execution_count": 0,
      "outputs": []
    },
    {
      "cell_type": "markdown",
      "metadata": {
        "colab_type": "text",
        "id": "_uEfpOeeI5R8"
      },
      "source": [
        "# Train policy with tfagents PpoAgent"
      ]
    },
    {
      "cell_type": "code",
      "metadata": {
        "colab_type": "code",
        "id": "gFISrkwhI5SZ",
        "outputId": "81b239e6-8cde-422e-ed5b-3ec4dace9fb5",
        "pycharm": {
          "is_executing": false
        },
        "colab": {
          "base_uri": "https://localhost:8080/",
          "height": 413
        }
      },
      "source": [
        "%%time\n",
        "\n",
        "from easyagents.tfagents import PpoAgent\n",
        "from easyagents.config import Training\n",
        "\n",
        "training=Training( num_iterations = 50,\n",
        "                   num_episodes_per_iteration = 10,\n",
        "                   max_steps_per_episode = 50,\n",
        "                   num_epochs_per_iteration = 5 )\n",
        "\n",
        "ppoAgent = PpoAgent(    gym_env_name = env_name,\n",
        "                        fc_layers=(500,500), \n",
        "                        training=training,\n",
        "                        learning_rate=1e-4\n",
        "                   )\n",
        "ppoAgent.train()"
      ],
      "execution_count": 20,
      "outputs": [
        {
          "output_type": "display_data",
          "data": {
            "image/png": "[encoded data removed]",
            "text/plain": [
              "<Figure size 1224x360 with 4 Axes>"
            ]
          },
          "metadata": {
            "tags": []
          }
        },
        {
          "output_type": "stream",
          "text": [
            "CPU times: user 1min 39s, sys: 2.57 s, total: 1min 42s\n",
            "Wall time: 1min 38s\n"
          ],
          "name": "stdout"
        }
      ]
    },
    {
      "cell_type": "code",
      "metadata": {
        "colab_type": "code",
        "id": "2oeN8hhRJqMr",
        "outputId": "d9d916b8-f222-4050-e2fe-b7bb7dd4a542",
        "colab": {
          "base_uri": "https://localhost:8080/",
          "height": 269
        }
      },
      "source": [
        "ppoAgent.render_episodes(num_episodes=1)"
      ],
      "execution_count": 21,
      "outputs": [
        {
          "output_type": "display_data",
          "data": {
            "image/png": "[encoded data removed]",
            "text/plain": [
              "<Figure size 576x288 with 1 Axes>"
            ]
          },
          "metadata": {
            "tags": []
          }
        }
      ]
    },
    {
      "cell_type": "markdown",
      "metadata": {
        "colab_type": "text",
        "id": "8OJYNSBaI5Sf"
      },
      "source": [
        "### Visualize training and policy (with custom y-limits and movie)"
      ]
    },
    {
      "cell_type": "code",
      "metadata": {
        "colab_type": "code",
        "id": "JVAsAknHI5Sf",
        "outputId": "b19e4a5c-fc3a-4eed-ded7-0dfcadc96a33",
        "pycharm": {
          "is_executing": false
        },
        "colab": {
          "base_uri": "https://localhost:8080/",
          "height": 338
        }
      },
      "source": [
        "_ = ppoAgent.plot_episodes(ylim=[None,(0,1),(0,50)])"
      ],
      "execution_count": 22,
      "outputs": [
        {
          "output_type": "display_data",
          "data": {
            "image/png": "[encoded data removed]",
            "text/plain": [
              "<Figure size 1224x360 with 3 Axes>"
            ]
          },
          "metadata": {
            "tags": []
          }
        }
      ]
    },
    {
      "cell_type": "code",
      "metadata": {
        "colab_type": "code",
        "id": "C0XVkNWaI5Sj",
        "outputId": "865179e4-f62c-4bbe-b06b-cf6b73a3b4c0",
        "pycharm": {
          "is_executing": false,
          "name": "#%%\n"
        },
        "colab": {
          "base_uri": "https://localhost:8080/",
          "height": 501
        }
      },
      "source": [
        "ppoAgent.render_episodes_to_jupyter(num_episodes=1, fps=1)"
      ],
      "execution_count": 23,
      "outputs": [
        {
          "output_type": "display_data",
          "data": {
            "text/html": [
              "\n",
              "        <video width=\"640\" height=\"480\" controls>\n",
              "            <source src=\"data:video/mp4;base64,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\" type=\"video/mp4\">\n",
              "        Your browser does not support the video tag.\n",
              "        </video>"
            ],
            "text/plain": [
              "<IPython.core.display.HTML object>"
            ]
          },
          "metadata": {
            "tags": []
          }
        }
      ]
    },
    {
      "cell_type": "markdown",
      "metadata": {
        "colab_type": "text",
        "id": "HRoljypzdBML"
      },
      "source": [
        "# Hands-On 2: Define the observation in a way that allows the agent to train\n",
        "\n",
        "* You see the agent does not learn with the observation given. Why is that?\n",
        "\n",
        "* Find an observation that works and impement it in `get_observation`\n",
        "\n",
        "*  You need to update the `observation_space` to the same shape of your observation at the same time.\n",
        "\n",
        "* Why does it work? Is this the best observation? How would you even know?\n",
        "\n",
        "* Do you think this would be sufficient for a real world example? If not, what is missing?\n",
        "\n",
        " # STOP HERE"
      ]
    },
    {
      "cell_type": "markdown",
      "metadata": {
        "colab_type": "text",
        "id": "OgVJIrHb8vyF"
      },
      "source": [
        "# Generalizing our Environment\n",
        "\n",
        "* solving a single set up of our line world is not very realistic\n",
        "* there should be variations to rewards, size, and starting position\n",
        "* while training with with each episode we could randomly set rewards and starting postition\n",
        "* different sizes could be simulated by using a fixed max size with a random number of padding entires (e.g -1) at the end\n"
      ]
    },
    {
      "cell_type": "markdown",
      "metadata": {
        "colab_type": "text",
        "id": "MDOWfWAmc8mx"
      },
      "source": [
        "# How does Reinforcement Learning really work?\n",
        "\n",
        "TODO: Link to slides of presentation for Reinforce|"
      ]
    },
    {
      "cell_type": "markdown",
      "metadata": {
        "colab_type": "text",
        "id": "0uotjTcRgE2P"
      },
      "source": [
        "# Hands-On 3: Make your notebook work with Reinforce\n",
        "\n",
        "* What parts do you need to change?\n",
        "\n",
        "* How do the results compare to what you have seen with PPO?\n",
        "\n",
        "* Can you tweak the parameters (like the size of the neural network) to improve the results?\n"
      ]
    },
    {
      "cell_type": "code",
      "metadata": {
        "colab_type": "code",
        "id": "NTHjAT-6Z7UQ",
        "colab": {
          "base_uri": "https://localhost:8080/",
          "height": 379
        },
        "outputId": "a0909182-f878-43f3-803b-380c32c47f56"
      },
      "source": [
        "%%time\n",
        "\n",
        "from easyagents.tfagents import ReinforceAgent\n",
        "from easyagents.config import Training\n",
        "\n",
        "training=Training( num_iterations = 200,\n",
        "                   num_episodes_per_iteration = 10,\n",
        "                   max_steps_per_episode = 50,\n",
        "                   num_epochs_per_iteration = 5 )\n",
        "\n",
        "reinforceAgent = ReinforceAgent(    gym_env_name = env_name,\n",
        "                        fc_layers=(500,500), \n",
        "                        training=training,\n",
        "                        learning_rate=1e-4\n",
        "                   )\n",
        "reinforceAgent.train()"
      ],
      "execution_count": 0,
      "outputs": [
        {
          "output_type": "display_data",
          "data": {
            "image/png": "[encoded data removed]",
            "text/plain": [
              "<Figure size 1224x360 with 4 Axes>"
            ]
          },
          "metadata": {
            "tags": []
          }
        }
      ]
    },
    {
      "cell_type": "code",
      "metadata": {
        "id": "IpNcF2PCaGUB",
        "colab_type": "code",
        "colab": {}
      },
      "source": [
        "from easyagents.tfagents import ReinforceAgent\n",
        "ReinforceAgent?"
      ],
      "execution_count": 0,
      "outputs": []
    },
    {
      "cell_type": "code",
      "metadata": {
        "id": "yfmLCFDsaGUC",
        "colab_type": "code",
        "colab": {}
      },
      "source": [
        ""
      ],
      "execution_count": 0,
      "outputs": []
    }
  ]
}