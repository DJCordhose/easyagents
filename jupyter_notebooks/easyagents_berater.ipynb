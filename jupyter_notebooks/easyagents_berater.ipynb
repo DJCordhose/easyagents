{
 "nbformat": 4,
 "nbformat_minor": 0,
 "metadata": {
  "colab": {
   "name": "easyagents_berater.ipynb",
   "version": "0.3.2",
   "provenance": [],
   "collapsed_sections": [
    "zpzHtN3-kQ26",
    "w3OdHyWEEEwy",
    "bzoq0VM85p46"
   ]
  },
  "language_info": {
   "codemirror_mode": {
    "name": "ipython",
    "version": 3
   },
   "file_extension": ".py",
   "mimetype": "text/x-python",
   "name": "python",
   "nbconvert_exporter": "python",
   "pygments_lexer": "ipython3",
   "version": "3.7.3"
  },
  "kernelspec": {
   "display_name": "Python 3",
   "language": "python",
   "name": "python3"
  },
  "accelerator": "GPU",
  "pycharm": {
   "stem_cell": {
    "cell_type": "raw",
    "source": [],
    "metadata": {
     "collapsed": false
    }
   }
  }
 },
 "cells": [
  {
   "cell_type": "markdown",
   "metadata": {
    "colab_type": "text",
    "id": "eU7ylMh1kQ2y"
   },
   "source": [
    "# Berater Environment v13 (Orso's live)\n",
    "\n",
    "## Changes from v12 (work in progress)\n",
    "* migration to easyagents\n",
    "* Max. number of steps management and debug logging migrated to easyagents.TrainingDuration\n",
    "* render yields the last step, supporting modes 'ansi', 'human', 'rgb_array'\n",
    "* the story of Orso"
   ]
  },
  {
   "cell_type": "markdown",
   "metadata": {
    "colab_type": "text",
    "id": "sQ8Nfk3MKgLt"
   },
   "source": [
    "### Install gym, tensorflow, tf-agents,..., setup display"
   ]
  },
  {
   "cell_type": "code",
   "metadata": {
    "pycharm": {
     "is_executing": false
    },
    "id": "QFQXRNBFI5Re",
    "colab_type": "code",
    "colab": {}
   },
   "source": [
    "!pip install -q easyagents\n",
    "!pip install -q networkx==2.3.0 "
   ],
   "execution_count": 1,
   "outputs": []
  },
  {
   "cell_type": "markdown",
   "source": [
    "##### suppress package warnings, in colab: load additional packages for rendering"
   ],
   "metadata": {
    "collapsed": false,
    "pycharm": {
     "name": "#%% md\n"
    }
   }
  },
  {
   "cell_type": "code",
   "metadata": {
    "id": "DcilvDdeI5Ri",
    "colab_type": "code",
    "colab": {
     "base_uri": "https://localhost:8080/",
     "height": 34
    },
    "outputId": "764ebfe5-ad79-4cad-c9fa-34ae33b6e3e2",
    "pycharm": {
     "is_executing": false
    }
   },
   "source": [
    "import sys\n",
    "import warnings\n",
    "\n",
    "warnings.filterwarnings('ignore')\n",
    "if 'google.colab' in sys.modules:\n",
    "    !apt-get install xvfb >/dev/null\n",
    "    !pip install -q pyvirtualdisplay    \n",
    "    \n",
    "    from pyvirtualdisplay import Display\n",
    "    Display(visible=0, size=(960, 720)).start() "
   ],
   "execution_count": 1,
   "outputs": []
  },
  {
   "cell_type": "markdown",
   "metadata": {
    "colab_type": "text",
    "id": "w3OdHyWEEEwy"
   },
   "source": [
    "# Define Gym Environment"
   ]
  },
  {
   "cell_type": "markdown",
   "metadata": {
    "colab_type": "text",
    "id": "9k_obuGGI5Rk"
   },
   "source": [
    "### Imports"
   ]
  },
  {
   "cell_type": "code",
   "metadata": {
    "colab_type": "code",
    "id": "HQyb_Aq8Kg9j",
    "pycharm": {
     "is_executing": false
    },
    "colab": {}
   },
   "source": [
    "import matplotlib.pyplot as plt\n",
    "import matplotlib.image as mpi\n",
    "from matplotlib.offsetbox import (OffsetImage, AnnotationBbox)\n",
    "import networkx as nx\n",
    "import numpy as np\n",
    "import random\n",
    "\n",
    "import gym\n",
    "from gym.utils import seeding\n",
    "from gym import spaces\n",
    "\n",
    "import pdb"
   ],
   "execution_count": 1,
   "outputs": []
  },
  {
   "cell_type": "markdown",
   "metadata": {
    "colab_type": "text",
    "id": "OsJ6zcXvwN53"
   },
   "source": [
    "### Helper methods"
   ]
  },
  {
   "cell_type": "code",
   "metadata": {
    "colab_type": "code",
    "id": "-S4sZG5ZkQ3T",
    "pycharm": {
     "is_executing": false
    },
    "colab": {}
   },
   "source": [
    "def state_name_to_int(state):\n",
    "    state_name_map = {\n",
    "        'S': 0,\n",
    "        'A': 1,\n",
    "        'B': 2,\n",
    "        'C': 3,\n",
    "        'D': 4,\n",
    "        'E': 5,\n",
    "        'F': 6,\n",
    "        'G': 7,\n",
    "        'H': 8,\n",
    "        'K': 9,\n",
    "        'L': 10,\n",
    "        'M': 11,\n",
    "        'N': 12,\n",
    "        'O': 13\n",
    "    }\n",
    "    return state_name_map[state]\n",
    "\n",
    "def int_to_state_name(state_as_int):\n",
    "    state_map = {\n",
    "        0: 'S',\n",
    "        1: 'A',\n",
    "        2: 'B',\n",
    "        3: 'C',\n",
    "        4: 'D',\n",
    "        5: 'E',\n",
    "        6: 'F',\n",
    "        7: 'G',\n",
    "        8: 'H',\n",
    "        9: 'K',\n",
    "        10: 'L',\n",
    "        11: 'M',\n",
    "        12: 'N',\n",
    "        13: 'O'\n",
    "    }\n",
    "    return state_map[state_as_int]"
   ],
   "execution_count": 2,
   "outputs": []
  },
  {
   "cell_type": "markdown",
   "metadata": {
    "colab_type": "text",
    "id": "x-olom0nwiSX"
   },
   "source": [
    "### Berater Environment (OpenAI Gym)"
   ]
  },
  {
   "cell_type": "code",
   "metadata": {
    "colab_type": "code",
    "id": "3plH2u3Swotj",
    "pycharm": {
     "is_executing": false
    },
    "colab": {}
   },
   "source": [
    "class BeraterEnv(gym.Env):\n",
    "    \"\"\"\n",
    "    The Berater Problem\n",
    "\n",
    "    Actions:\n",
    "    There are 4 discrete deterministic actions, each choosing one direction\n",
    "    \"\"\"\n",
    "    metadata = {'render.modes': ['ansi']}\n",
    "    showStep = False\n",
    "\n",
    "    def __init__(self):\n",
    "        #         self.map = {\n",
    "        #             'S': [('A', 100), ('B', 400), ('C', 200 )],\n",
    "        #             'A': [('B', 250), ('C', 400), ('S', 100 )],\n",
    "        #             'B': [('A', 250), ('C', 250), ('S', 400 )],\n",
    "        #             'C': [('A', 400), ('B', 250), ('S', 200 )]\n",
    "        #         }\n",
    "        self.map = {\n",
    "            'S': [('A', 300), ('B', 100), ('C', 200)],\n",
    "            'A': [('S', 300), ('B', 100), ('E', 100), ('D', 100)],\n",
    "            'B': [('S', 100), ('A', 100), ('C', 50), ('K', 200)],\n",
    "            'C': [('S', 200), ('B', 50), ('M', 100), ('L', 200)],\n",
    "            'D': [('A', 100), ('F', 50)],\n",
    "            'E': [('A', 100), ('F', 100), ('H', 100)],\n",
    "            'F': [('D', 50), ('E', 100), ('G', 200)],\n",
    "            'G': [('F', 200), ('O', 300)],\n",
    "            'H': [('E', 100), ('K', 300)],\n",
    "            'K': [('B', 200), ('H', 300)],\n",
    "            'L': [('C', 200), ('M', 50)],\n",
    "            'M': [('C', 100), ('L', 50), ('N', 100)],\n",
    "            'N': [('M', 100), ('O', 100)],\n",
    "            'O': [('N', 100), ('G', 300)]\n",
    "        }\n",
    "        max_paths = 4\n",
    "        self.action_space = spaces.Discrete(max_paths)\n",
    "\n",
    "        positions = len(self.map)\n",
    "        # observations: position, reward of all 4 local paths, rest reward of all locations\n",
    "        # non existing path is -1000 and no position change\n",
    "        # look at what #getObservation returns if you are confused\n",
    "        low = np.append(np.append([0], np.full(max_paths, -1000)), np.full(positions, 0))\n",
    "        high = np.append(np.append([positions - 1], np.full(max_paths, 1000)), np.full(positions, 1000))\n",
    "        self.observation_space = spaces.Box(low=low,\n",
    "                                            high=high,\n",
    "                                            dtype=np.float32)\n",
    "        self.reward_range = (-1, 1)\n",
    "        self.envEpisodeCount = 0\n",
    "        self.envStepCount = 0\n",
    "\n",
    "        self.reset()\n",
    "        self.optimum = self.calculate_customers_reward()\n",
    "        \n",
    "        base = \"https://raw.githubusercontent.com/christianhidber/easyagents/master/images/\"\n",
    "        self.image_orso = mpi.imread(base + \"Bear.png\")\n",
    "        self.image_cave = mpi.imread(base + \"Cave.png\")\n",
    "        self.image_honey = mpi.imread(base + \"Honey.png\")\n",
    "        self.image_empty_pot = mpi.imread(base + \"EmptyPot.png\")\n",
    "\n",
    "    def seed(self, seed=None):\n",
    "        self.np_random, seed = seeding.np_random(seed)\n",
    "        return [seed]\n",
    "\n",
    "    def iterate_path(self, state, action):\n",
    "        paths = self.map[state]\n",
    "        if action < len(paths):\n",
    "            return paths[action]\n",
    "        else:\n",
    "            # sorry, no such action, stay where you are and pay a high penalty\n",
    "            return (state, 1000)\n",
    "\n",
    "    def step(self, action):\n",
    "        destination, cost = self.iterate_path(self.state, action)\n",
    "\n",
    "        self.cost = cost\n",
    "        self.action=action\n",
    "        self.lastStep_state = self.state\n",
    "        self.state = destination\n",
    "        self.customerReward = self.customer_reward[destination]\n",
    "        self.reward = 0\n",
    "        self.reward = (self.customerReward - self.cost) / self.optimum\n",
    "\n",
    "        self.customer_visited(destination)\n",
    "        done = (destination == 'S' and self.all_customers_visited())\n",
    "\n",
    "        stateAsInt = state_name_to_int(self.state)\n",
    "        self.totalReward += self.reward\n",
    "        self.stepCount += 1\n",
    "        self.envStepCount += 1\n",
    "\n",
    "        if done and not self.isDone:\n",
    "            self.envEpisodeCount += 1\n",
    "\n",
    "        self.isDone = done\n",
    "        observation = self.getObservation(stateAsInt)\n",
    "        info = {\"from\": self.state, \"to\": destination}\n",
    "        return observation, self.reward, done, info\n",
    "\n",
    "    def getObservation(self, position):\n",
    "        result = np.array([position,\n",
    "                           self.getPathObservation(position, 0),\n",
    "                           self.getPathObservation(position, 1),\n",
    "                           self.getPathObservation(position, 2),\n",
    "                           self.getPathObservation(position, 3)\n",
    "                           ],\n",
    "                          dtype=np.float32)\n",
    "        all_rest_rewards = list(self.customer_reward.values())\n",
    "        result = np.append(result, all_rest_rewards)\n",
    "        return result\n",
    "\n",
    "    def getPathObservation(self, position, path):\n",
    "        paths = self.map[self.state]\n",
    "        if path < len(paths):\n",
    "            target, cost = paths[path]\n",
    "            reward = self.customer_reward[target]\n",
    "            result = reward - cost\n",
    "        else:\n",
    "            result = -1000\n",
    "\n",
    "        return result\n",
    "\n",
    "    def customer_visited(self, customer):\n",
    "        self.customer_reward[customer] = 0\n",
    "\n",
    "    def all_customers_visited(self):\n",
    "        return self.calculate_customers_reward() == 0\n",
    "\n",
    "    def calculate_customers_reward(self):\n",
    "        sum = 0\n",
    "        for value in self.customer_reward.values():\n",
    "            sum += value\n",
    "        return sum\n",
    "\n",
    "    def modulate_reward(self):\n",
    "        number_of_customers = len(self.map) - 1\n",
    "        number_per_consultant = int(number_of_customers / 2)\n",
    "        self.customer_reward = {\n",
    "            'S': 0\n",
    "        }\n",
    "        for customer_nr in range(1, number_of_customers + 1):\n",
    "            self.customer_reward[int_to_state_name(customer_nr)] = 0\n",
    "\n",
    "        # every consultant only visits a few random customers\n",
    "        samples = random.sample(range(1, number_of_customers + 1), k=number_per_consultant)\n",
    "        key_list = list(self.customer_reward.keys())\n",
    "        for sample in samples:\n",
    "            self.customer_reward[key_list[sample]] = 1000\n",
    "\n",
    "    def reset(self):\n",
    "        self.totalReward = 0\n",
    "        self.stepCount = 0\n",
    "        self.isDone = False\n",
    "        self.state = 'S'\n",
    "        self.cost = 0\n",
    "        self.action=0\n",
    "        self.lastStep_state = ''\n",
    "        self.customerReward = 0\n",
    "        self.reward = 0\n",
    "        self.envEpisodeCount += 1\n",
    "        self.modulate_reward()\n",
    "        return self.getObservation(state_name_to_int(self.state))\n",
    "\n",
    "    def _render_matplotlib(self):\n",
    "        \"\"\" Renders the current state as a graph with matplotlib        \n",
    "        \"\"\"\n",
    "        nx_graph = nx.Graph()\n",
    "        node_colors = []\n",
    "        node_sizes = []\n",
    "        for node in self.map.keys():\n",
    "            zoom = 0.2\n",
    "            image = self.image_empty_pot\n",
    "            if self.customer_reward[node] > 0:\n",
    "                image = self.image_honey\n",
    "            if node == 'S':\n",
    "                image = self.image_cave\n",
    "            if self.state == node:\n",
    "                image = self.image_orso\n",
    "                zoom = 0.3\n",
    "            nx_graph.add_node(node, image=image, zoom=zoom)\n",
    "        for source, connections in self.map.items():\n",
    "            for target, cost in connections:\n",
    "                if cost >= 300:\n",
    "                    color = 'dodgerblue'\n",
    "                elif cost >= 200:\n",
    "                    color = 'darkgoldenrod'\n",
    "                elif cost >= 100:\n",
    "                    color = 'forestgreen'\n",
    "                else:\n",
    "                    color = 'greenyellow'\n",
    "                nx_graph.add_edge(source, target, color=color, weight=6, image=self.image_cave)\n",
    "        edges = nx_graph.edges()\n",
    "        edge_colors = [nx_graph[u][v]['color'] for u, v in edges]\n",
    "        edge_weights = [nx_graph[u][v]['weight'] for u, v in edges]\n",
    "        pos = nx.planar_layout(nx_graph)\n",
    "\n",
    "        # draw graph using matplotlib\n",
    "        plt.figure(1)\n",
    "        plt.clf()\n",
    "        plt.subplot(111)\n",
    "        ax = plt.gca()\n",
    "        nx.draw(nx_graph, pos=pos, node_color=node_colors, node_size=node_sizes,\n",
    "                edges=edges, edge_color=edge_colors, width=edge_weights, with_labels=True)\n",
    "\n",
    "        # draw images on graph nodes\n",
    "        for n in pos:\n",
    "            xp, yp = pos[n]\n",
    "            offset_image = OffsetImage(nx_graph.node[n]['image'], nx_graph.node[n]['zoom'])\n",
    "            offset_image.image.axes = ax\n",
    "            ab = AnnotationBbox(offset_image, (xp, yp),\n",
    "                                xybox=(0, 0),\n",
    "                                xycoords='data',\n",
    "                                boxcoords=\"offset points\",\n",
    "                                pad=0.0,\n",
    "                                frameon=False\n",
    "                                )\n",
    "            ax.add_artist(ab)\n",
    "\n",
    "        plt.show()\n",
    "        \n",
    "    def _render_ansi(self):\n",
    "        result=(\"Episode: \" + (\"%4.0f  \" % self.envEpisodeCount) +\n",
    "                  \" Step: \" + (\"%4.0f  \" % self.stepCount) +\n",
    "                  self.lastStep_state + ' --' + str(self.action) + '-> ' + self.state +\n",
    "                  ' R=' + (\"% 2.2f\" % self.reward) + ' totalR=' + (\"% 3.2f\" % self.totalReward) +\n",
    "                  ' cost=' + (\"%4.0f\" % self.cost) + ' customerR=' + (\"%4.0f\" % self.customerReward) + ' optimum=' + (\n",
    "                              \"%4.0f\" % self.optimum)\n",
    "                )\n",
    "        return result\n",
    "    \n",
    "    def _render_rgb(self):\n",
    "        figure = self._render_matplotlib()\n",
    "        figure.canvas.draw()\n",
    "        buf = figure.canvas.tostring_rgb()\n",
    "        num_cols, num_rows = figure.canvas.get_width_height()\n",
    "        result = np.fromstring(buf, dtype=np.uint8).reshape(num_rows, num_cols, 3)\n",
    "        plt.clf()\n",
    "        return result\n",
    "\n",
    "    def render(self, mode='human'):\n",
    "        if mode == 'ansi':\n",
    "            return self._render_ansi()\n",
    "        elif mode == 'human':\n",
    "            self._render_matplotlib()\n",
    "            return\n",
    "        elif mode == 'rgb_array':\n",
    "            return self._render_rgb()\n",
    "        else:\n",
    "            super().render(mode=mode)\n",
    "            "
   ],
   "execution_count": 21,
   "outputs": []
  },
  {
   "cell_type": "markdown",
   "metadata": {
    "pycharm": {
     "is_executing": false,
     "name": "#%% md\n"
    },
    "id": "vKUZ3Pk8I5Rt",
    "colab_type": "text"
   },
   "source": [
    "# First Steps\n",
    "A way to view the visualization: \n",
    "\n",
    "Orso - the bear - lives in his cave (position 'S'). Orso knows his area and where he can \n",
    "typically find some honey (positions 'A' to 'O'). The honey places are scattered all over his home turf and connected\n",
    "by some pathways. Some connections are easy like walking over a grassy field (light green, very low cost) or forests \n",
    "(dark green, low cost), a bit strenuous like walking over a hill (brown, higher costs) and very arduous like swimming \n",
    "through a lake (blue, very high costs).\n",
    "\n",
    "There are other bears around competing for the honey pots. So some spots have honey (yellow nodes) and some\n",
    "are already taken (brown nodes).\n",
    "\n",
    "Every morning, Orso awakes and starts looking for some honey. But every day, the honey pots are at a new place\n",
    "( env.reset() ). So Orso climbs a tree near his cave to find out where the honey is. Even with this knowledge it is not clear which route he should take. Being a bear also means being lazy, so Orso wants to get as much honey as possible while at the lowest costs possible. At each spot he has to decide where to go next (the action). His daily journey ends when his back in his own cave.\n",
    "\n",
    "Be god and create Orso's world:"
   ]
  },
  {
   "cell_type": "code",
   "metadata": {
    "pycharm": {
     "is_executing": false
    },
    "id": "_fHrBrxxI5Rt",
    "colab_type": "code",
    "colab": {}
   },
   "source": [
    "b = BeraterEnv()"
   ],
   "execution_count": 22,
   "outputs": []
  },
  {
   "cell_type": "markdown",
   "metadata": {
    "pycharm": {
     "name": "#%% md\n"
    },
    "id": "JD9SGkYxI5Rw",
    "colab_type": "text"
   },
   "source": [
    "A new morning starts (rerun the cell below to see how the honey pots change places). But Orso \n",
    "(depicted in 'fuchsia', Marsha's favorite color ?) doesn't know \n",
    "about the sweetness of honey or his surroundings. So the climbs a tree to get an overview and this is what he sees:"
   ]
  },
  {
   "cell_type": "code",
   "execution_count": 23,
   "outputs": [
    {
     "data": {
      "text/plain": "<Figure size 432x288 with 1 Axes>",
      "image/png": "[encoded data removed]"
     },
     "metadata": {},
     "output_type": "display_data"
    }
   ],
   "source": [
    "b.reset()\n",
    "b.render() "
   ],
   "metadata": {
    "collapsed": false,
    "pycharm": {
     "name": "#%%\n",
     "is_executing": false
    }
   }
  },
  {
   "cell_type": "markdown",
   "metadata": {
    "pycharm": {
     "name": "#%% md\n"
    },
    "id": "3u9Rd6YcI5Ry",
    "colab_type": "text"
   },
   "source": [
    "Take Orso by his paws and go for a few steps:"
   ]
  },
  {
   "cell_type": "code",
   "metadata": {
    "pycharm": {
     "is_executing": false,
     "name": "#%%\n"
    },
    "id": "s2RYX2_2I5Ry",
    "colab_type": "code",
    "colab": {
     "base_uri": "https://localhost:8080/",
     "height": 336
    },
    "outputId": "8d618bb0-6187-4e5f-8a61-1b1032074b52"
   },
   "source": [
    "b.step(1)\n",
    "print(b.render(mode='ansi'))\n",
    "b.render()\n"
   ],
   "execution_count": 9,
   "outputs": [
    {
     "name": "stdout",
     "text": [
      "Episode:    2   Step:    1  S --1-> B R= 0.15 totalR= 0.15 cost= 100 customerR=1000 optimum=6000\n"
     ],
     "output_type": "stream"
    },
    {
     "data": {
      "text/plain": "<Figure size 432x288 with 1 Axes>",
      "image/png": "[encoded data removed]"
     },
     "metadata": {},
     "output_type": "display_data"
    }
   ]
  },
  {
   "cell_type": "markdown",
   "metadata": {
    "id": "UjkFXVspI5R1",
    "colab_type": "text"
   },
   "source": [
    "Note that the honey pot nodes turn brown once Orso has passed and taken the honey."
   ]
  },
  {
   "cell_type": "code",
   "metadata": {
    "pycharm": {
     "is_executing": false,
     "name": "#%%\n"
    },
    "id": "TtXMSrM0I5R2",
    "colab_type": "code",
    "colab": {
     "base_uri": "https://localhost:8080/",
     "height": 336
    },
    "outputId": "17bcc585-bd42-435b-95ce-3b18bb59747d"
   },
   "source": [
    "b.step(3)\n",
    "print(b.render(mode='ansi'))\n",
    "b.render()"
   ],
   "execution_count": 10,
   "outputs": [
    {
     "name": "stdout",
     "text": [
      "Episode:    2   Step:    2  B --3-> K R= 0.13 totalR= 0.28 cost= 200 customerR=1000 optimum=6000\n"
     ],
     "output_type": "stream"
    },
    {
     "data": {
      "text/plain": "<Figure size 432x288 with 1 Axes>",
      "image/png": "[encoded data removed]"
     },
     "metadata": {},
     "output_type": "display_data"
    }
   ]
  },
  {
   "cell_type": "code",
   "metadata": {
    "pycharm": {
     "is_executing": false,
     "name": "#%%\n"
    },
    "id": "b3eB5c7kI5R4",
    "colab_type": "code",
    "colab": {
     "base_uri": "https://localhost:8080/",
     "height": 336
    },
    "outputId": "c0048202-fde0-48f7-b881-a3f6edde592f"
   },
   "source": [
    "b.step(1)\n",
    "print(b.render(mode='ansi'))\n",
    "b.render()"
   ],
   "execution_count": 11,
   "outputs": [
    {
     "name": "stdout",
     "text": [
      "Episode:    2   Step:    3  K --1-> H R=-0.05 totalR= 0.23 cost= 300 customerR=   0 optimum=6000\n"
     ],
     "output_type": "stream"
    },
    {
     "data": {
      "text/plain": "<Figure size 432x288 with 1 Axes>",
      "image/png": "[encoded data removed]"
     },
     "metadata": {},
     "output_type": "display_data"
    }
   ]
  },
  {
   "cell_type": "markdown",
   "metadata": {
    "colab_type": "text",
    "id": "EYaTAvAyYO-U"
   },
   "source": [
    "Now Orso must start to learn by himself to take actions to gather all the honey while minimizing the effort:"
   ]
  },
  {
   "cell_type": "markdown",
   "metadata": {
    "id": "_uEfpOeeI5R8",
    "colab_type": "text"
   },
   "source": [
    "# Train policy with tfagents PpoAgent\n",
    "\n",
    "### Register with OpenAI Gym"
   ]
  },
  {
   "cell_type": "code",
   "metadata": {
    "pycharm": {
     "is_executing": false
    },
    "id": "OS3pnnbAI5R9",
    "colab_type": "code",
    "colab": {
     "base_uri": "https://localhost:8080/",
     "height": 34
    },
    "outputId": "647f20ea-4d4f-4346-e1ec-c304f1382d32"
   },
   "source": [
    "if not 'isEnvRegistered' in locals():\n",
    "  env_name=\"Berater-v1\"\n",
    "  gym.envs.registration.register(id=env_name,entry_point=BeraterEnv,max_episode_steps=1000)\n",
    "  isEnvRegistered=True\n",
    "  print(\"Berater registered as '\" + env_name + \"'\")\n",
    "else:\n",
    "  print(\"Already registered\")"
   ],
   "execution_count": 12,
   "outputs": []
  },
  {
   "cell_type": "markdown",
   "metadata": {
    "id": "zzGp2sTZI5R_",
    "colab_type": "text"
   },
   "source": [
    "##  Dry run (short training, no logging)"
   ]
  },
  {
   "cell_type": "code",
   "metadata": {
    "pycharm": {
     "is_executing": false
    },
    "id": "Q9TVf1pPI5R_",
    "colab_type": "code",
    "colab": {}
   },
   "source": [
    "from easyagents.tfagents import PpoAgent\n",
    "from easyagents.config import TrainingDurationFast\n",
    "from easyagents.config import LoggingSilent"
   ],
   "execution_count": 13,
   "outputs": []
  },
  {
   "cell_type": "code",
   "metadata": {
    "id": "p6bxINs-SUH2",
    "colab_type": "code",
    "colab": {},
    "pycharm": {
     "is_executing": false
    }
   },
   "source": [
    "import tensorflow as tf"
   ],
   "execution_count": 14,
   "outputs": []
  },
  {
   "cell_type": "code",
   "metadata": {
    "pycharm": {
     "is_executing": false,
     "name": "#%%\n"
    },
    "id": "r-MT_PYVI5SB",
    "colab_type": "code",
    "colab": {
     "base_uri": "https://localhost:8080/",
     "height": 190
    },
    "outputId": "4e1ee416-bcd7-497d-d1a7-2a151dd29658"
   },
   "source": [
    "ppoAgent = PpoAgent(    gym_env_name = 'Berater-v1',                        \n",
    "                        training_duration=TrainingDurationFast(max_steps_per_episode = 50),\n",
    "                        logging=LoggingSilent())\n",
    "ppoAgent.train()"
   ],
   "execution_count": 15,
   "outputs": []
  },
  {
   "cell_type": "markdown",
   "metadata": {
    "id": "goFm73rXI5SD",
    "colab_type": "text"
   },
   "source": [
    "### Visualize training performance"
   ]
  },
  {
   "cell_type": "code",
   "metadata": {
    "pycharm": {
     "is_executing": false
    },
    "id": "XBiUxH0qI5SE",
    "colab_type": "code",
    "colab": {
     "base_uri": "https://localhost:8080/",
     "height": 282
    },
    "outputId": "a972c815-985a-4bcd-9588-8a1ec63ca94b"
   },
   "source": [
    "ppoAgent.plot_average_rewards()"
   ],
   "execution_count": 16,
   "outputs": []
  },
  {
   "cell_type": "code",
   "metadata": {
    "pycharm": {
     "is_executing": false
    },
    "id": "P--aCYtlI5SH",
    "colab_type": "code",
    "colab": {
     "base_uri": "https://localhost:8080/",
     "height": 279
    },
    "outputId": "644d9fb5-5bc7-4992-a8e3-466c5707430a"
   },
   "source": [
    "ppoAgent.plot_average_steps()"
   ],
   "execution_count": 17,
   "outputs": []
  },
  {
   "cell_type": "code",
   "metadata": {
    "pycharm": {
     "is_executing": false
    },
    "id": "HIowhJlJI5SJ",
    "colab_type": "code",
    "colab": {
     "base_uri": "https://localhost:8080/",
     "height": 279
    },
    "outputId": "160a0b69-db94-4481-cdcf-ec1b50ca0d1b"
   },
   "source": [
    "ppoAgent.plot_losses()"
   ],
   "execution_count": 18,
   "outputs": []
  },
  {
   "cell_type": "markdown",
   "metadata": {
    "id": "s5XjtqevI5SM",
    "colab_type": "text"
   },
   "source": [
    "## Some training & logging (default, on custom network)"
   ]
  },
  {
   "cell_type": "code",
   "metadata": {
    "pycharm": {
     "is_executing": false
    },
    "id": "8wWKZBqCI5SN",
    "colab_type": "code",
    "colab": {}
   },
   "source": [
    "from easyagents.tfagents import PpoAgent\n",
    "from easyagents.config import TrainingDuration"
   ],
   "execution_count": 19,
   "outputs": []
  },
  {
   "cell_type": "code",
   "metadata": {
    "pycharm": {
     "is_executing": false
    },
    "id": "qfEEykagI5SP",
    "colab_type": "code",
    "colab": {
     "base_uri": "https://localhost:8080/",
     "height": 578
    },
    "outputId": "53f01f20-70c3-4a24-942f-6d27bb571b1b"
   },
   "source": [
    "ppoAgent = PpoAgent( gym_env_name = 'Berater-v1', fc_layers=(500,500,500), \n",
    "                     training_duration=TrainingDuration(max_steps_per_episode = 50) )\n",
    "ppoAgent.train()"
   ],
   "execution_count": 20,
   "outputs": []
  },
  {
   "cell_type": "markdown",
   "metadata": {
    "id": "vU8UQG6vI5SR",
    "colab_type": "text"
   },
   "source": [
    "### Visualize"
   ]
  },
  {
   "cell_type": "code",
   "metadata": {
    "pycharm": {
     "is_executing": false
    },
    "id": "V_XoQk9gI5SR",
    "colab_type": "code",
    "colab": {
     "base_uri": "https://localhost:8080/",
     "height": 279
    },
    "outputId": "d04f90ac-e78e-47bc-b091-83e03ae78f6a"
   },
   "source": [
    "ppoAgent.plot_average_rewards()"
   ],
   "execution_count": 21,
   "outputs": []
  },
  {
   "cell_type": "code",
   "metadata": {
    "pycharm": {
     "is_executing": false
    },
    "id": "i2IdBc35I5SS",
    "colab_type": "code",
    "colab": {
     "base_uri": "https://localhost:8080/",
     "height": 279
    },
    "outputId": "86aad61e-a309-469c-f194-c2df15577c5a"
   },
   "source": [
    "ppoAgent.plot_average_steps()"
   ],
   "execution_count": 22,
   "outputs": []
  },
  {
   "cell_type": "code",
   "metadata": {
    "pycharm": {
     "is_executing": false
    },
    "id": "jcJt3el7I5SU",
    "colab_type": "code",
    "colab": {
     "base_uri": "https://localhost:8080/",
     "height": 282
    },
    "outputId": "88e69f73-d6b1-4b6d-a830-c11b57e59956"
   },
   "source": [
    "ppoAgent.plot_losses()"
   ],
   "execution_count": 23,
   "outputs": []
  },
  {
   "cell_type": "code",
   "metadata": {
    "id": "FS6E4aW4I5SV",
    "colab_type": "code",
    "colab": {
     "base_uri": "https://localhost:8080/",
     "height": 867
    },
    "outputId": "17492083-202f-49c8-e773-582894dacc90",
    "pycharm": {
     "is_executing": false
    }
   },
   "source": [
    "ppoAgent.render_episodes(num_episodes=1,mode='ansi')"
   ],
   "execution_count": 24,
   "outputs": []
  },
  {
   "cell_type": "code",
   "metadata": {
    "id": "4FbD6aMmI5SW",
    "colab_type": "code",
    "colab": {
     "base_uri": "https://localhost:8080/",
     "height": 803
    },
    "outputId": "3662f509-1e2e-4e25-88ce-d3afb6004f62",
    "pycharm": {
     "is_executing": false
    }
   },
   "source": [
    "from IPython.display import HTML\n",
    "\n",
    "HTML( ppoAgent.render_episodes_to_html(num_episodes=1, fps=10) )"
   ],
   "execution_count": 26,
   "outputs": []
  },
  {
   "cell_type": "markdown",
   "metadata": {
    "id": "FfO2VaVhI5SY",
    "colab_type": "text"
   },
   "source": [
    "## Custom training (duration, learning rate)"
   ]
  },
  {
   "cell_type": "code",
   "metadata": {
    "pycharm": {
     "is_executing": false
    },
    "id": "gFISrkwhI5SZ",
    "colab_type": "code",
    "colab": {}
   },
   "source": [
    "from easyagents.tfagents import PpoAgent\n",
    "from easyagents.config import TrainingDuration"
   ],
   "execution_count": 27,
   "outputs": []
  },
  {
   "cell_type": "code",
   "metadata": {
    "pycharm": {
     "is_executing": false
    },
    "id": "gorOKt3dI5Sb",
    "colab_type": "code",
    "colab": {}
   },
   "source": [
    "training_duration=TrainingDuration( num_iterations = 2500,\n",
    "                                    num_episodes_per_iteration = 10,\n",
    "                                    max_steps_per_episode = 50,\n",
    "                                    num_epochs_per_iteration = 5 )"
   ],
   "execution_count": 28,
   "outputs": []
  },
  {
   "cell_type": "code",
   "metadata": {
    "pycharm": {
     "is_executing": true
    },
    "id": "x8ZFVRWdI5Sd",
    "colab_type": "code",
    "colab": {
     "base_uri": "https://localhost:8080/",
     "height": 1000
    },
    "outputId": "b5932d8c-40c6-4298-9d42-e423726ac743"
   },
   "source": [
    "%%time\n",
    "\n",
    "ppoAgent = PpoAgent(    gym_env_name = 'Berater-v1',\n",
    "                        fc_layers=(500,500,500), \n",
    "                        training_duration=training_duration,\n",
    "                        learning_rate=1e-4\n",
    "                   )\n",
    "ppoAgent.train()"
   ],
   "execution_count": 29,
   "outputs": []
  },
  {
   "cell_type": "markdown",
   "metadata": {
    "id": "8OJYNSBaI5Sf",
    "colab_type": "text"
   },
   "source": [
    "### Visualize (with custom y-limits and movie)"
   ]
  },
  {
   "cell_type": "code",
   "metadata": {
    "pycharm": {
     "is_executing": true
    },
    "id": "JVAsAknHI5Sf",
    "colab_type": "code",
    "colab": {
     "base_uri": "https://localhost:8080/",
     "height": 283
    },
    "outputId": "5a80b4b4-761f-4086-d3da-9dfb7b99947d"
   },
   "source": [
    "ppoAgent.plot_average_rewards(ylim=[-2,1])"
   ],
   "execution_count": 30,
   "outputs": []
  },
  {
   "cell_type": "code",
   "metadata": {
    "pycharm": {
     "is_executing": true
    },
    "id": "xmMSHyDcI5Sg",
    "colab_type": "code",
    "colab": {
     "base_uri": "https://localhost:8080/",
     "height": 279
    },
    "outputId": "f8d0851b-14e4-4250-af94-bb56f5c217e2"
   },
   "source": [
    "ppoAgent.plot_average_steps(ylim=[0,210])"
   ],
   "execution_count": 31,
   "outputs": []
  },
  {
   "cell_type": "code",
   "metadata": {
    "pycharm": {
     "is_executing": true,
     "name": "#%%\n"
    },
    "id": "ZmfkV3uCI5Si",
    "colab_type": "code",
    "colab": {
     "base_uri": "https://localhost:8080/",
     "height": 283
    },
    "outputId": "416a0c82-d4e9-47d3-ff2d-2b80d005e4a4"
   },
   "source": [
    "ppoAgent.plot_losses(ylim=[0,500])"
   ],
   "execution_count": 32,
   "outputs": []
  },
  {
   "cell_type": "code",
   "metadata": {
    "pycharm": {
     "is_executing": false,
     "name": "#%%\n"
    },
    "id": "C0XVkNWaI5Sj",
    "colab_type": "code",
    "colab": {
     "base_uri": "https://localhost:8080/",
     "height": 803
    },
    "outputId": "642eb860-c5e8-47a7-e6de-7cb18063cf84"
   },
   "source": [
    "from IPython.display import HTML\n",
    "\n",
    "HTML( ppoAgent.render_episodes_to_html(num_episodes=1, fps=1) )\n"
   ],
   "execution_count": 33,
   "outputs": []
  }
 ]
}