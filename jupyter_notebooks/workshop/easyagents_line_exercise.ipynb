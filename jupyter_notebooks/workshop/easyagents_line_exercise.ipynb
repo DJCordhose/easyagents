{
 "cells": [
  {
   "cell_type": "markdown",
   "metadata": {
    "colab_type": "text",
    "id": "view-in-github"
   },
   "source": [
    "<a href=\"https://colab.research.google.com/github/christianhidber/easyagents/blob/master/jupyter_notebooks/workshop/easyagents_line_exercise.ipynb\" target=\"_parent\"><img src=\"https://colab.research.google.com/assets/colab-badge.svg\" alt=\"Open In Colab\"/></a>"
   ]
  },
  {
   "cell_type": "markdown",
   "metadata": {
    "colab_type": "text",
    "id": "eU7ylMh1kQ2y"
   },
   "source": [
    "# Line World\n",
    "\n",
    "* an agent lives in a finite linear world of uneven elements\n",
    "* at each moment it is in a certain position\n",
    "* initial position is the middle\n",
    "* some positions gain rewards, some don't\n",
    "* rewards are between 0 and 15\n",
    "* agent can either move left or right\n",
    "* Objective: maximize total reward = sum(rewards) + sum(steps)\n",
    "* Cost per step: -1\n",
    "* Done Condition: agent is at pos 0 or total reward <= -20\n",
    "\n",
    "<img src='line-world.png'>"
   ]
  },
  {
   "cell_type": "markdown",
   "metadata": {
    "colab_type": "text",
    "id": "sQ8Nfk3MKgLt"
   },
   "source": [
    "### Install gym, tensorflow, tf-agents,..., setup display"
   ]
  },
  {
   "cell_type": "code",
   "execution_count": 1,
   "metadata": {
    "colab": {},
    "colab_type": "code",
    "id": "QFQXRNBFI5Re",
    "pycharm": {
     "is_executing": false
    }
   },
   "outputs": [],
   "source": [
    "import sys\n",
    "if 'google.colab' in sys.modules:\n",
    "    !pip install -q easyagents\n",
    "    !pip install -q networkx==2.3.0 "
   ]
  },
  {
   "cell_type": "markdown",
   "metadata": {
    "colab_type": "text",
    "id": "aS8yqznR8UL7",
    "pycharm": {
     "name": "#%% md\n"
    }
   },
   "source": [
    "##### suppress package warnings, in colab: load additional packages for rendering"
   ]
  },
  {
   "cell_type": "code",
   "execution_count": 2,
   "metadata": {
    "colab": {
     "base_uri": "https://localhost:8080/",
     "height": 34
    },
    "colab_type": "code",
    "id": "DcilvDdeI5Ri",
    "outputId": "63c36d14-343d-41c8-ec55-e32dde15bfbd",
    "pycharm": {
     "is_executing": false
    }
   },
   "outputs": [],
   "source": [
    "import sys\n",
    "import warnings\n",
    "import matplotlib.pyplot as plt\n",
    "\n",
    "warnings.filterwarnings('ignore')\n",
    "if 'google.colab' in sys.modules:\n",
    "    !apt-get install xvfb >/dev/null\n",
    "    !pip install pyvirtualdisplay >/dev/null    \n",
    "    \n",
    "    from pyvirtualdisplay import Display\n",
    "    Display(visible=0, size=(960, 720)).start() "
   ]
  },
  {
   "cell_type": "markdown",
   "metadata": {
    "colab_type": "text",
    "id": "w3OdHyWEEEwy"
   },
   "source": [
    "# Define Gym Environment\n",
    "\n",
    "## What you need to define\n",
    "1. Actions\n",
    "1. Observation\n",
    "1. Reward\n",
    "1. Game done?\n",
    "\n",
    "## Remember how an environment looks like\n",
    "\n",
    "```python\n",
    "class MyEnv(gym.Env):\n",
    "  def __init__(self):\n",
    "      # set up the environment\n",
    "\n",
    "    def step(self, action):\n",
    "        # make the action have an impact on the environment\n",
    "        # and return the information the algorithms need\n",
    "        return observation, reward, done, info\n",
    "\n",
    "    def reset(self):\n",
    "        # reset this environment to the initial state and return the according observation\n",
    "        return observation\n",
    "\n",
    "    def render(self, mode='ansi'):\n",
    "        # spits out a human readable rendering of the environment\n",
    "        if mode == 'ansi':\n",
    "            return self._render_ansi()\n",
    "        if mode == 'human':\n",
    "            return self._render_human()            \n",
    "        elif mode == 'rgb_array':\n",
    "            return self._render_rgb() \n",
    "```\n",
    "\n",
    "https://gym.openai.com/\n",
    "\n",
    "https://github.com/openai/gym/blob/master/docs/creating-environments.md\n",
    "\n",
    "## Applying Reinforcement Learning to a problem\n",
    "\n",
    "* Is your problem approachable by Reinforcement Learning (more on that later)?\n",
    "  * Can you defined what would be the agent and what the environment?\n",
    "* You can simulate your environment or are able to safely perform a large number of experiments in the real world\n",
    "* You need to be able to define your problem as a Markov Decision Process (MDP)\n",
    "* Good sanity check: Would you as a human be able to play the game based on the observation and reward you get?\n",
    "* there are different kinds of observations\n",
    "  * fully observed environment (e.g. Jump'n'Run Game)\n",
    "  * partially observed environment (e.g. Ego Shooter)\n",
    "* Choose a proper Reinforcement Learning Algorithm (more on that later)\n",
    "\n",
    "## MDP: Markov Decision Process in Reinforcement Learning\n",
    "\n",
    "* https://en.wikipedia.org/wiki/Markov_decision_process\n",
    "* Model your observation in a way that which actions the agent took to get to a certain state are irrelevant\n",
    "* That means all information necessary to derive a proper action need to be in a single observation\n",
    "* The agents must not be forced to also learn the sequence of observations\n",
    "* E.g. the position of the PacMan is not enough. Which path taken results in where the ghosts are and what pills have been eaten"
   ]
  },
  {
   "cell_type": "code",
   "execution_count": 3,
   "metadata": {
    "colab": {},
    "colab_type": "code",
    "id": "6yEvuCliwJiD",
    "pycharm": {
     "is_executing": false
    }
   },
   "outputs": [],
   "source": [
    "import numpy as np\n",
    "import math\n",
    "\n",
    "import gym\n",
    "from gym import error, spaces, utils\n",
    "\n",
    "import matplotlib.pyplot as plt\n",
    "from IPython.display import display, clear_output\n",
    "\n",
    "LEFT = 0\n",
    "RIGHT = 1\n",
    "\n",
    "class LineWorldEnv(gym.Env):\n",
    "\n",
    "    # constructor sets up the properties of the environment\n",
    "    # most important action space, observation space and reward range\n",
    "    def __init__(self, state=[10, 0, 0, 5, 0, 2, 15]):\n",
    "        self.state = np.array(state)\n",
    "        # the agent can perform  different actions\n",
    "        number_of_actions = 2\n",
    "        self.action_space = spaces.Discrete(number_of_actions)\n",
    "\n",
    "        self.size_of_world = len(state)\n",
    "        \n",
    "        # CHANGE HERE START\n",
    "\n",
    "        # this needs to match size and range of what you return in\n",
    "        # get_observation \n",
    "        self.max_reward = 15\n",
    "        self.min_reward = 0\n",
    "        self.observation_size = 5\n",
    "\n",
    "        # CHANGE HERE END\n",
    "        \n",
    "        # the environment's state is described by the position of the agent and the remaining rewards\n",
    "        low = np.full(self.observation_size, self.min_reward)\n",
    "        high = np.full(self.observation_size, self.max_reward)\n",
    "        self.observation_space = spaces.Box(low=low,\n",
    "                                            high=high,\n",
    "                                            dtype=np.float32)\n",
    "\n",
    "        self.reward_range = (-1, 1)\n",
    "        # 32 is only theoretical, because we need to travel at least 9 steps, leaving us with 23 practically\n",
    "        self.optimum = self.state.sum() - 9\n",
    "\n",
    "        self._figure = None\n",
    "\n",
    "        self.reset()\n",
    "\n",
    "    # CHANGE HERE START\n",
    "\n",
    "    def get_observation(self):\n",
    "        # if you want to append two lists/arrays use np.append(list1, list2)\n",
    "        return np.full(self.observation_size, 0)\n",
    "\n",
    "    # CHANGE HERE END\n",
    "\n",
    "    def reset(self):\n",
    "        self.total_reward = 0\n",
    "        self.done = False\n",
    "        self.pos = math.floor(len(self.state) / 2)\n",
    "        self.steps = 0\n",
    "\n",
    "        self.remaining_rewards = np.array(self.state, copy=True)\n",
    "        return self.get_observation()\n",
    "\n",
    "    def step(self, action):\n",
    "        if action == LEFT and self.pos != 0:\n",
    "          self.pos -= 1\n",
    "        elif self.pos < self.size_of_world -1:\n",
    "          self.pos += 1\n",
    "\n",
    "        reward = self.remaining_rewards[self.pos] - 1\n",
    "        normalized_reward = reward / self.optimum\n",
    "        self.total_reward += normalized_reward\n",
    "        self.remaining_rewards[self.pos] = 0\n",
    "\n",
    "        if self.pos == 0 or self.total_reward * self.optimum <= -20:\n",
    "          self.done = True\n",
    "        self.steps += 1\n",
    "\n",
    "        observation = self.get_observation()\n",
    "        info = None\n",
    "        return observation, normalized_reward, self.done, info\n",
    "\n",
    "    def _render_to_ansi(self):\n",
    "        return 'position: {position}, remaining rewards: {rewards}, total reward so far: {total}, normalized total reward: {normalized_total}, steps so far: {steps}, game done: {done}'.format(\n",
    "            position=self.pos, \n",
    "            rewards=self.remaining_rewards, \n",
    "            total=self.total_reward * self.optimum, \n",
    "            normalized_total = self.total_reward,\n",
    "            done=self.done,\n",
    "            steps=self.steps)              \n",
    "\n",
    "    def _render_to_figure(self):\n",
    "        \"\"\" Renders the current state as a graph with matplotlib \"\"\"\n",
    "        if self._figure is not None:\n",
    "            plt.close(self._figure)\n",
    "        self._figure, ax = plt.subplots(1, figsize=(8, 4))\n",
    "        ax.set_ylim(bottom=-1, top=self.max_reward + 1)\n",
    "        x = np.arange(0, self.size_of_world, 1, dtype=np.uint8)\n",
    "        y = self.remaining_rewards\n",
    "        plt.plot([self.pos, self.pos], [0, 2], 'r^-')\n",
    "        ax.scatter(x, y, s=75)\n",
    "        self._figure.canvas.draw()\n",
    "        \n",
    "    def _render_to_human(self):\n",
    "        \"\"\" show render_to_figure in a jupyter cell. \n",
    "            the result of each call is rendered in the same cell\"\"\"\n",
    "        clear_output(wait=True)\n",
    "        self._render_to_figure()\n",
    "        plt.pause(0.01)\n",
    "        \n",
    "    def _render_to_rgb(self):\n",
    "        \"\"\" convert the output of render_to_figure to a rgb_array \"\"\"\n",
    "        self._render_to_figure()\n",
    "        self._figure.canvas.draw()\n",
    "        buf = self._figure.canvas.tostring_rgb()\n",
    "        num_cols, num_rows = self._figure.canvas.get_width_height()\n",
    "        plt.close(self._figure)\n",
    "        self._figure = None\n",
    "        result = np.fromstring(buf, dtype=np.uint8).reshape(num_rows, num_cols, 3)\n",
    "        return result        \n",
    "\n",
    "    def render(self, mode='ansi'):\n",
    "        if mode == 'ansi':\n",
    "            return self._render_to_ansi()\n",
    "        elif mode == 'human':\n",
    "            return self._render_to_human()\n",
    "        elif mode == 'rgb_array':\n",
    "            return self._render_to_rgb()\n",
    "        else:\n",
    "            super().render(mode=mode)\n"
   ]
  },
  {
   "cell_type": "markdown",
   "metadata": {
    "colab_type": "text",
    "id": "D2aXwjnTc9LV"
   },
   "source": [
    "# Hands-On 1: Try out our environment\n",
    "\n",
    "_use yourself to simulate the agent_\n",
    "\n",
    "* Create an environment and play the game to the end manually using the cells below\n",
    "* Use a sequence of left and right commands to find the best solution possible\n",
    "* Show yourself only local observations and reward for each step and choose an action\n",
    "* Would this be sufficent for a good reward?\n",
    "* What reward do you get? What is the optimum?"
   ]
  },
  {
   "cell_type": "code",
   "execution_count": 4,
   "metadata": {
    "colab": {},
    "colab_type": "code",
    "id": "_fHrBrxxI5Rt",
    "pycharm": {
     "is_executing": false
    }
   },
   "outputs": [],
   "source": [
    "env = LineWorldEnv()"
   ]
  },
  {
   "cell_type": "code",
   "execution_count": 5,
   "metadata": {
    "colab": {
     "base_uri": "https://localhost:8080/",
     "height": 34
    },
    "colab_type": "code",
    "id": "SJARCo5U9PfR",
    "outputId": "9c5e55e6-5ee1-49e5-947f-d0fbb44fe345"
   },
   "outputs": [
    {
     "data": {
      "text/plain": [
       "array([0, 0, 0, 0, 0])"
      ]
     },
     "execution_count": 5,
     "metadata": {},
     "output_type": "execute_result"
    }
   ],
   "source": [
    "# shows the raw observation, this does not look too good\n",
    "env.reset()"
   ]
  },
  {
   "cell_type": "code",
   "execution_count": 6,
   "metadata": {
    "colab": {
     "base_uri": "https://localhost:8080/",
     "height": 34
    },
    "colab_type": "code",
    "id": "stTFpBh_9R6X",
    "outputId": "02b21abe-1075-4c46-aa61-b5f93ac413c2"
   },
   "outputs": [
    {
     "data": {
      "text/plain": [
       "'position: 3, remaining rewards: [10  0  0  5  0  2 15], total reward so far: 0, normalized total reward: 0, steps so far: 0, game done: False'"
      ]
     },
     "execution_count": 6,
     "metadata": {},
     "output_type": "execute_result"
    }
   ],
   "source": [
    "# more complete and readable information\n",
    "env.render()"
   ]
  },
  {
   "cell_type": "code",
   "execution_count": 7,
   "metadata": {
    "colab": {
     "base_uri": "https://localhost:8080/",
     "height": 34
    },
    "colab_type": "code",
    "id": "s2RYX2_2I5Ry",
    "outputId": "6b23594e-98a3-481e-b305-a47cfa98a0dc",
    "pycharm": {
     "is_executing": false,
     "name": "#%%\n"
    }
   },
   "outputs": [
    {
     "data": {
      "text/plain": [
       "'position: 2, remaining rewards: [10  0  0  5  0  2 15], total reward so far: -1.0, normalized total reward: -0.043478260869565216, steps so far: 1, game done: False'"
      ]
     },
     "execution_count": 7,
     "metadata": {},
     "output_type": "execute_result"
    }
   ],
   "source": [
    "env.step(LEFT)\n",
    "env.render()"
   ]
  },
  {
   "cell_type": "code",
   "execution_count": 8,
   "metadata": {
    "colab": {
     "base_uri": "https://localhost:8080/",
     "height": 34
    },
    "colab_type": "code",
    "id": "JdHyE42vBhbC",
    "outputId": "e832109b-9849-493e-8ac2-0823a686ac24"
   },
   "outputs": [
    {
     "data": {
      "text/plain": [
       "'position: 3, remaining rewards: [10  0  0  0  0  2 15], total reward so far: 3.0, normalized total reward: 0.13043478260869565, steps so far: 2, game done: False'"
      ]
     },
     "execution_count": 8,
     "metadata": {},
     "output_type": "execute_result"
    }
   ],
   "source": [
    "env.step(RIGHT)\n",
    "env.render()"
   ]
  },
  {
   "cell_type": "code",
   "execution_count": 9,
   "metadata": {
    "colab": {
     "base_uri": "https://localhost:8080/",
     "height": 269
    },
    "colab_type": "code",
    "id": "RvfFHbSfckCy",
    "outputId": "17a0f5be-c5a8-4bbe-b0b3-a3990869ab36"
   },
   "outputs": [
    {
     "data": {
      "image/png": "[encoded data removed]",
      "text/plain": [
       "<Figure size 576x288 with 1 Axes>"
      ]
     },
     "metadata": {
      "needs_background": "light"
     },
     "output_type": "display_data"
    }
   ],
   "source": [
    "env.render(mode='human')"
   ]
  },
  {
   "cell_type": "markdown",
   "metadata": {
    "colab_type": "text",
    "id": "UYIx2ER7dCkX"
   },
   "source": [
    "### Register with OpenAI Gym"
   ]
  },
  {
   "cell_type": "code",
   "execution_count": 10,
   "metadata": {
    "colab": {},
    "colab_type": "code",
    "id": "OS3pnnbAI5R9",
    "pycharm": {
     "is_executing": false
    }
   },
   "outputs": [
    {
     "name": "stderr",
     "output_type": "stream",
     "text": [
      "WARNING: Logging before flag parsing goes to stderr.\n",
      "W0917 16:57:30.372815  2056 __init__.py:690] \n",
      "\n",
      "  TensorFlow's `tf-nightly` package will soon be updated to TensorFlow 2.0.\n",
      "\n",
      "  Please upgrade your code to TensorFlow 2.0:\n",
      "    * https://www.tensorflow.org/beta/guide/migration_guide\n",
      "\n",
      "  Or install the latest stable TensorFlow 1.X release:\n",
      "    * `pip install -U \"tensorflow==1.*\"`\n",
      "\n",
      "  Otherwise your code may be broken by the change.\n",
      "\n",
      "  \n"
     ]
    }
   ],
   "source": [
    "from easyagents.env import register_with_gym\n",
    "\n",
    "env_name = \"LineWorld-v0\"\n",
    "register_with_gym(gym_env_name=env_name, entry_point=LineWorldEnv, max_episode_steps=100)"
   ]
  },
  {
   "cell_type": "markdown",
   "metadata": {
    "colab_type": "text",
    "id": "_uEfpOeeI5R8"
   },
   "source": [
    "# Train policy with tfagents PpoAgent"
   ]
  },
  {
   "cell_type": "code",
   "execution_count": 11,
   "metadata": {
    "colab": {
     "base_uri": "https://localhost:8080/",
     "height": 413
    },
    "colab_type": "code",
    "id": "gFISrkwhI5SZ",
    "outputId": "51526108-cff9-4f9a-b4d8-92c0a9b5fd11",
    "pycharm": {
     "is_executing": false
    }
   },
   "outputs": [
    {
     "data": {
      "image/png": "[encoded data removed]",
      "text/plain": [
       "<Figure size 1224x432 with 4 Axes>"
      ]
     },
     "metadata": {},
     "output_type": "display_data"
    },
    {
     "name": "stdout",
     "output_type": "stream",
     "text": [
      "Wall time: 2min 5s\n"
     ]
    },
    {
     "data": {
      "text/plain": [
       "<easyagents.core.ActorCriticTrainContext at 0x19d1fc81408>"
      ]
     },
     "execution_count": 11,
     "metadata": {},
     "output_type": "execute_result"
    },
    {
     "data": {
      "image/png": "[encoded data removed]",
      "text/plain": [
       "<Figure size 1224x432 with 4 Axes>"
      ]
     },
     "metadata": {
      "needs_background": "light"
     },
     "output_type": "display_data"
    }
   ],
   "source": [
    "%%time\n",
    "\n",
    "from easyagents.agents import PpoAgent\n",
    "from easyagents.callbacks import log, plot\n",
    "\n",
    "ppoAgent = PpoAgent(gym_env_name = env_name, fc_layers=(500,500,500))\n",
    "\n",
    "plots = [plot.State(), plot.Rewards(), plot.Loss(), plot.Steps()]\n",
    "ppoAgent.train(plots, \n",
    "               learning_rate=1e-4,\n",
    "               num_iterations = 50, \n",
    "               num_episodes_per_iteration = 10,\n",
    "               max_steps_per_episode = 50, \n",
    "               num_epochs_per_iteration = 5)"
   ]
  },
  {
   "cell_type": "markdown",
   "metadata": {
    "colab_type": "text",
    "id": "HRoljypzdBML"
   },
   "source": [
    "# Hands-On 2: Define the observation in a way that allows the agent to train\n",
    "\n",
    "* You see the agent does not learn with the observation given. Why is that?\n",
    "\n",
    "* Find an observation that works and impement it in `get_observation`\n",
    "\n",
    "*  You need to update the `observation_space` to the same shape of your observation at the same time.\n",
    "\n",
    "* Why does it work? Is this the best observation? How would you even know?\n",
    "\n",
    "* Do you think this would be sufficient for a real world example? If not, what is missing?\n",
    "\n",
    " # STOP HERE"
   ]
  },
  {
   "cell_type": "markdown",
   "metadata": {
    "colab_type": "text",
    "id": "MDOWfWAmc8mx"
   },
   "source": [
    "# How does Reinforcement Learning really work?\n",
    "\n",
    "Presentation on slides"
   ]
  },
  {
   "cell_type": "markdown",
   "metadata": {
    "colab_type": "text",
    "id": "0uotjTcRgE2P"
   },
   "source": [
    "# Hands-On 3: Make your notebook work with Reinforce\n",
    "\n",
    "* What parts do you need to change?\n",
    "\n",
    "* How do the results compare to what you have seen with PPO?\n",
    "\n",
    "* Can you tweak the parameters (like the size of the neural network) to improve the results?\n"
   ]
  },
  {
   "cell_type": "code",
   "execution_count": 12,
   "metadata": {
    "colab": {},
    "colab_type": "code",
    "id": "IpNcF2PCaGUB"
   },
   "outputs": [],
   "source": [
    "from easyagents.agents import ReinforceAgent\n",
    "ReinforceAgent?"
   ]
  }
 ],
 "metadata": {
  "accelerator": "GPU",
  "colab": {
   "collapsed_sections": [
    "zpzHtN3-kQ26",
    "w3OdHyWEEEwy",
    "bzoq0VM85p46"
   ],
   "include_colab_link": true,
   "name": "easyagents_line_exercise.ipynb",
   "provenance": [],
   "version": "0.3.2"
  },
  "kernelspec": {
   "display_name": "Python 3",
   "language": "python",
   "name": "python3"
  },
  "language_info": {
   "codemirror_mode": {
    "name": "ipython",
    "version": 3
   },
   "file_extension": ".py",
   "mimetype": "text/x-python",
   "name": "python",
   "nbconvert_exporter": "python",
   "pygments_lexer": "ipython3",
   "version": "3.7.4"
  },
  "pycharm": {
   "stem_cell": {
    "cell_type": "raw",
    "metadata": {
     "collapsed": false
    },
    "source": []
   }
  }
 },
 "nbformat": 4,
 "nbformat_minor": 1
}
