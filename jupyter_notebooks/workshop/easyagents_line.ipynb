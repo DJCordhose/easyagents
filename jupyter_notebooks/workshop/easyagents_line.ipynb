{
 "cells": [
  {
   "cell_type": "markdown",
   "metadata": {
    "colab_type": "text",
    "id": "view-in-github"
   },
   "source": [
    "<a href=\"https://colab.research.google.com/github/christianhidber/easyagents/blob/master/jupyter_notebooks/workshop/easyagents_line.ipynb\" target=\"_parent\"><img src=\"https://colab.research.google.com/assets/colab-badge.svg\" alt=\"Open In Colab\"/></a>"
   ]
  },
  {
   "cell_type": "markdown",
   "metadata": {
    "colab_type": "text",
    "id": "eU7ylMh1kQ2y"
   },
   "source": [
    "# Line World\n",
    "\n",
    "* an agent lives in a finite linear world of uneven elements\n",
    "* at each moment it is in a certain position\n",
    "* initial position is the middle\n",
    "* some positions gain rewards, some don't\n",
    "* rewards are between 0 and 15\n",
    "* agent can either move left or right\n",
    "* Objective: maximize total reward = sum(rewards) + sum(steps)\n",
    "* Cost per step: -1\n",
    "* Done Condition: agent is at pos 0 or total reward <= -20\n",
    "\n",
    "<img src='line-world.png'>"
   ]
  },
  {
   "cell_type": "markdown",
   "metadata": {
    "colab_type": "text",
    "id": "sQ8Nfk3MKgLt"
   },
   "source": [
    "### Install gym, tensorflow, tf-agents,..., setup display"
   ]
  },
  {
   "cell_type": "code",
   "execution_count": 1,
   "metadata": {
    "colab": {
     "base_uri": "https://localhost:8080/",
     "height": 323
    },
    "colab_type": "code",
    "id": "QFQXRNBFI5Re",
    "outputId": "25cedc3a-7a8a-4c28-b1cc-0a4bc91baceb",
    "pycharm": {
     "is_executing": false
    }
   },
   "outputs": [],
   "source": [
    "import sys\n",
    "if 'google.colab' in sys.modules:\n",
    "    !pip install -q easyagents\n",
    "    !pip install -q networkx==2.3.0 "
   ]
  },
  {
   "cell_type": "markdown",
   "metadata": {
    "colab_type": "text",
    "id": "aS8yqznR8UL7",
    "pycharm": {
     "name": "#%% md\n"
    }
   },
   "source": [
    "##### suppress package warnings, in colab: load additional packages for rendering"
   ]
  },
  {
   "cell_type": "code",
   "execution_count": 2,
   "metadata": {
    "colab": {
     "base_uri": "https://localhost:8080/",
     "height": 34
    },
    "colab_type": "code",
    "id": "DcilvDdeI5Ri",
    "outputId": "4058179a-8dc5-4068-8f50-3e0883ad7aa7",
    "pycharm": {
     "is_executing": false
    }
   },
   "outputs": [],
   "source": [
    "import warnings\n",
    "import matplotlib.pyplot as plt\n",
    "\n",
    "warnings.filterwarnings('ignore')\n",
    "if 'google.colab' in sys.modules:\n",
    "    !apt-get install xvfb >/dev/null\n",
    "    !pip install pyvirtualdisplay >/dev/null    \n",
    "    \n",
    "    from pyvirtualdisplay import Display\n",
    "    Display(visible=0, size=(960, 720)).start() "
   ]
  },
  {
   "cell_type": "markdown",
   "metadata": {
    "colab_type": "text",
    "id": "vkOUbvfNZCyo"
   },
   "source": [
    "## Definition of OpenAI Gym Environment "
   ]
  },
  {
   "cell_type": "code",
   "execution_count": 3,
   "metadata": {
    "colab": {},
    "colab_type": "code",
    "id": "6yEvuCliwJiD",
    "pycharm": {
     "is_executing": false
    }
   },
   "outputs": [],
   "source": [
    "import numpy as np\n",
    "import math\n",
    "\n",
    "import gym\n",
    "from gym import error, spaces, utils\n",
    "\n",
    "import matplotlib.pyplot as plt\n",
    "from IPython.display import display, clear_output\n",
    "\n",
    "LEFT = 0\n",
    "RIGHT = 1\n",
    "\n",
    "class LineWorldEnv(gym.Env):\n",
    "\n",
    "    def __init__(self, state=[10, 0, 0, 5, 0, 2, 15]):\n",
    "        self.state = np.array(state)\n",
    "        # the agent can perform  different actions\n",
    "        number_of_actions = 2\n",
    "        self.action_space = spaces.Discrete(number_of_actions)\n",
    "\n",
    "        self.size_of_world = len(state)\n",
    "        \n",
    "        self.max_reward = 15\n",
    "\n",
    "        # the environment's state is described by the position of the agent and the remaining rewards\n",
    "        low = np.append([0], np.full(self.size_of_world, 0))\n",
    "        high = np.append([self.size_of_world - 1], np.full(self.size_of_world, self.max_reward))\n",
    "        self.observation_space = spaces.Box(low=low,\n",
    "                                            high=high,\n",
    "                                            dtype=np.float32)\n",
    "\n",
    "        self.reward_range = (-1, 1)\n",
    "        # 32 is only theoretical, because we need to travel at least 9 steps, leaving us with 23 practically\n",
    "        self.optimum = self.state.sum() - 9\n",
    "\n",
    "        self._figure = None\n",
    "\n",
    "        self.reset()\n",
    "\n",
    "    def get_observation(self):\n",
    "        return np.append([self.pos], self.remaining_rewards)\n",
    "\n",
    "    def reset(self):\n",
    "        self.total_reward = 0\n",
    "        self.done = False\n",
    "        self.pos = math.floor(len(self.state) / 2)\n",
    "        self.steps = 0\n",
    "\n",
    "        self.remaining_rewards = np.array(self.state, copy=True)\n",
    "        return self.get_observation()\n",
    "\n",
    "    def step(self, action):\n",
    "        if action == LEFT and self.pos != 0:\n",
    "          self.pos -= 1\n",
    "        elif self.pos < self.size_of_world -1:\n",
    "          self.pos += 1\n",
    "\n",
    "        reward = self.remaining_rewards[self.pos] - 1\n",
    "        normalized_reward = reward / self.optimum\n",
    "        self.total_reward += normalized_reward\n",
    "        self.remaining_rewards[self.pos] = 0\n",
    "\n",
    "        if self.pos == 0 or self.total_reward * self.optimum <= -20:\n",
    "          self.done = True\n",
    "        self.steps += 1\n",
    "\n",
    "        observation = self.get_observation()\n",
    "        info = None\n",
    "        return observation, normalized_reward, self.done, info\n",
    "\n",
    "    def _render_to_ansi(self):\n",
    "        return 'position: {position}, remaining rewards: {rewards}, total reward so far: {total}, normalized total reward: {normalized_total}, steps so far: {steps}, game done: {done}'.format(\n",
    "            position=self.pos, \n",
    "            rewards=self.remaining_rewards, \n",
    "            total=self.total_reward * self.optimum, \n",
    "            normalized_total = self.total_reward,\n",
    "            done=self.done,\n",
    "            steps=self.steps)              \n",
    "\n",
    "    def _render_to_figure(self):\n",
    "        \"\"\" Renders the current state as a graph with matplotlib \"\"\"\n",
    "        if self._figure is not None:\n",
    "            plt.close(self._figure)\n",
    "        self._figure, ax = plt.subplots(1, figsize=(8, 4))\n",
    "        ax.set_ylim(bottom=-1, top=self.max_reward + 1)\n",
    "        x = np.arange(0, self.size_of_world, 1, dtype=np.uint8)\n",
    "        y = self.remaining_rewards\n",
    "        plt.plot([self.pos, self.pos], [0, 2], 'r^-')\n",
    "        ax.scatter(x, y, s=75)\n",
    "        self._figure.canvas.draw()\n",
    "        \n",
    "    def _render_to_human(self):\n",
    "        \"\"\" show render_to_figure in a jupyter cell. \n",
    "            the result of each call is rendered in the same cell\"\"\"\n",
    "        clear_output(wait=True)\n",
    "        self._render_to_figure()\n",
    "        plt.pause(0.01)\n",
    "        \n",
    "    def _render_to_rgb(self):\n",
    "        \"\"\" convert the output of render_to_figure to a rgb_array \"\"\"\n",
    "        self._render_to_figure()\n",
    "        self._figure.canvas.draw()\n",
    "        buf = self._figure.canvas.tostring_rgb()\n",
    "        num_cols, num_rows = self._figure.canvas.get_width_height()\n",
    "        plt.close(self._figure)\n",
    "        self._figure = None\n",
    "        result = np.fromstring(buf, dtype=np.uint8).reshape(num_rows, num_cols, 3)\n",
    "        return result        \n",
    "\n",
    "    def render(self, mode='ansi'):\n",
    "        if mode == 'ansi':\n",
    "            return self._render_to_ansi()\n",
    "        elif mode == 'human':\n",
    "            return self._render_to_human()\n",
    "        elif mode == 'rgb_array':\n",
    "            return self._render_to_rgb()\n",
    "        else:\n",
    "            super().render(mode=mode)\n"
   ]
  },
  {
   "cell_type": "code",
   "execution_count": 4,
   "metadata": {
    "colab": {},
    "colab_type": "code",
    "id": "_fHrBrxxI5Rt",
    "pycharm": {
     "is_executing": false
    }
   },
   "outputs": [],
   "source": [
    "env = LineWorldEnv()"
   ]
  },
  {
   "cell_type": "code",
   "execution_count": 5,
   "metadata": {
    "colab": {
     "base_uri": "https://localhost:8080/",
     "height": 34
    },
    "colab_type": "code",
    "id": "hxcQG_ruV06p",
    "outputId": "13426639-34f2-4386-c393-03c84f0789a0"
   },
   "outputs": [
    {
     "data": {
      "text/plain": [
       "'position: 3, remaining rewards: [10  0  0  5  0  2 15], total reward so far: 0, normalized total reward: 0, steps so far: 0, game done: False'"
      ]
     },
     "execution_count": 5,
     "metadata": {},
     "output_type": "execute_result"
    }
   ],
   "source": [
    "env.render()"
   ]
  },
  {
   "cell_type": "code",
   "execution_count": 6,
   "metadata": {
    "colab": {
     "base_uri": "https://localhost:8080/",
     "height": 34
    },
    "colab_type": "code",
    "id": "SJARCo5U9PfR",
    "outputId": "9329d24a-a562-47ee-911a-d845d440c9e1"
   },
   "outputs": [
    {
     "data": {
      "text/plain": [
       "array([ 3, 10,  0,  0,  5,  0,  2, 15])"
      ]
     },
     "execution_count": 6,
     "metadata": {},
     "output_type": "execute_result"
    }
   ],
   "source": [
    "# shows the raw observation, position is first, then all rest rewards\n",
    "env.reset()"
   ]
  },
  {
   "cell_type": "code",
   "execution_count": 7,
   "metadata": {
    "colab": {
     "base_uri": "https://localhost:8080/",
     "height": 34
    },
    "colab_type": "code",
    "id": "s2RYX2_2I5Ry",
    "outputId": "1f13297c-da10-436d-a396-bf58f4545880",
    "pycharm": {
     "is_executing": false,
     "name": "#%%\n"
    }
   },
   "outputs": [
    {
     "data": {
      "text/plain": [
       "'position: 4, remaining rewards: [10  0  0  5  0  2 15], total reward so far: -1.0, normalized total reward: -0.043478260869565216, steps so far: 1, game done: False'"
      ]
     },
     "execution_count": 7,
     "metadata": {},
     "output_type": "execute_result"
    }
   ],
   "source": [
    "env.step(RIGHT)\n",
    "env.render()"
   ]
  },
  {
   "cell_type": "code",
   "execution_count": 8,
   "metadata": {
    "colab": {
     "base_uri": "https://localhost:8080/",
     "height": 34
    },
    "colab_type": "code",
    "id": "mGWH4CQCBSEk",
    "outputId": "8e10f4a8-1781-4b3d-f185-d8260f185af7"
   },
   "outputs": [
    {
     "data": {
      "text/plain": [
       "'position: 5, remaining rewards: [10  0  0  5  0  0 15], total reward so far: 0.0, normalized total reward: 0.0, steps so far: 2, game done: False'"
      ]
     },
     "execution_count": 8,
     "metadata": {},
     "output_type": "execute_result"
    }
   ],
   "source": [
    "env.step(RIGHT)\n",
    "env.render()"
   ]
  },
  {
   "cell_type": "code",
   "execution_count": 9,
   "metadata": {
    "colab": {
     "base_uri": "https://localhost:8080/",
     "height": 34
    },
    "colab_type": "code",
    "id": "JdHyE42vBhbC",
    "outputId": "1c91a942-6abb-4556-cd6c-f4205bf495a1"
   },
   "outputs": [
    {
     "data": {
      "text/plain": [
       "'position: 6, remaining rewards: [10  0  0  5  0  0  0], total reward so far: 14.0, normalized total reward: 0.6086956521739131, steps so far: 3, game done: False'"
      ]
     },
     "execution_count": 9,
     "metadata": {},
     "output_type": "execute_result"
    }
   ],
   "source": [
    "env.step(RIGHT)\n",
    "env.render()"
   ]
  },
  {
   "cell_type": "code",
   "execution_count": 10,
   "metadata": {
    "colab": {
     "base_uri": "https://localhost:8080/",
     "height": 34
    },
    "colab_type": "code",
    "id": "5QRACggIChZK",
    "outputId": "746c46a9-d1ac-40f2-e8a2-39564dd61925"
   },
   "outputs": [
    {
     "data": {
      "text/plain": [
       "'position: 6, remaining rewards: [10  0  0  5  0  0  0], total reward so far: 13.000000000000002, normalized total reward: 0.5652173913043479, steps so far: 4, game done: False'"
      ]
     },
     "execution_count": 10,
     "metadata": {},
     "output_type": "execute_result"
    }
   ],
   "source": [
    "env.step(RIGHT)\n",
    "env.render()"
   ]
  },
  {
   "cell_type": "code",
   "execution_count": 11,
   "metadata": {
    "colab": {
     "base_uri": "https://localhost:8080/",
     "height": 269
    },
    "colab_type": "code",
    "id": "RvfFHbSfckCy",
    "outputId": "9a4d11f6-0be4-49e9-824c-5e8958039690"
   },
   "outputs": [
    {
     "data": {
      "image/png": "[encoded data removed]",
      "text/plain": [
       "<Figure size 576x288 with 1 Axes>"
      ]
     },
     "metadata": {
      "needs_background": "light"
     },
     "output_type": "display_data"
    }
   ],
   "source": [
    "env.render(mode='human')"
   ]
  },
  {
   "cell_type": "code",
   "execution_count": 12,
   "metadata": {
    "colab": {
     "base_uri": "https://localhost:8080/",
     "height": 34
    },
    "colab_type": "code",
    "id": "r4zbZtCsBx7x",
    "outputId": "8b114ddd-9583-4c0f-e9ea-77250525566f"
   },
   "outputs": [
    {
     "data": {
      "text/plain": [
       "'position: 5, remaining rewards: [10  0  0  5  0  0  0], total reward so far: 12.000000000000002, normalized total reward: 0.5217391304347827, steps so far: 5, game done: False'"
      ]
     },
     "execution_count": 12,
     "metadata": {},
     "output_type": "execute_result"
    }
   ],
   "source": [
    "env.step(LEFT)\n",
    "env.render()"
   ]
  },
  {
   "cell_type": "code",
   "execution_count": 13,
   "metadata": {
    "colab": {
     "base_uri": "https://localhost:8080/",
     "height": 34
    },
    "colab_type": "code",
    "id": "5eso3wdfFfGu",
    "outputId": "b9b60e05-4c36-4005-dd6b-07f263d0f13c"
   },
   "outputs": [
    {
     "data": {
      "text/plain": [
       "'position: 4, remaining rewards: [10  0  0  5  0  0  0], total reward so far: 11.000000000000004, normalized total reward: 0.4782608695652175, steps so far: 6, game done: False'"
      ]
     },
     "execution_count": 13,
     "metadata": {},
     "output_type": "execute_result"
    }
   ],
   "source": [
    "env.step(LEFT)\n",
    "env.render()"
   ]
  },
  {
   "cell_type": "code",
   "execution_count": 14,
   "metadata": {
    "colab": {
     "base_uri": "https://localhost:8080/",
     "height": 34
    },
    "colab_type": "code",
    "id": "_FUidR2SFgq2",
    "outputId": "28b98ea7-bf43-4c67-e4e6-2fdd62253174"
   },
   "outputs": [
    {
     "data": {
      "text/plain": [
       "'position: 3, remaining rewards: [10  0  0  0  0  0  0], total reward so far: 15.000000000000004, normalized total reward: 0.6521739130434784, steps so far: 7, game done: False'"
      ]
     },
     "execution_count": 14,
     "metadata": {},
     "output_type": "execute_result"
    }
   ],
   "source": [
    "env.step(LEFT)\n",
    "env.render()"
   ]
  },
  {
   "cell_type": "code",
   "execution_count": 15,
   "metadata": {
    "colab": {
     "base_uri": "https://localhost:8080/",
     "height": 34
    },
    "colab_type": "code",
    "id": "zaPJ-GDtFnRL",
    "outputId": "2c21a505-b50d-4925-b842-2409988a8bde"
   },
   "outputs": [
    {
     "data": {
      "text/plain": [
       "'position: 2, remaining rewards: [10  0  0  0  0  0  0], total reward so far: 14.000000000000004, normalized total reward: 0.6086956521739132, steps so far: 8, game done: False'"
      ]
     },
     "execution_count": 15,
     "metadata": {},
     "output_type": "execute_result"
    }
   ],
   "source": [
    "env.step(LEFT)\n",
    "env.render()"
   ]
  },
  {
   "cell_type": "code",
   "execution_count": 16,
   "metadata": {
    "colab": {
     "base_uri": "https://localhost:8080/",
     "height": 34
    },
    "colab_type": "code",
    "id": "RdmP61D_FpTE",
    "outputId": "fddb93c8-28b0-4aca-dace-177a6a571355"
   },
   "outputs": [
    {
     "data": {
      "text/plain": [
       "'position: 1, remaining rewards: [10  0  0  0  0  0  0], total reward so far: 13.000000000000004, normalized total reward: 0.565217391304348, steps so far: 9, game done: False'"
      ]
     },
     "execution_count": 16,
     "metadata": {},
     "output_type": "execute_result"
    }
   ],
   "source": [
    "env.step(LEFT)\n",
    "env.render()"
   ]
  },
  {
   "cell_type": "code",
   "execution_count": 17,
   "metadata": {
    "colab": {
     "base_uri": "https://localhost:8080/",
     "height": 34
    },
    "colab_type": "code",
    "id": "y1dxqY92FqV2",
    "outputId": "a29bcf3e-de6e-4855-e377-fc8bbf9e57b1"
   },
   "outputs": [
    {
     "data": {
      "text/plain": [
       "'position: 0, remaining rewards: [0 0 0 0 0 0 0], total reward so far: 22.000000000000007, normalized total reward: 0.956521739130435, steps so far: 10, game done: True'"
      ]
     },
     "execution_count": 17,
     "metadata": {},
     "output_type": "execute_result"
    }
   ],
   "source": [
    "env.step(LEFT)\n",
    "env.render()"
   ]
  },
  {
   "cell_type": "code",
   "execution_count": 18,
   "metadata": {
    "colab": {
     "base_uri": "https://localhost:8080/",
     "height": 269
    },
    "colab_type": "code",
    "id": "SpDy_4EqZCzI",
    "outputId": "b3963062-5719-4d26-e2ee-32af7c21c79c"
   },
   "outputs": [
    {
     "data": {
      "image/png": "[encoded data removed]",
      "text/plain": [
       "<Figure size 576x288 with 1 Axes>"
      ]
     },
     "metadata": {
      "needs_background": "light"
     },
     "output_type": "display_data"
    }
   ],
   "source": [
    "env.render(mode='human')"
   ]
  },
  {
   "cell_type": "markdown",
   "metadata": {
    "colab_type": "text",
    "id": "6lV8D-SfZCzK"
   },
   "source": [
    "\n",
    "### Register with OpenAI Gym"
   ]
  },
  {
   "cell_type": "code",
   "execution_count": 19,
   "metadata": {
    "colab": {},
    "colab_type": "code",
    "id": "OS3pnnbAI5R9",
    "pycharm": {
     "is_executing": false
    }
   },
   "outputs": [
    {
     "name": "stderr",
     "output_type": "stream",
     "text": [
      "WARNING: Logging before flag parsing goes to stderr.\n",
      "W0913 10:33:30.546082 15564 __init__.py:690] \n",
      "\n",
      "  TensorFlow's `tf-nightly` package will soon be updated to TensorFlow 2.0.\n",
      "\n",
      "  Please upgrade your code to TensorFlow 2.0:\n",
      "    * https://www.tensorflow.org/beta/guide/migration_guide\n",
      "\n",
      "  Or install the latest stable TensorFlow 1.X release:\n",
      "    * `pip install -U \"tensorflow==1.*\"`\n",
      "\n",
      "  Otherwise your code may be broken by the change.\n",
      "\n",
      "  \n"
     ]
    }
   ],
   "source": [
    "from easyagents.env import register_with_gym\n",
    "\n",
    "env_name = \"LineWorld-v0\"\n",
    "register_with_gym(gym_env_name=env_name, entry_point=LineWorldEnv, max_episode_steps=100)"
   ]
  },
  {
   "cell_type": "markdown",
   "metadata": {
    "colab_type": "text",
    "id": "_uEfpOeeI5R8"
   },
   "source": [
    "# Train policy with tfagents PpoAgent"
   ]
  },
  {
   "cell_type": "code",
   "execution_count": 23,
   "metadata": {},
   "outputs": [
    {
     "data": {
      "image/png": "[encoded data removed]",
      "text/plain": [
       "<Figure size 1224x432 with 4 Axes>"
      ]
     },
     "metadata": {},
     "output_type": "display_data"
    },
    {
     "name": "stdout",
     "output_type": "stream",
     "text": [
      "Wall time: 1min 34s\n"
     ]
    },
    {
     "data": {
      "text/plain": [
       "<easyagents.core.ActorCriticTrainContext at 0x1fa13456cc8>"
      ]
     },
     "execution_count": 23,
     "metadata": {},
     "output_type": "execute_result"
    }
   ],
   "source": [
    "%%time\n",
    "\n",
    "from easyagents.agents import PpoAgent\n",
    "from easyagents.callbacks import log, plot\n",
    "\n",
    "ppoAgent = PpoAgent(gym_env_name = env_name, fc_layers=(500,500,500))\n",
    "\n",
    "plots = [plot.State(), plot.Rewards(), plot.Loss(), plot.Steps()]\n",
    "ppoAgent.train(plots, \n",
    "               default_callbacks=False,\n",
    "               learning_rate=1e-4,\n",
    "               num_iterations = 50, \n",
    "               num_episodes_per_iteration = 10,\n",
    "               max_steps_per_episode = 50, \n",
    "               num_epochs_per_iteration = 5)"
   ]
  },
  {
   "cell_type": "markdown",
   "metadata": {
    "colab_type": "text",
    "id": "HSh2whpFZCza"
   },
   "source": [
    "# Train policy with tfagents Reinforce (aka Vanilla Policy Gradient)"
   ]
  },
  {
   "cell_type": "code",
   "execution_count": 24,
   "metadata": {
    "colab": {
     "base_uri": "https://localhost:8080/",
     "height": 417
    },
    "colab_type": "code",
    "id": "NTHjAT-6Z7UQ",
    "outputId": "59507604-9404-4dbf-cfd0-6de7070be5df"
   },
   "outputs": [
    {
     "ename": "ImportError",
     "evalue": "cannot import name 'ReinforceAgent' from 'easyagents.agents' (C:\\Users\\olive\\Development\\easyagents\\easyagents\\agents.py)",
     "output_type": "error",
     "traceback": [
      "\u001b[1;31m---------------------------------------------------------------------------\u001b[0m",
      "\u001b[1;31mImportError\u001b[0m                               Traceback (most recent call last)",
      "\u001b[1;32m<timed exec>\u001b[0m in \u001b[0;36m<module>\u001b[1;34m\u001b[0m\n",
      "\u001b[1;31mImportError\u001b[0m: cannot import name 'ReinforceAgent' from 'easyagents.agents' (C:\\Users\\olive\\Development\\easyagents\\easyagents\\agents.py)"
     ]
    }
   ],
   "source": [
    "%%time\n",
    "\n",
    "from easyagents.agents import ReinforceAgent\n",
    "reinforceAgent = ReinforceAgent(gym_env_name = env_name, fc_layers=(500,500,500))\n",
    "\n",
    "plots = [plot.State(), plot.Rewards(), plot.Loss(), plot.Steps()]\n",
    "reinforceAgent.train(\n",
    "    plots, \n",
    "    default_callbacks=False,\n",
    "    learning_rate=1e-4,\n",
    "    num_iterations = 200, \n",
    "    num_episodes_per_iteration = 10,\n",
    "    max_steps_per_episode = 50, \n",
    "    num_epochs_per_iteration = 5)"
   ]
  },
  {
   "cell_type": "code",
   "execution_count": null,
   "metadata": {},
   "outputs": [],
   "source": []
  }
 ],
 "metadata": {
  "accelerator": "GPU",
  "colab": {
   "collapsed_sections": [
    "zpzHtN3-kQ26",
    "w3OdHyWEEEwy",
    "bzoq0VM85p46"
   ],
   "include_colab_link": true,
   "name": "easyagents_line.ipynb",
   "provenance": [],
   "version": "0.3.2"
  },
  "kernelspec": {
   "display_name": "Python 3",
   "language": "python",
   "name": "python3"
  },
  "language_info": {
   "codemirror_mode": {
    "name": "ipython",
    "version": 3
   },
   "file_extension": ".py",
   "mimetype": "text/x-python",
   "name": "python",
   "nbconvert_exporter": "python",
   "pygments_lexer": "ipython3",
   "version": "3.7.4"
  },
  "pycharm": {
   "stem_cell": {
    "cell_type": "raw",
    "metadata": {
     "collapsed": false
    },
    "source": []
   }
  }
 },
 "nbformat": 4,
 "nbformat_minor": 1
}
