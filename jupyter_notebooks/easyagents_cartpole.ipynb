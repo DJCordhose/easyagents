{
 "cells": [
  {
   "cell_type": "markdown",
   "metadata": {
    "colab_type": "text",
    "id": "itbylRO_XSzd"
   },
   "source": [
    "# CartPole Gym environment with TfAgents"
   ]
  },
  {
   "cell_type": "markdown",
   "metadata": {
    "colab_type": "text",
    "id": "JszJwM7GXkFK"
   },
   "source": [
    "## Install packages (gym, tfagents, tensorflow,....)"
   ]
  },
  {
   "cell_type": "code",
   "execution_count": null,
   "metadata": {
    "colab": {
     "base_uri": "https://localhost:8080/",
     "height": 34
    },
    "colab_type": "code",
    "id": "C-jRHCOPW56b",
    "outputId": "28038221-7a27-4906-bc36-84b6efc7dba8"
   },
   "outputs": [],
   "source": [
    "!pip install easyagents >/dev/null"
   ]
  },
  {
   "cell_type": "code",
   "execution_count": null,
   "metadata": {},
   "outputs": [],
   "source": [
    "#!pip install -i https://test.pypi.org/simple/ easyagents > /dev/null"
   ]
  },
  {
   "cell_type": "markdown",
   "metadata": {
    "colab_type": "text",
    "id": "67n5CylJZJpt"
   },
   "source": [
    "## Dry Run (very short training, no logging)"
   ]
  },
  {
   "cell_type": "code",
   "execution_count": null,
   "metadata": {
    "colab": {
     "base_uri": "https://localhost:8080/",
     "height": 230
    },
    "colab_type": "code",
    "id": "fuzjC3Q8ZQaC",
    "outputId": "cf1739b4-ce08-4334-de28-7155f8205e26"
   },
   "outputs": [],
   "source": [
    "from easyagents.tfagents import Ppo\n",
    "from easyagents.config import TrainingDurationFast\n",
    "from easyagents.config import LoggingSilent\n",
    "from easyagents.config import LoggingVerbose\n",
    "\n",
    "ppoAgent = Ppo( gym_env_name='CartPole-v0', training_duration=TrainingDurationFast(), logging=LoggingSilent())\n",
    "ppoAgent.train()"
   ]
  },
  {
   "cell_type": "markdown",
   "metadata": {},
   "source": [
    "## Visualize"
   ]
  },
  {
   "cell_type": "code",
   "execution_count": null,
   "metadata": {},
   "outputs": [],
   "source": [
    "ppoAgent.plot_average_returns()"
   ]
  },
  {
   "cell_type": "code",
   "execution_count": null,
   "metadata": {},
   "outputs": [],
   "source": [
    "ppoAgent.plot_losses()"
   ]
  },
  {
   "cell_type": "code",
   "execution_count": null,
   "metadata": {},
   "outputs": [],
   "source": []
  }
 ],
 "metadata": {
  "accelerator": "GPU",
  "colab": {
   "collapsed_sections": [],
   "name": "Untitled2.ipynb",
   "provenance": [],
   "version": "0.3.2"
  },
  "kernelspec": {
   "display_name": "Python 3",
   "language": "python",
   "name": "python3"
  },
  "language_info": {
   "codemirror_mode": {
    "name": "ipython",
    "version": 3
   },
   "file_extension": ".py",
   "mimetype": "text/x-python",
   "name": "python",
   "nbconvert_exporter": "python",
   "pygments_lexer": "ipython3",
   "version": "3.7.3"
  }
 },
 "nbformat": 4,
 "nbformat_minor": 1
}
