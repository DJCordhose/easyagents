{
 "cells": [
  {
   "cell_type": "markdown",
   "metadata": {
    "colab_type": "text",
    "id": "itbylRO_XSzd"
   },
   "source": [
    "# CartPole Gym environment with TfAgents"
   ]
  },
  {
   "cell_type": "markdown",
   "metadata": {
    "colab_type": "text",
    "id": "JszJwM7GXkFK"
   },
   "source": [
    "## Install packages (gym, tfagents, tensorflow,....)"
   ]
  },
  {
   "cell_type": "code",
   "execution_count": null,
   "metadata": {
    "colab": {
     "base_uri": "https://localhost:8080/",
     "height": 34
    },
    "colab_type": "code",
    "id": "C-jRHCOPW56b",
    "outputId": "28038221-7a27-4906-bc36-84b6efc7dba8"
   },
   "outputs": [],
   "source": [
    "!pip install easyagents >/dev/null"
   ]
  },
  {
   "cell_type": "code",
   "execution_count": 2,
   "metadata": {},
   "outputs": [],
   "source": [
    "#!pip install -i https://test.pypi.org/simple/ easyagents > /dev/null"
   ]
  },
  {
   "cell_type": "markdown",
   "metadata": {
    "colab_type": "text",
    "id": "67n5CylJZJpt"
   },
   "source": [
    "## Dry Run (very short training, no logging)"
   ]
  },
  {
   "cell_type": "code",
   "execution_count": null,
   "metadata": {
    "colab": {
     "base_uri": "https://localhost:8080/",
     "height": 230
    },
    "colab_type": "code",
    "id": "fuzjC3Q8ZQaC",
    "outputId": "cf1739b4-ce08-4334-de28-7155f8205e26"
   },
   "outputs": [],
   "source": [
    "from easyagents.tfagents import PpoAgent\n",
    "from easyagents.config import TrainingDurationFast\n",
    "from easyagents.config import LoggingSilent\n",
    "from easyagents.config import LoggingVerbose\n",
    "\n",
    "ppoAgent = PpoAgent( gym_env_name='CartPole-v0', training_duration=TrainingDurationFast(), logging=LoggingSilent())\n",
    "ppoAgent.train()"
   ]
  },
  {
   "cell_type": "markdown",
   "metadata": {},
   "source": [
    "## Visualize"
   ]
  },
  {
   "cell_type": "code",
   "execution_count": 4,
   "metadata": {},
   "outputs": [
    {
     "data": {
      "image/png": "[encoded data removed]",
      "text/plain": [
       "<Figure size 432x288 with 1 Axes>"
      ]
     },
     "metadata": {
      "needs_background": "light"
     },
     "output_type": "display_data"
    }
   ],
   "source": [
    "ppoAgent.plot_average_returns()"
   ]
  },
  {
   "cell_type": "code",
   "execution_count": 5,
   "metadata": {},
   "outputs": [
    {
     "data": {
      "image/png": "[encoded data removed]",
      "text/plain": [
       "<Figure size 432x288 with 1 Axes>"
      ]
     },
     "metadata": {
      "needs_background": "light"
     },
     "output_type": "display_data"
    }
   ],
   "source": [
    "ppoAgent.plot_losses()"
   ]
  },
  {
   "cell_type": "markdown",
   "metadata": {
    "colab_type": "text",
    "id": "67n5CylJZJpt"
   },
   "source": [
    "## Short training (with chosen policy network layers, training durations & default logging)"
   ]
  },
  {
   "cell_type": "code",
   "execution_count": 8,
   "metadata": {},
   "outputs": [],
   "source": [
    "from easyagents.tfagents import PpoAgent\n",
    "from easyagents.config import TrainingDuration"
   ]
  },
  {
   "cell_type": "code",
   "execution_count": 9,
   "metadata": {},
   "outputs": [],
   "source": [
    "training_duration=TrainingDuration( num_iterations = 50,\n",
    "                                    num_episodes_per_iteration = 10,\n",
    "                                    num_epochs_per_iteration = 5,\n",
    "                                    num_iterations_between_eval = 10,\n",
    "                                    num_eval_episodes = 10 )"
   ]
  },
  {
   "cell_type": "code",
   "execution_count": null,
   "metadata": {},
   "outputs": [
    {
     "name": "stderr",
     "output_type": "stream",
     "text": [
      "I0628 17:53:44.299221  5664 agents.py:60] gym_env_name=CartPole-v0 fc_layers=(100,)\n",
      "I0628 17:53:44.305224  5664 agents.py:69] executing: tf.compat.v1.enable_v2_behavior()\n",
      "I0628 17:53:44.308226  5664 agents.py:69] executing: tf.enable_eager_execution()\n",
      "I0628 17:53:44.312231  5664 agents.py:69] executing: tf.compat.v1.set_random_seed(0)\n",
      "I0628 17:53:44.316223  5664 agents.py:69] Creating environment:\n",
      "I0628 17:53:44.318249  5664 agents.py:69]    executing tf_py_environment.TFPyEnvironment( suite_gym.load )\n",
      "I0628 17:53:44.340231  5664 agents.py:69] Creating agent:\n",
      "I0628 17:53:44.345241  5664 agents.py:69]   creating  tf.compat.v1.train.AdamOptimizer( ... )\n",
      "I0628 17:53:44.371219  5664 agents.py:69]   creating  PPOAgent( ... )\n",
      "I0628 17:53:44.467227  5664 agents.py:69]   executing tf_agent.initialize()\n",
      "I0628 17:53:44.473227  5664 agents.py:69] Creating data collection:\n",
      "I0628 17:53:44.479232  5664 agents.py:69]   creating TFUniformReplayBuffer()\n",
      "I0628 17:53:44.675229  5664 agents.py:69]   creating DynamicEpisodeDriver()\n",
      "I0628 17:53:44.680231  5664 agents.py:69] Starting training:\n",
      "I0628 17:53:44.689230  5664 agents.py:69] executing compute_avg_return(...)\n",
      "I0628 17:53:44.697839  5664 agents.py:69]    executing tf_py_environment.TFPyEnvironment( suite_gym.load )\n",
      "I0628 17:53:44.718945  5664 logenv.py:72] #EnvId ResetCount.Steps [R=sumRewards]\n",
      "I0628 17:53:44.724922  5664 logenv.py:75] #2   0.0   [R=   0.0] executing reset(...)\n",
      "I0628 17:53:45.577875  5664 logenv.py:75] #2   1.50  [R=  50.0] game over\n",
      "I0628 17:53:46.594791  5664 logenv.py:75] #2   2.49  [R=  49.0] game over\n",
      "I0628 17:53:47.258124  5664 logenv.py:75] #2   3.36  [R=  36.0] game over\n",
      "I0628 17:53:47.692712  5664 logenv.py:75] #2   4.24  [R=  24.0] game over\n",
      "I0628 17:53:48.657508  5664 logenv.py:75] #2   5.56  [R=  56.0] game over\n",
      "I0628 17:53:49.231830  5664 logenv.py:75] #2   6.27  [R=  27.0] game over\n",
      "I0628 17:53:50.016174  5664 logenv.py:75] #2   7.48  [R=  48.0] game over\n",
      "I0628 17:53:50.530987  5664 logenv.py:75] #2   8.27  [R=  27.0] game over\n",
      "I0628 17:53:50.930673  5664 logenv.py:75] #2   9.23  [R=  23.0] game over\n",
      "I0628 17:53:51.605642  5664 logenv.py:75] #2  10.38  [R=  38.0] game over\n",
      "I0628 17:53:51.611514  5664 agents.py:69] completed compute_avg_return(...) = 36.800\n",
      "I0628 17:53:51.616506  5664 agents.py:69] training 1 of 50: executing collect_driver.run()\n",
      "I0628 17:53:52.744182  2132 logenv.py:72] #EnvId ResetCount.Steps [R=sumRewards]\n",
      "I0628 17:53:52.763185  2132 logenv.py:75] #1   0.0   [R=   0.0] executing reset(...)\n",
      "I0628 17:53:52.817186  2132 logenv.py:75] #1   1.24  [R=  24.0] game over\n",
      "I0628 17:53:52.878199  3760 logenv.py:75] #1   2.17  [R=  17.0] game over\n",
      "I0628 17:53:52.933206 15576 logenv.py:75] #1   3.14  [R=  14.0] game over\n",
      "I0628 17:53:52.994189  3760 logenv.py:75] #1   4.14  [R=  14.0] game over\n",
      "I0628 17:53:53.108189  7420 logenv.py:75] #1   5.34  [R=  34.0] game over\n",
      "I0628 17:53:53.341149  3760 logenv.py:75] #1   6.93  [R=  93.0] game over\n",
      "I0628 17:53:53.437139  3760 logenv.py:75] #1   7.29  [R=  29.0] game over\n",
      "I0628 17:53:53.502134  3280 logenv.py:75] #1   8.20  [R=  20.0] game over\n",
      "I0628 17:53:53.558132  9424 logenv.py:75] #1   9.12  [R=  12.0] game over\n",
      "I0628 17:53:53.723315  2132 logenv.py:75] #1  10.43  [R=  43.0] game over\n",
      "I0628 17:53:53.761774  5664 agents.py:69] training 1 of 50: executing replay_buffer.gather_all()\n",
      "I0628 17:53:53.778517  5664 agents.py:69] training 1 of 50: executing tf_agent.train(...)\n",
      "I0628 17:54:18.763147  5664 agents.py:69] training 1 of 50: completed tf_agent.train(...) = 31163.402 [loss]\n",
      "I0628 17:54:18.768159  5664 agents.py:69] training 1 of 50: executing replay_buffer.clear()\n",
      "I0628 17:54:18.774158  5664 agents.py:69] training 2 of 50: executing collect_driver.run()\n",
      "I0628 17:54:18.779154  9424 logenv.py:75] #1  11.0   [R=   0.0] executing reset(...)\n",
      "I0628 17:54:18.852155  9424 logenv.py:75] #1  12.17  [R=  17.0] game over\n",
      "I0628 17:54:18.944153  3280 logenv.py:75] #1  13.21  [R=  21.0] game over\n",
      "I0628 17:54:19.045144  9424 logenv.py:75] #1  14.27  [R=  27.0] game over\n",
      "I0628 17:54:19.136024  3280 logenv.py:75] #1  15.18  [R=  18.0] game over\n",
      "I0628 17:54:19.306346 15188 logenv.py:75] #1  16.47  [R=  47.0] game over\n",
      "I0628 17:54:19.419926 15188 logenv.py:75] #1  17.33  [R=  33.0] game over\n",
      "I0628 17:54:19.527891 15576 logenv.py:75] #1  18.32  [R=  32.0] game over\n",
      "I0628 17:54:19.619337  9424 logenv.py:75] #1  19.13  [R=  13.0] game over\n",
      "I0628 17:54:19.724060  3280 logenv.py:75] #1  20.21  [R=  21.0] game over\n",
      "I0628 17:54:19.790804  3760 logenv.py:75] #1  21.15  [R=  15.0] game over\n",
      "I0628 17:54:19.824575  5664 agents.py:69] training 2 of 50: executing replay_buffer.gather_all()\n",
      "I0628 17:54:19.837741  5664 agents.py:69] training 2 of 50: executing tf_agent.train(...)\n",
      "I0628 17:54:33.898916  5664 agents.py:69] training 2 of 50: completed tf_agent.train(...) = 12118.605 [loss]\n",
      "I0628 17:54:33.904931  5664 agents.py:69] training 2 of 50: executing replay_buffer.clear()\n",
      "I0628 17:54:33.912533  5664 agents.py:69] training 3 of 50: executing collect_driver.run()\n",
      "I0628 17:54:33.924099 12880 logenv.py:75] #1  22.0   [R=   0.0] executing reset(...)\n",
      "I0628 17:54:34.001125 12880 logenv.py:75] #1  23.14  [R=  14.0] game over\n",
      "I0628 17:54:34.065383 15188 logenv.py:75] #1  24.12  [R=  12.0] game over\n",
      "I0628 17:54:34.162056 12880 logenv.py:75] #1  25.11  [R=  11.0] game over\n",
      "I0628 17:54:34.227054 15188 logenv.py:75] #1  26.13  [R=  13.0] game over\n",
      "I0628 17:54:34.348170  3760 logenv.py:75] #1  27.38  [R=  38.0] game over\n",
      "I0628 17:54:34.433892  9424 logenv.py:75] #1  28.17  [R=  17.0] game over\n",
      "I0628 17:54:34.515396 12880 logenv.py:75] #1  29.16  [R=  16.0] game over\n",
      "I0628 17:54:34.660380 15188 logenv.py:75] #1  30.31  [R=  31.0] game over\n",
      "I0628 17:54:34.798333  2132 logenv.py:75] #1  31.40  [R=  40.0] game over\n",
      "I0628 17:54:34.919658  3760 logenv.py:75] #1  32.36  [R=  36.0] game over\n",
      "I0628 17:54:34.946488  5664 agents.py:69] training 3 of 50: executing replay_buffer.gather_all()\n",
      "I0628 17:54:34.956842  5664 agents.py:69] training 3 of 50: executing tf_agent.train(...)\n",
      "I0628 17:54:53.249256  5664 agents.py:69] training 3 of 50: completed tf_agent.train(...) = 12170.551 [loss]\n",
      "I0628 17:54:53.254257  5664 agents.py:69] training 3 of 50: executing replay_buffer.clear()\n",
      "I0628 17:54:53.263261  5664 agents.py:69] training 4 of 50: executing collect_driver.run()\n",
      "I0628 17:54:53.269261 12880 logenv.py:75] #1  33.0   [R=   0.0] executing reset(...)\n",
      "I0628 17:54:53.383258 15188 logenv.py:75] #1  34.31  [R=  31.0] game over\n",
      "I0628 17:54:53.536639  7420 logenv.py:75] #1  35.44  [R=  44.0] game over\n",
      "I0628 17:54:53.685045 15188 logenv.py:75] #1  36.32  [R=  32.0] game over\n",
      "I0628 17:54:53.739289 12880 logenv.py:75] #1  37.13  [R=  13.0] game over\n",
      "I0628 17:54:53.851294 15576 logenv.py:75] #1  38.29  [R=  29.0] game over\n",
      "I0628 17:54:53.953401 15188 logenv.py:75] #1  39.25  [R=  25.0] game over\n",
      "I0628 17:54:54.015402  3280 logenv.py:75] #1  40.12  [R=  12.0] game over\n",
      "I0628 17:54:54.082393  9424 logenv.py:75] #1  41.11  [R=  11.0] game over\n",
      "I0628 17:54:54.159409 15188 logenv.py:75] #1  42.10  [R=  10.0] game over\n",
      "I0628 17:54:54.233612 12880 logenv.py:75] #1  43.15  [R=  15.0] game over\n",
      "I0628 17:54:54.278113  5664 agents.py:69] training 4 of 50: executing replay_buffer.gather_all()\n",
      "I0628 17:54:54.297248  5664 agents.py:69] training 4 of 50: executing tf_agent.train(...)\n",
      "I0628 17:54:58.189894  5664 agents.py:69] training 4 of 50: completed tf_agent.train(...) = 11636.600 [loss]\n",
      "I0628 17:54:58.194898  5664 agents.py:69] training 4 of 50: executing replay_buffer.clear()\n",
      "I0628 17:54:58.202478  5664 agents.py:69] training 5 of 50: executing collect_driver.run()\n",
      "I0628 17:54:58.209193  2132 logenv.py:75] #1  44.0   [R=   0.0] executing reset(...)\n",
      "I0628 17:54:58.302018 15576 logenv.py:75] #1  45.30  [R=  30.0] game over\n",
      "I0628 17:54:58.403576 15188 logenv.py:75] #1  46.23  [R=  23.0] game over\n",
      "I0628 17:54:58.611578 12880 logenv.py:75] #1  47.54  [R=  54.0] game over\n",
      "I0628 17:54:58.721007 15188 logenv.py:75] #1  48.28  [R=  28.0] game over\n",
      "I0628 17:54:58.851214  2132 logenv.py:75] #1  49.39  [R=  39.0] game over\n",
      "I0628 17:54:58.998859  9424 logenv.py:75] #1  50.47  [R=  47.0] game over\n",
      "I0628 17:54:59.080168 15576 logenv.py:75] #1  51.19  [R=  19.0] game over\n"
     ]
    },
    {
     "name": "stderr",
     "output_type": "stream",
     "text": [
      "I0628 17:54:59.281923  3280 logenv.py:75] #1  52.23  [R=  23.0] game over\n",
      "I0628 17:54:59.529770 15576 logenv.py:75] #1  53.68  [R=  68.0] game over\n",
      "I0628 17:54:59.632838 15576 logenv.py:75] #1  54.25  [R=  25.0] game over\n",
      "I0628 17:54:59.661513  5664 agents.py:69] training 5 of 50: executing replay_buffer.gather_all()\n",
      "I0628 17:54:59.674517  5664 agents.py:69] training 5 of 50: executing tf_agent.train(...)\n",
      "I0628 17:55:03.446599  5664 agents.py:69] training 5 of 50: completed tf_agent.train(...) = 23642.494 [loss]\n",
      "I0628 17:55:03.449601  5664 agents.py:69] training 5 of 50: executing replay_buffer.clear()\n",
      "I0628 17:55:03.453608  5664 agents.py:69] training 6 of 50: executing collect_driver.run()\n",
      "I0628 17:55:03.458608 15576 logenv.py:75] #1  55.0   [R=   0.0] executing reset(...)\n",
      "I0628 17:55:03.593608 15576 logenv.py:75] #1  56.47  [R=  47.0] game over\n",
      "I0628 17:55:03.716605 15576 logenv.py:75] #1  57.37  [R=  37.0] game over\n",
      "I0628 17:55:03.837603  9424 logenv.py:75] #1  58.24  [R=  24.0] game over\n",
      "I0628 17:55:03.946601  9424 logenv.py:75] #1  59.21  [R=  21.0] game over\n",
      "I0628 17:55:04.000176 15188 logenv.py:75] #1  60.12  [R=  12.0] game over\n",
      "I0628 17:55:04.203086 15576 logenv.py:75] #1  61.58  [R=  58.0] game over\n",
      "I0628 17:55:04.275269 15188 logenv.py:75] #1  62.17  [R=  17.0] game over\n",
      "I0628 17:55:04.400097  2132 logenv.py:75] #1  63.32  [R=  32.0] game over\n",
      "I0628 17:55:04.481627  3760 logenv.py:75] #1  64.28  [R=  28.0] game over\n",
      "I0628 17:55:04.628809  3760 logenv.py:75] #1  65.44  [R=  44.0] game over\n",
      "I0628 17:55:04.660086  5664 agents.py:69] training 6 of 50: executing replay_buffer.gather_all()\n",
      "I0628 17:55:04.672208  5664 agents.py:69] training 6 of 50: executing tf_agent.train(...)\n",
      "I0628 17:55:09.021550  5664 agents.py:69] training 6 of 50: completed tf_agent.train(...) = 19667.447 [loss]\n",
      "I0628 17:55:09.026541  5664 agents.py:69] training 6 of 50: executing replay_buffer.clear()\n",
      "I0628 17:55:09.032549  5664 agents.py:69] training 7 of 50: executing collect_driver.run()\n",
      "I0628 17:55:09.038550  3760 logenv.py:75] #1  66.0   [R=   0.0] executing reset(...)\n",
      "I0628 17:55:09.167231  9424 logenv.py:75] #1  67.34  [R=  34.0] game over\n",
      "I0628 17:55:09.312709  2132 logenv.py:75] #1  68.47  [R=  47.0] game over\n",
      "I0628 17:55:09.456063  3280 logenv.py:75] #1  69.49  [R=  49.0] game over\n",
      "I0628 17:55:09.551324  3280 logenv.py:75] #1  70.33  [R=  33.0] game over\n",
      "I0628 17:55:09.665632  2132 logenv.py:75] #1  71.33  [R=  33.0] game over\n",
      "I0628 17:55:09.740638 15188 logenv.py:75] #1  72.13  [R=  13.0] game over\n",
      "I0628 17:55:09.861633  3280 logenv.py:75] #1  73.30  [R=  30.0] game over\n",
      "I0628 17:55:09.929636 15576 logenv.py:75] #1  74.16  [R=  16.0] game over\n",
      "I0628 17:55:10.042201  3280 logenv.py:75] #1  75.40  [R=  40.0] game over\n",
      "I0628 17:55:10.111343  2132 logenv.py:75] #1  76.18  [R=  18.0] game over\n",
      "I0628 17:55:10.146340  5664 agents.py:69] training 7 of 50: executing replay_buffer.gather_all()\n",
      "I0628 17:55:10.160339  5664 agents.py:69] training 7 of 50: executing tf_agent.train(...)\n",
      "I0628 17:55:14.272973  5664 agents.py:69] training 7 of 50: completed tf_agent.train(...) = 17512.760 [loss]\n",
      "I0628 17:55:14.278980  5664 agents.py:69] training 7 of 50: executing replay_buffer.clear()\n",
      "I0628 17:55:14.285981  5664 agents.py:69] training 8 of 50: executing collect_driver.run()\n",
      "I0628 17:55:14.293977 15188 logenv.py:75] #1  77.0   [R=   0.0] executing reset(...)\n",
      "I0628 17:55:14.356969  2132 logenv.py:75] #1  78.14  [R=  14.0] game over\n",
      "I0628 17:55:14.548979  3760 logenv.py:75] #1  79.44  [R=  44.0] game over\n",
      "I0628 17:55:14.663217  9424 logenv.py:75] #1  80.35  [R=  35.0] game over\n",
      "I0628 17:55:14.797783  2132 logenv.py:75] #1  81.41  [R=  41.0] game over\n",
      "I0628 17:55:14.983787  3760 logenv.py:75] #1  82.75  [R=  75.0] game over\n",
      "I0628 17:55:15.116786  7420 logenv.py:75] #1  83.36  [R=  36.0] game over\n",
      "I0628 17:55:15.193780  7420 logenv.py:75] #1  84.15  [R=  15.0] game over\n",
      "I0628 17:55:15.466717  7420 logenv.py:75] #1  85.92  [R=  92.0] game over\n",
      "I0628 17:55:15.789986  7420 logenv.py:75] #1  86.80  [R=  80.0] game over\n",
      "I0628 17:55:15.917602 15188 logenv.py:75] #1  87.40  [R=  40.0] game over\n",
      "I0628 17:55:15.943535  5664 agents.py:69] training 8 of 50: executing replay_buffer.gather_all()\n",
      "I0628 17:55:15.957646  5664 agents.py:69] training 8 of 50: executing tf_agent.train(...)\n",
      "I0628 17:55:19.932695  5664 agents.py:69] training 8 of 50: completed tf_agent.train(...) = 42323.293 [loss]\n",
      "I0628 17:55:19.937697  5664 agents.py:69] training 8 of 50: executing replay_buffer.clear()\n",
      "I0628 17:55:19.944712  5664 agents.py:69] training 9 of 50: executing collect_driver.run()\n",
      "I0628 17:55:19.949701 15188 logenv.py:75] #1  88.0   [R=   0.0] executing reset(...)\n",
      "I0628 17:55:20.213861 12880 logenv.py:75] #1  89.74  [R=  74.0] game over\n",
      "I0628 17:55:20.357671  3760 logenv.py:75] #1  90.32  [R=  32.0] game over\n",
      "I0628 17:55:20.532421  9424 logenv.py:75] #1  91.36  [R=  36.0] game over\n",
      "I0628 17:55:20.706878 15576 logenv.py:75] #1  92.62  [R=  62.0] game over\n",
      "I0628 17:55:20.767848  3760 logenv.py:75] #1  93.14  [R=  14.0] game over\n",
      "I0628 17:55:20.842811  3280 logenv.py:75] #1  94.18  [R=  18.0] game over\n",
      "I0628 17:55:21.138987 12880 logenv.py:75] #1  95.122 [R= 122.0] game over\n",
      "I0628 17:55:21.345278  7420 logenv.py:75] #1  96.71  [R=  71.0] game over\n",
      "I0628 17:55:21.496281  3760 logenv.py:75] #1  97.42  [R=  42.0] game over\n",
      "I0628 17:55:21.629280  3280 logenv.py:75] #1  98.33  [R=  33.0] game over\n",
      "I0628 17:55:21.664279  5664 agents.py:69] training 9 of 50: executing replay_buffer.gather_all()\n",
      "I0628 17:55:21.684282  5664 agents.py:69] training 9 of 50: executing tf_agent.train(...)\n",
      "I0628 17:55:25.812683  5664 agents.py:69] training 9 of 50: completed tf_agent.train(...) = 51901.031 [loss]\n",
      "I0628 17:55:25.822685  5664 agents.py:69] training 9 of 50: executing replay_buffer.clear()\n",
      "I0628 17:55:25.838692  5664 agents.py:69] training 10 of 50: executing collect_driver.run()\n",
      "I0628 17:55:25.856688 12880 logenv.py:75] #1  99.0   [R=   0.0] executing reset(...)\n",
      "I0628 17:55:25.975689  7420 logenv.py:75] #1 100.30  [R=  30.0] game over\n",
      "I0628 17:55:26.196687  7420 logenv.py:75] #1 101.81  [R=  81.0] game over\n",
      "I0628 17:55:26.290403 15576 logenv.py:75] #1 102.27  [R=  27.0] game over\n",
      "I0628 17:55:26.362831  2132 logenv.py:75] #1 103.19  [R=  19.0] game over\n",
      "I0628 17:55:26.483630 15188 logenv.py:75] #1 104.38  [R=  38.0] game over\n",
      "I0628 17:55:26.551994  2132 logenv.py:75] #1 105.20  [R=  20.0] game over\n",
      "I0628 17:55:26.653976 12880 logenv.py:75] #1 106.32  [R=  32.0] game over\n",
      "I0628 17:55:27.029851  3280 logenv.py:75] #1 107.137 [R= 137.0] game over\n",
      "I0628 17:55:27.484282  9424 logenv.py:75] #1 108.156 [R= 156.0] game over\n",
      "I0628 17:55:27.591284  7420 logenv.py:75] #1 109.25  [R=  25.0] game over\n",
      "I0628 17:55:27.623281  5664 agents.py:69] training 10 of 50: executing replay_buffer.gather_all()\n",
      "I0628 17:55:27.637281  5664 agents.py:69] training 10 of 50: executing tf_agent.train(...)\n",
      "I0628 17:55:31.694282  5664 agents.py:69] training 10 of 50: completed tf_agent.train(...) = 83750.148 [loss]\n",
      "I0628 17:55:31.698286  5664 agents.py:69] training 10 of 50: executing replay_buffer.clear()\n",
      "I0628 17:55:31.703846  5664 agents.py:69] executing compute_avg_return(...)\n"
     ]
    }
   ],
   "source": [
    "ppoAgent = PpoAgent(    gym_env_name = 'CartPole-v0',\n",
    "                        fc_layers=(100,), \n",
    "                        training_duration=training_duration )\n",
    "ppoAgent.train()"
   ]
  },
  {
   "cell_type": "markdown",
   "metadata": {},
   "source": [
    "## Visualize"
   ]
  },
  {
   "cell_type": "code",
   "execution_count": 4,
   "metadata": {},
   "outputs": [
    {
     "data": {
      "image/png": "[encoded data removed]",
      "text/plain": [
       "<Figure size 432x288 with 1 Axes>"
      ]
     },
     "metadata": {
      "needs_background": "light"
     },
     "output_type": "display_data"
    }
   ],
   "source": [
    "ppoAgent.plot_average_returns()"
   ]
  },
  {
   "cell_type": "code",
   "execution_count": 5,
   "metadata": {},
   "outputs": [
    {
     "data": {
      "image/png": "[encoded data removed]",
      "text/plain": [
       "<Figure size 432x288 with 1 Axes>"
      ]
     },
     "metadata": {
      "needs_background": "light"
     },
     "output_type": "display_data"
    }
   ],
   "source": [
    "ppoAgent.plot_losses()"
   ]
  }
 ],
 "metadata": {
  "accelerator": "GPU",
  "colab": {
   "collapsed_sections": [],
   "name": "Untitled2.ipynb",
   "provenance": [],
   "version": "0.3.2"
  },
  "kernelspec": {
   "display_name": "Python 3",
   "language": "python",
   "name": "python3"
  },
  "language_info": {
   "codemirror_mode": {
    "name": "ipython",
    "version": 3
   },
   "file_extension": ".py",
   "mimetype": "text/x-python",
   "name": "python",
   "nbconvert_exporter": "python",
   "pygments_lexer": "ipython3",
   "version": "3.7.3"
  }
 },
 "nbformat": 4,
 "nbformat_minor": 1
}
