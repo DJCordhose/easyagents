{
 "cells": [
  {
   "cell_type": "markdown",
   "metadata": {
    "colab_type": "text",
    "id": "itbylRO_XSzd"
   },
   "source": [
    "# CartPole Gym environment with TfAgents"
   ]
  },
  {
   "cell_type": "markdown",
   "metadata": {
    "colab_type": "text",
    "id": "JszJwM7GXkFK"
   },
   "source": [
    "## Install packages (gym, tfagents, tensorflow,....)"
   ]
  },
  {
   "cell_type": "code",
   "execution_count": 1,
   "metadata": {
    "colab": {
     "base_uri": "https://localhost:8080/",
     "height": 34
    },
    "colab_type": "code",
    "id": "C-jRHCOPW56b",
    "outputId": "28038221-7a27-4906-bc36-84b6efc7dba8",
    "pycharm": {
     "is_executing": false
    }
   },
   "outputs": [
    {
     "name": "stderr",
     "output_type": "stream",
     "text": [
      "You are using pip version 19.0.3, however version 19.1.1 is available.\n",
      "You should consider upgrading via the 'python -m pip install --upgrade pip' command.\n"
     ]
    }
   ],
   "source": [
    "!pip install easyagents >/dev/null"
   ]
  },
  {
   "cell_type": "markdown",
   "metadata": {},
   "source": [
    "##### If in colab: load additional packages for rendering"
   ]
  },
  {
   "cell_type": "code",
   "execution_count": 2,
   "metadata": {
    "pycharm": {
     "is_executing": false
    }
   },
   "outputs": [],
   "source": [
    "import sys\n",
    "\n",
    "if 'google.colab' in sys.modules:\n",
    "    !apt-get install xvfb >/dev/null\n",
    "    !pip install pyvirtualdisplay >/dev/null    \n",
    "    \n",
    "    from pyvirtualdisplay import Display\n",
    "    Display(visible=0, size=(960, 720)).start()    "
   ]
  },
  {
   "cell_type": "markdown",
   "metadata": {
    "colab_type": "text",
    "id": "67n5CylJZJpt"
   },
   "source": [
    "## Dry Run (very short training, no logging)"
   ]
  },
  {
   "cell_type": "code",
   "execution_count": 3,
   "metadata": {
    "colab": {
     "base_uri": "https://localhost:8080/",
     "height": 230
    },
    "colab_type": "code",
    "id": "fuzjC3Q8ZQaC",
    "outputId": "cf1739b4-ce08-4334-de28-7155f8205e26",
    "pycharm": {
     "is_executing": false
    }
   },
   "outputs": [
    {
     "name": "stderr",
     "output_type": "stream",
     "text": [
      "WARNING: Logging before flag parsing goes to stderr.\n",
      "W0704 15:27:52.669840 13780 deprecation.py:323] From c:\\dev\\github\\easyagents\\env\\lib\\site-packages\\tensorflow_core\\python\\ops\\math_grad.py:1221: where (from tensorflow.python.ops.array_ops) is deprecated and will be removed in a future version.\n",
      "Instructions for updating:\n",
      "Use tf.where in 2.0, which has the same broadcast rule as np.where\n",
      "W0704 15:27:52.827145 13780 deprecation.py:323] From c:\\dev\\github\\easyagents\\env\\lib\\site-packages\\tensorflow_core\\python\\training\\optimizer.py:172: BaseResourceVariable.constraint (from tensorflow.python.ops.resource_variable_ops) is deprecated and will be removed in a future version.\n",
      "Instructions for updating:\n",
      "Apply a constraint manually following the optimizer update step.\n"
     ]
    }
   ],
   "source": [
    "from easyagents.tfagents import PpoAgent\n",
    "from easyagents.config import TrainingDurationFast\n",
    "from easyagents.config import LoggingSilent\n",
    "\n",
    "ppoAgent = PpoAgent( gym_env_name='CartPole-v0', training_duration=TrainingDurationFast(), logging=LoggingSilent())\n",
    "ppoAgent.train()"
   ]
  },
  {
   "cell_type": "markdown",
   "metadata": {},
   "source": [
    "### Visualize Training (average returns, losses)"
   ]
  },
  {
   "cell_type": "code",
   "execution_count": 4,
   "metadata": {
    "pycharm": {
     "is_executing": false
    }
   },
   "outputs": [
    {
     "data": {
      "image/png": "[encoded data removed]",
      "text/plain": [
       "<Figure size 432x288 with 1 Axes>"
      ]
     },
     "metadata": {
      "needs_background": "light"
     },
     "output_type": "display_data"
    }
   ],
   "source": [
    "ppoAgent.plot_average_rewards()"
   ]
  },
  {
   "cell_type": "code",
   "execution_count": 5,
   "metadata": {
    "pycharm": {
     "is_executing": false,
     "name": "#%%\n"
    }
   },
   "outputs": [
    {
     "data": {
      "image/png": "[encoded data removed]",
      "text/plain": [
       "<Figure size 432x288 with 1 Axes>"
      ]
     },
     "metadata": {
      "needs_background": "light"
     },
     "output_type": "display_data"
    }
   ],
   "source": [
    "ppoAgent.plot_losses()"
   ]
  },
  {
   "cell_type": "markdown",
   "metadata": {
    "colab_type": "text",
    "id": "67n5CylJZJpt"
   },
   "source": [
    "## Default training with movie  (self-defined network, default logging)"
   ]
  },
  {
   "cell_type": "code",
   "execution_count": 6,
   "metadata": {
    "pycharm": {
     "is_executing": false
    }
   },
   "outputs": [],
   "source": [
    "from easyagents.tfagents import PpoAgent"
   ]
  },
  {
   "cell_type": "code",
   "execution_count": 7,
   "metadata": {
    "pycharm": {
     "is_executing": false
    }
   },
   "outputs": [
    {
     "name": "stderr",
     "output_type": "stream",
     "text": [
      "I0704 15:27:57.714930 13780 agents.py:92] PpoAgent on CartPole-v0 [fc_layers=(100, 50, 25), learning_rate=0.001]\n",
      "I0704 15:27:57.717086 13780 agents.py:92] TrainingDuration 250=25*10 episodes [max 500 steps/episode, 5 epochs/iteration]\n",
      "I0704 15:28:04.981731 13780 agents.py:92] estimated  avg_reward=128.600, avg_steps=128.600\n",
      "I0704 15:28:11.583129 13780 agents.py:92] training 1 of 25: completed tf_agent.train(...) = 28920.078 [loss]\n",
      "I0704 15:28:15.075759 13780 agents.py:92] training 2 of 25: completed tf_agent.train(...) = 9659.805 [loss]\n",
      "I0704 15:28:19.795507 13780 agents.py:92] training 3 of 25: completed tf_agent.train(...) = 9851.806 [loss]\n",
      "I0704 15:28:21.268518 13780 agents.py:92] training 4 of 25: completed tf_agent.train(...) = 25915.518 [loss]\n",
      "I0704 15:28:22.795020 13780 agents.py:92] training 5 of 25: completed tf_agent.train(...) = 11914.815 [loss]\n",
      "I0704 15:28:43.333901 13780 agents.py:92] estimated  avg_reward=395.700, avg_steps=395.700\n",
      "I0704 15:28:44.811826 13780 agents.py:92] training 6 of 25: completed tf_agent.train(...) = 19846.799 [loss]\n",
      "I0704 15:28:46.261837 13780 agents.py:92] training 7 of 25: completed tf_agent.train(...) = 10793.824 [loss]\n",
      "I0704 15:28:47.800784 13780 agents.py:92] training 8 of 25: completed tf_agent.train(...) = 21528.645 [loss]\n",
      "I0704 15:28:49.847511 13780 agents.py:92] training 9 of 25: completed tf_agent.train(...) = 84780.414 [loss]\n",
      "I0704 15:28:52.195178 13780 agents.py:92] training 10 of 25: completed tf_agent.train(...) = 140481.328 [loss]\n",
      "I0704 15:29:03.205806 13780 agents.py:92] estimated  avg_reward=214.000, avg_steps=214.000\n",
      "I0704 15:29:05.024102 13780 agents.py:92] training 11 of 25: completed tf_agent.train(...) = 97307.109 [loss]\n",
      "I0704 15:29:07.498111 13780 agents.py:92] training 12 of 25: completed tf_agent.train(...) = 252410.531 [loss]\n",
      "I0704 15:29:11.154246 13780 agents.py:92] training 13 of 25: completed tf_agent.train(...) = 314758.906 [loss]\n",
      "I0704 15:29:14.945750 13780 agents.py:92] training 14 of 25: completed tf_agent.train(...) = 339511.906 [loss]\n",
      "I0704 15:29:19.106287 13780 agents.py:92] training 15 of 25: completed tf_agent.train(...) = 344952.875 [loss]\n",
      "I0704 15:29:44.645758 13780 agents.py:92] estimated  avg_reward=500.000, avg_steps=500.000\n",
      "I0704 15:29:48.646300 13780 agents.py:92] training 16 of 25: completed tf_agent.train(...) = 336968.031 [loss]\n",
      "I0704 15:29:51.417955 13780 agents.py:92] training 17 of 25: completed tf_agent.train(...) = 339263.312 [loss]\n",
      "I0704 15:29:54.233869 13780 agents.py:92] training 18 of 25: completed tf_agent.train(...) = 336111.969 [loss]\n",
      "I0704 15:29:59.145182 13780 agents.py:92] training 19 of 25: completed tf_agent.train(...) = 323895.688 [loss]\n",
      "I0704 15:30:01.688732 13780 agents.py:92] training 20 of 25: completed tf_agent.train(...) = 322894.594 [loss]\n",
      "I0704 15:30:26.362035 13780 agents.py:92] estimated  avg_reward=500.000, avg_steps=500.000\n",
      "I0704 15:30:30.738814 13780 agents.py:92] training 21 of 25: completed tf_agent.train(...) = 312320.719 [loss]\n",
      "I0704 15:30:33.315214 13780 agents.py:92] training 22 of 25: completed tf_agent.train(...) = 303396.781 [loss]\n",
      "I0704 15:30:35.885878 13780 agents.py:92] training 23 of 25: completed tf_agent.train(...) = 287367.656 [loss]\n",
      "I0704 15:30:38.454819 13780 agents.py:92] training 24 of 25: completed tf_agent.train(...) = 261465.125 [loss]\n",
      "I0704 15:30:42.051031 13780 agents.py:92] training 25 of 25: completed tf_agent.train(...) = 224529.078 [loss]\n",
      "I0704 15:31:42.334799 13780 agents.py:92] estimated  avg_reward=500.000, avg_steps=500.000\n"
     ]
    }
   ],
   "source": [
    "ppoAgent = PpoAgent( gym_env_name = 'CartPole-v0', fc_layers=(100, 50, 25) )\n",
    "ppoAgent.train()"
   ]
  },
  {
   "cell_type": "markdown",
   "metadata": {},
   "source": [
    "### Visualize Training (average returns, losses)"
   ]
  },
  {
   "cell_type": "code",
   "execution_count": 8,
   "metadata": {
    "pycharm": {
     "is_executing": false
    }
   },
   "outputs": [
    {
     "data": {
      "image/png": "[encoded data removed]",
      "text/plain": [
       "<Figure size 432x288 with 1 Axes>"
      ]
     },
     "metadata": {
      "needs_background": "light"
     },
     "output_type": "display_data"
    }
   ],
   "source": [
    "ppoAgent.plot_average_rewards()"
   ]
  },
  {
   "cell_type": "code",
   "execution_count": 9,
   "metadata": {
    "pycharm": {
     "is_executing": false
    }
   },
   "outputs": [
    {
     "data": {
      "image/png": "[encoded data removed]",
      "text/plain": [
       "<Figure size 432x288 with 1 Axes>"
      ]
     },
     "metadata": {
      "needs_background": "light"
     },
     "output_type": "display_data"
    }
   ],
   "source": [
    "ppoAgent.plot_losses()"
   ]
  },
  {
   "cell_type": "markdown",
   "metadata": {},
   "source": [
    "### Visualize Trained Policy (playing a game)"
   ]
  },
  {
   "cell_type": "code",
   "execution_count": 10,
   "metadata": {
    "pycharm": {
     "is_executing": false
    }
   },
   "outputs": [
    {
     "name": "stderr",
     "output_type": "stream",
     "text": [
      "W0704 15:31:47.321194 13780 ffmpeg.py:839] IMAGEIO FFMPEG_WRITER WARNING: input image is not divisible by macro_block_size=16, resizing from (400, 600) to (400, 608) to ensure video compatibility with most codecs and players. To prevent resizing, make your input image divisible by the macro_block_size or set the macro_block_size to None (risking incompatibility). You may also see a FFMPEG warning concerning speedloss due to data not being aligned.\n"
     ]
    },
    {
     "data": {
      "text/html": [
       "\n",
       "        <video width=\"640\" height=\"480\" controls>\n",
       "            <source src=\"data:video/mp4;base64,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\" type=\"video/mp4\">\n",
       "        Your browser does not support the video tag.\n",
       "        </video>"
      ],
      "text/plain": [
       "<IPython.core.display.HTML object>"
      ]
     },
     "execution_count": 10,
     "metadata": {},
     "output_type": "execute_result"
    }
   ],
   "source": [
    "from IPython.display import HTML\n",
    "\n",
    "HTML( ppoAgent.render_episodes_to_html(num_episodes=1, fps=50) )"
   ]
  },
  {
   "cell_type": "markdown",
   "metadata": {
    "colab_type": "text",
    "id": "67n5CylJZJpt"
   },
   "source": [
    "## Custom training (self-defined training scheme, logging & movie)"
   ]
  },
  {
   "cell_type": "code",
   "execution_count": 11,
   "metadata": {
    "pycharm": {
     "is_executing": false
    }
   },
   "outputs": [],
   "source": [
    "from easyagents.tfagents import PpoAgent\n",
    "from easyagents.config import TrainingDuration\n",
    "from easyagents.config import Logging"
   ]
  },
  {
   "cell_type": "code",
   "execution_count": 12,
   "metadata": {
    "pycharm": {
     "is_executing": false
    }
   },
   "outputs": [],
   "source": [
    "training_duration=TrainingDuration( num_iterations = 50,\n",
    "                                    num_episodes_per_iteration = 10,\n",
    "                                    max_steps_per_episode = 300,\n",
    "                                    num_epochs_per_iteration = 10,\n",
    "                                    num_iterations_between_eval = 5,\n",
    "                                    num_eval_episodes = 10 )"
   ]
  },
  {
   "cell_type": "code",
   "execution_count": 13,
   "metadata": {
    "pycharm": {
     "is_executing": false
    }
   },
   "outputs": [],
   "source": [
    "logging=Logging( log_agent = True, log_gym_api = False)"
   ]
  },
  {
   "cell_type": "code",
   "execution_count": null,
   "metadata": {
    "pycharm": {
     "is_executing": true
    }
   },
   "outputs": [
    {
     "name": "stderr",
     "output_type": "stream",
     "text": [
      "I0704 15:32:14.709851 13780 agents.py:92] PpoAgent on CartPole-v0 [fc_layers=(100, 50, 25), learning_rate=0.001]\n",
      "I0704 15:32:14.711856 13780 agents.py:92] TrainingDuration 500=50*10 episodes [max 300 steps/episode, 10 epochs/iteration]\n",
      "I0704 15:32:14.713853 13780 agents.py:87] executing: tf.compat.v1.enable_v2_behavior()\n",
      "I0704 15:32:14.716445 13780 agents.py:87] executing: tf.enable_eager_execution()\n",
      "I0704 15:32:14.716957 13780 agents.py:87] executing: tf.compat.v1.set_random_seed(0)\n",
      "I0704 15:32:14.996657 13780 agents.py:87] Creating environment:\n",
      "I0704 15:32:14.997756 13780 agents.py:87]    executing tf_py_environment.TFPyEnvironment( suite_gym.load )\n",
      "I0704 15:32:15.003763 13780 agents.py:87] Creating agent:\n",
      "I0704 15:32:15.004761 13780 agents.py:87]   creating  tf.compat.v1.train.AdamOptimizer( ... )\n",
      "I0704 15:32:15.011888 13780 agents.py:87]   creating  PpoAgent( ... )\n",
      "I0704 15:32:15.027016 13780 agents.py:87]   executing tf_agent.initialize()\n",
      "I0704 15:32:15.028818 13780 agents.py:87] Creating data collection:\n",
      "I0704 15:32:15.030803 13780 agents.py:87]   creating TFUniformReplayBuffer()\n",
      "I0704 15:32:15.051800 13780 agents.py:87]   creating DynamicEpisodeDriver()\n",
      "I0704 15:32:15.053855 13780 agents.py:87] estimating average rewards and episode lengths for current policy...\n",
      "I0704 15:32:15.054802 13780 agents.py:87]    executing tf_py_environment.TFPyEnvironment( suite_gym.load )\n",
      "I0704 15:32:28.516649 13780 agents.py:92] estimated  avg_reward=173.000, avg_steps=173.000\n",
      "I0704 15:32:28.517651 13780 agents.py:87] Starting training:\n",
      "I0704 15:32:28.519797 13780 agents.py:87] training 1 of 50: executing collect_driver.run()\n",
      "I0704 15:32:30.124864 13780 agents.py:87] training 1 of 50: executing replay_buffer.gather_all()\n",
      "I0704 15:32:30.135859 13780 agents.py:87] training 1 of 50: executing tf_agent.train(...)\n",
      "I0704 15:32:54.921670 13780 agents.py:92] training 1 of 50: completed tf_agent.train(...) = 7342.432 [loss]\n",
      "I0704 15:32:54.923672 13780 agents.py:87] training 1 of 50: executing replay_buffer.clear()\n",
      "I0704 15:32:54.925346 13780 agents.py:87] training 2 of 50: executing collect_driver.run()\n",
      "I0704 15:32:55.082750 13780 agents.py:87] training 2 of 50: executing replay_buffer.gather_all()\n",
      "I0704 15:32:55.086751 13780 agents.py:87] training 2 of 50: executing tf_agent.train(...)\n",
      "I0704 15:33:02.293791 13780 agents.py:92] training 2 of 50: completed tf_agent.train(...) = 12241.614 [loss]\n",
      "I0704 15:33:02.295054 13780 agents.py:87] training 2 of 50: executing replay_buffer.clear()\n",
      "I0704 15:33:02.296791 13780 agents.py:87] training 3 of 50: executing collect_driver.run()\n",
      "I0704 15:33:02.407971 13780 agents.py:87] training 3 of 50: executing replay_buffer.gather_all()\n",
      "I0704 15:33:02.410786 13780 agents.py:87] training 3 of 50: executing tf_agent.train(...)\n",
      "I0704 15:33:12.357013 13780 agents.py:92] training 3 of 50: completed tf_agent.train(...) = 7140.069 [loss]\n",
      "I0704 15:33:12.357964 13780 agents.py:87] training 3 of 50: executing replay_buffer.clear()\n",
      "I0704 15:33:12.359931 13780 agents.py:87] training 4 of 50: executing collect_driver.run()\n",
      "I0704 15:33:12.451848 13780 agents.py:87] training 4 of 50: executing replay_buffer.gather_all()\n",
      "I0704 15:33:12.454851 13780 agents.py:87] training 4 of 50: executing tf_agent.train(...)\n",
      "I0704 15:33:15.090149 13780 agents.py:92] training 4 of 50: completed tf_agent.train(...) = 8067.999 [loss]\n",
      "I0704 15:33:15.092138 13780 agents.py:87] training 4 of 50: executing replay_buffer.clear()\n",
      "I0704 15:33:15.096141 13780 agents.py:87] training 5 of 50: executing collect_driver.run()\n",
      "I0704 15:33:15.379070 13780 agents.py:87] training 5 of 50: executing replay_buffer.gather_all()\n",
      "I0704 15:33:15.384084 13780 agents.py:87] training 5 of 50: executing tf_agent.train(...)\n",
      "I0704 15:33:18.108621 13780 agents.py:92] training 5 of 50: completed tf_agent.train(...) = 10497.946 [loss]\n",
      "I0704 15:33:18.109619 13780 agents.py:87] training 5 of 50: executing replay_buffer.clear()\n",
      "I0704 15:33:18.111640 13780 agents.py:87] estimating average rewards and episode lengths for current policy...\n",
      "I0704 15:33:22.083621 13780 agents.py:92] estimated  avg_reward=77.600, avg_steps=77.600\n",
      "I0704 15:33:22.084621 13780 agents.py:87] training 6 of 50: executing collect_driver.run()\n",
      "I0704 15:33:22.211912 13780 agents.py:87] training 6 of 50: executing replay_buffer.gather_all()\n",
      "I0704 15:33:22.214910 13780 agents.py:87] training 6 of 50: executing tf_agent.train(...)\n",
      "I0704 15:33:25.092634 13780 agents.py:92] training 6 of 50: completed tf_agent.train(...) = 12480.307 [loss]\n",
      "I0704 15:33:25.093633 13780 agents.py:87] training 6 of 50: executing replay_buffer.clear()\n",
      "I0704 15:33:25.095634 13780 agents.py:87] training 7 of 50: executing collect_driver.run()\n",
      "I0704 15:33:25.407115 13780 agents.py:87] training 7 of 50: executing replay_buffer.gather_all()\n",
      "I0704 15:33:25.410110 13780 agents.py:87] training 7 of 50: executing tf_agent.train(...)\n",
      "I0704 15:33:28.146906 13780 agents.py:92] training 7 of 50: completed tf_agent.train(...) = 40887.551 [loss]\n",
      "I0704 15:33:28.148825 13780 agents.py:87] training 7 of 50: executing replay_buffer.clear()\n",
      "I0704 15:33:28.150437 13780 agents.py:87] training 8 of 50: executing collect_driver.run()\n",
      "I0704 15:33:28.677963 13780 agents.py:87] training 8 of 50: executing replay_buffer.gather_all()\n",
      "I0704 15:33:28.681870 13780 agents.py:87] training 8 of 50: executing tf_agent.train(...)\n",
      "I0704 15:33:31.448132 13780 agents.py:92] training 8 of 50: completed tf_agent.train(...) = 139499.875 [loss]\n",
      "I0704 15:33:31.449131 13780 agents.py:87] training 8 of 50: executing replay_buffer.clear()\n",
      "I0704 15:33:31.451139 13780 agents.py:87] training 9 of 50: executing collect_driver.run()\n",
      "I0704 15:33:31.865082 13780 agents.py:87] training 9 of 50: executing replay_buffer.gather_all()\n",
      "I0704 15:33:31.869178 13780 agents.py:87] training 9 of 50: executing tf_agent.train(...)\n",
      "I0704 15:33:34.598814 13780 agents.py:92] training 9 of 50: completed tf_agent.train(...) = 101534.422 [loss]\n",
      "I0704 15:33:34.599825 13780 agents.py:87] training 9 of 50: executing replay_buffer.clear()\n",
      "I0704 15:33:34.601825 13780 agents.py:87] training 10 of 50: executing collect_driver.run()\n",
      "I0704 15:33:35.704928 13780 agents.py:87] training 10 of 50: executing replay_buffer.gather_all()\n",
      "I0704 15:33:35.707926 13780 agents.py:87] training 10 of 50: executing tf_agent.train(...)\n"
     ]
    }
   ],
   "source": [
    "ppoAgent = PpoAgent( gym_env_name = 'CartPole-v0', \n",
    "                     fc_layers=(100, 50, 25),\n",
    "                     training_duration=training_duration,\n",
    "                     logging=logging)\n",
    "ppoAgent.train()"
   ]
  },
  {
   "cell_type": "markdown",
   "metadata": {},
   "source": [
    "### Visualize Training (average returns, losses)"
   ]
  },
  {
   "cell_type": "code",
   "execution_count": null,
   "metadata": {
    "pycharm": {
     "is_executing": true
    }
   },
   "outputs": [],
   "source": [
    "ppoAgent.plot_average_rewards()"
   ]
  },
  {
   "cell_type": "code",
   "execution_count": null,
   "metadata": {
    "pycharm": {
     "is_executing": true
    }
   },
   "outputs": [],
   "source": [
    "ppoAgent.plot_losses()"
   ]
  },
  {
   "cell_type": "markdown",
   "metadata": {},
   "source": [
    "### Visualize Trained Policy (playing a game)"
   ]
  },
  {
   "cell_type": "code",
   "execution_count": null,
   "metadata": {
    "pycharm": {
     "is_executing": true
    }
   },
   "outputs": [],
   "source": [
    "from IPython.display import HTML\n",
    "\n",
    "HTML( ppoAgent.render_episodes_to_html( num_episodes=2, fps=50, width=960, height=720) )"
   ]
  }
 ],
 "metadata": {
  "accelerator": "GPU",
  "colab": {
   "collapsed_sections": [],
   "name": "Untitled2.ipynb",
   "provenance": [],
   "version": "0.3.2"
  },
  "kernelspec": {
   "display_name": "Python 3",
   "language": "python",
   "name": "python3"
  },
  "language_info": {
   "codemirror_mode": {
    "name": "ipython",
    "version": 3
   },
   "file_extension": ".py",
   "mimetype": "text/x-python",
   "name": "python",
   "nbconvert_exporter": "python",
   "pygments_lexer": "ipython3",
   "version": "3.7.3"
  },
  "pycharm": {
   "stem_cell": {
    "cell_type": "raw",
    "metadata": {
     "collapsed": false
    },
    "source": []
   }
  }
 },
 "nbformat": 4,
 "nbformat_minor": 1
}
