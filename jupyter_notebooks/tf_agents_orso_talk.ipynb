{
 "cells": [
  {
   "cell_type": "markdown",
   "metadata": {
    "colab_type": "text",
    "id": "view-in-github"
   },
   "source": [
    "<a href=\"https://colab.research.google.com/github/christianhidber/easyagents/blob/master/jupyter_notebooks/tf_agents_orso_talk.ipynb\" target=\"_parent\"><img src=\"https://colab.research.google.com/assets/colab-badge.svg\" alt=\"Open In Colab\"/></a>"
   ]
  },
  {
   "cell_type": "markdown",
   "metadata": {
    "colab_type": "text",
    "id": "44SKfTDHsayI"
   },
   "source": [
    "# Orso's live running on raw TF Agents\n",
    "\n",
    "Make our bear Orso find all the honey in his home turf choosing the most convenient path.  \n",
    "\n",
    "![Orso](https://github.com/christianhidber/easyagents/blob/master/jupyter_notebooks/images/Orso.png?raw=1)\n",
    "\n",
    "\n",
    "![Orso](https://github.com/christianhidber/easyagents/blob/master/jupyter_notebooks/images/turf.png?raw=1)\n",
    "\n",
    "\n",
    "https://opendatascience.com/bears-need-to-learn-as-well-practical-reinforcement-learning-with-tensorflow-2-0-tf-agents"
   ]
  },
  {
   "cell_type": "code",
   "execution_count": 1,
   "metadata": {
    "colab": {},
    "colab_type": "code",
    "id": "d8CBZOeEteb4"
   },
   "outputs": [],
   "source": [
    "import matplotlib.pyplot as plt\n",
    "# plt.xkcd()\n",
    "# plt.style.use('ggplot')\n",
    "%matplotlib inline\n",
    "\n",
    "import matplotlib as mpl\n",
    "mpl.rcParams['figure.figsize'] = (12, 9)\n",
    "# mpl.rcParams['figure.figsize'] = (20, 12)\n",
    "# mpl.rcParams[\"figure.dpi\"] = 300"
   ]
  },
  {
   "cell_type": "code",
   "execution_count": 2,
   "metadata": {
    "colab": {},
    "colab_type": "code",
    "id": "D1au63NZtez2"
   },
   "outputs": [
    {
     "name": "stderr",
     "output_type": "stream",
     "text": [
      "The system cannot find the path specified.\n"
     ]
    }
   ],
   "source": [
    "import sys\n",
    "if 'google.colab' in sys.modules:\n",
    "    !pip install -q easyagents 2>/dev/null\n",
    "    \n",
    "!pip install -q networkx==2.3.0 2>/dev/null"
   ]
  },
  {
   "cell_type": "code",
   "execution_count": 3,
   "metadata": {
    "colab": {
     "base_uri": "https://localhost:8080/",
     "height": 34
    },
    "colab_type": "code",
    "id": "_stl7FMotiB_",
    "outputId": "12875aad-b413-4e2c-cc3e-453a64ac77a7"
   },
   "outputs": [],
   "source": [
    "import sys\n",
    "import warnings\n",
    "\n",
    "warnings.filterwarnings('ignore')\n",
    "if 'google.colab' in sys.modules:\n",
    "    !apt-get install xvfb >/dev/null\n",
    "    !pip install pyvirtualdisplay >/dev/null    \n",
    "    \n",
    "    from pyvirtualdisplay import Display\n",
    "    Display(visible=0, size=(960, 720)).start() "
   ]
  },
  {
   "cell_type": "code",
   "execution_count": 4,
   "metadata": {
    "colab": {
     "base_uri": "https://localhost:8080/",
     "height": 284
    },
    "colab_type": "code",
    "id": "4LNjWlw6sayL",
    "outputId": "650c4879-78e6-454d-d079-b7c53d052f0b"
   },
   "outputs": [
    {
     "name": "stdout",
     "output_type": "stream",
     "text": [
      "WARNING:tensorflow:\n",
      "\n",
      "  TensorFlow's `tf-nightly` package will soon be updated to TensorFlow 2.0.\n",
      "\n",
      "  Please upgrade your code to TensorFlow 2.0:\n",
      "    * https://www.tensorflow.org/beta/guide/migration_guide\n",
      "\n",
      "  Or install the latest stable TensorFlow 1.X release:\n",
      "    * `pip install -U \"tensorflow==1.*\"`\n",
      "\n",
      "  Otherwise your code may be broken by the change.\n",
      "\n",
      "  \n"
     ]
    }
   ],
   "source": [
    "from __future__ import absolute_import\n",
    "from __future__ import division\n",
    "from __future__ import print_function\n",
    "\n",
    "import sys\n",
    "import matplotlib.pyplot as plt\n",
    "\n",
    "import base64\n",
    "import imageio\n",
    "import IPython\n",
    "import matplotlib\n",
    "import matplotlib.pyplot as plt\n",
    "import PIL.Image\n",
    "\n",
    "import tensorflow as tf\n",
    "\n",
    "from tf_agents.agents.reinforce import reinforce_agent\n",
    "from tf_agents.agents.ppo import ppo_agent\n",
    "from tf_agents.drivers import dynamic_step_driver\n",
    "from tf_agents.drivers.dynamic_episode_driver import DynamicEpisodeDriver\n",
    "from tf_agents.environments import suite_gym\n",
    "from tf_agents.environments import tf_py_environment\n",
    "from tf_agents.eval import metric_utils\n",
    "from tf_agents.metrics import tf_metrics\n",
    "from tf_agents.networks import actor_distribution_network\n",
    "from tf_agents.networks import value_network\n",
    "from tf_agents.replay_buffers import tf_uniform_replay_buffer\n",
    "from tf_agents.trajectories import trajectory\n",
    "from tf_agents.utils import common\n",
    "\n",
    "tf.compat.v1.enable_v2_behavior()"
   ]
  },
  {
   "cell_type": "markdown",
   "metadata": {
    "colab_type": "text",
    "id": "x-olom0nwiSX"
   },
   "source": [
    "### Orso's Environment (OpenAI Gym)"
   ]
  },
  {
   "cell_type": "code",
   "execution_count": 5,
   "metadata": {
    "colab": {},
    "colab_type": "code",
    "id": "3plH2u3Swotj",
    "pycharm": {
     "is_executing": false
    }
   },
   "outputs": [],
   "source": [
    "import gym\n",
    "from gym import spaces\n",
    "import matplotlib.image as mpi\n",
    "from matplotlib.offsetbox import (OffsetImage, AnnotationBbox)\n",
    "from IPython.display import display, clear_output\n",
    "import networkx as nx\n",
    "import numpy as np\n",
    "import random\n",
    "\n",
    "graph = {\n",
    "            'S': [('A', 300), ('B', 100), ('C', 200)],\n",
    "            'A': [('S', 300), ('B', 100), ('E', 100), ('D', 100)],\n",
    "            'B': [('S', 100), ('A', 100), ('C', 50), ('K', 200)],\n",
    "            'C': [('S', 200), ('B', 50), ('M', 100), ('L', 200)],\n",
    "            'D': [('A', 100), ('F', 50)],\n",
    "            'E': [('A', 100), ('F', 100), ('H', 100)],\n",
    "            'F': [('D', 50), ('E', 100), ('G', 200)],\n",
    "            'G': [('F', 200), ('O', 300)],\n",
    "            'H': [('E', 100), ('K', 300)],\n",
    "            'K': [('B', 200), ('H', 300)],\n",
    "            'L': [('C', 200), ('M', 50)],\n",
    "            'M': [('C', 100), ('L', 50), ('N', 100)],\n",
    "            'N': [('M', 100), ('O', 100)],\n",
    "            'O': [('N', 100), ('G', 300)]\n",
    "        }\n",
    "\n",
    "def state_name_to_int(state):\n",
    "    state_name_map = {\n",
    "        'S': 0,\n",
    "        'A': 1,\n",
    "        'B': 2,\n",
    "        'C': 3,\n",
    "        'D': 4,\n",
    "        'E': 5,\n",
    "        'F': 6,\n",
    "        'G': 7,\n",
    "        'H': 8,\n",
    "        'K': 9,\n",
    "        'L': 10,\n",
    "        'M': 11,\n",
    "        'N': 12,\n",
    "        'O': 13\n",
    "    }\n",
    "    return state_name_map[state]\n",
    "\n",
    "def int_to_state_name(state_as_int):\n",
    "    state_map = {\n",
    "        0: 'S',\n",
    "        1: 'A',\n",
    "        2: 'B',\n",
    "        3: 'C',\n",
    "        4: 'D',\n",
    "        5: 'E',\n",
    "        6: 'F',\n",
    "        7: 'G',\n",
    "        8: 'H',\n",
    "        9: 'K',\n",
    "        10: 'L',\n",
    "        11: 'M',\n",
    "        12: 'N',\n",
    "        13: 'O'\n",
    "    }\n",
    "    return state_map[state_as_int]\n",
    "\n",
    "class OrsoEnv(gym.Env):\n",
    "    metadata = {'render.modes': ['ansi']}\n",
    "    showStep = False\n",
    "\n",
    "    def __init__(self):\n",
    "        self.map = graph\n",
    "        max_paths = 4\n",
    "        self.action_space = spaces.Discrete(max_paths)\n",
    "\n",
    "        positions = len(self.map)\n",
    "        # observations: position, reward of all 4 local paths, rest reward of all locations\n",
    "        # non existing path is -1000 and no position change\n",
    "        # look at what #getObservation returns if you are confused\n",
    "        low = np.append(np.append([0], np.full(max_paths, -1000)), np.full(positions, 0))\n",
    "        high = np.append(np.append([positions - 1], np.full(max_paths, 1000)), np.full(positions, 1000))\n",
    "        self.observation_space = spaces.Box(low=low,\n",
    "                                            high=high,\n",
    "                                            dtype=np.float32)\n",
    "        self.reward_range = (-1, 1)\n",
    "        self.envEpisodeCount = 0\n",
    "        self.envStepCount = 0\n",
    "        self._figure = None\n",
    "\n",
    "        self.reset()\n",
    "        self.optimum = self.calculate_customers_reward()\n",
    "\n",
    "        base = \"https://raw.githubusercontent.com/christianhidber/easyagents/master/images/\"\n",
    "        self.image_orso = mpi.imread(base + \"Bear.png\")\n",
    "        self.image_cave = mpi.imread(base + \"Cave.png\")\n",
    "        self.image_honey = mpi.imread(base + \"Honey.png\")\n",
    "        self.image_empty_pot = mpi.imread(base + \"EmptyPot.png\")\n",
    "        self.nx_graph, self.nx_pos = self._create_nx_graph()\n",
    "\n",
    "    def iterate_path(self, state, action):\n",
    "        paths = self.map[state]\n",
    "        if action < len(paths):\n",
    "            return paths[action]\n",
    "        else:\n",
    "            # sorry, no such action, stay where you are and pay a high penalty\n",
    "            return (state, 1000)\n",
    "\n",
    "    def step(self, action):\n",
    "        destination, cost = self.iterate_path(self.state, action)\n",
    "\n",
    "        self.cost = cost\n",
    "        self.action = action\n",
    "        self.lastStep_state = self.state\n",
    "        self.state = destination\n",
    "        self.customerReward = self.customer_reward[destination]\n",
    "        self.reward = 0\n",
    "        self.reward = (self.customerReward - self.cost) / self.optimum\n",
    "\n",
    "        self.customer_visited(destination)\n",
    "        done = (destination == 'S' and self.all_customers_visited())\n",
    "\n",
    "        stateAsInt = state_name_to_int(self.state)\n",
    "        self.totalReward += self.reward\n",
    "        self.stepCount += 1\n",
    "        self.envStepCount += 1\n",
    "\n",
    "        if done and not self.isDone:\n",
    "            self.envEpisodeCount += 1\n",
    "\n",
    "        self.isDone = done\n",
    "        observation = self.getObservation(stateAsInt)\n",
    "        info = {\"from\": self.state, \"to\": destination}\n",
    "        return observation, self.reward, done, info\n",
    "\n",
    "    def getObservation(self, position):\n",
    "        result = np.array([position,\n",
    "                           self.getPathObservation(position, 0),\n",
    "                           self.getPathObservation(position, 1),\n",
    "                           self.getPathObservation(position, 2),\n",
    "                           self.getPathObservation(position, 3)\n",
    "                           ],\n",
    "                          dtype=np.float32)\n",
    "        all_rest_rewards = list(self.customer_reward.values())\n",
    "        result = np.append(result, all_rest_rewards)\n",
    "        return result\n",
    "\n",
    "    def getPathObservation(self, position, path):\n",
    "        paths = self.map[self.state]\n",
    "        if path < len(paths):\n",
    "            target, cost = paths[path]\n",
    "            reward = self.customer_reward[target]\n",
    "            result = reward - cost\n",
    "        else:\n",
    "            result = -1000\n",
    "\n",
    "        return result\n",
    "\n",
    "    def customer_visited(self, customer):\n",
    "        self.customer_reward[customer] = 0\n",
    "\n",
    "    def all_customers_visited(self):\n",
    "        return self.calculate_customers_reward() == 0\n",
    "\n",
    "    def calculate_customers_reward(self):\n",
    "        sum = 0\n",
    "        for value in self.customer_reward.values():\n",
    "            sum += value\n",
    "        return sum\n",
    "\n",
    "    def modulate_reward(self):\n",
    "        number_of_customers = len(self.map) - 1\n",
    "        number_per_consultant = int(number_of_customers / 2)\n",
    "        self.customer_reward = {\n",
    "            'S': 0\n",
    "        }\n",
    "        self._honeypot_places = []\n",
    "        for customer_nr in range(1, number_of_customers + 1):\n",
    "            self.customer_reward[int_to_state_name(customer_nr)] = 0\n",
    "\n",
    "        # every consultant only visits a few random customers\n",
    "        samples = random.sample(range(1, number_of_customers + 1), k=number_per_consultant)\n",
    "        key_list = list(self.customer_reward.keys())\n",
    "        for sample in samples:\n",
    "            self.customer_reward[key_list[sample]] = 1000\n",
    "            self._honeypot_places = self._honeypot_places + [key_list[sample]]\n",
    "\n",
    "    def reset(self):\n",
    "        self.totalReward = 0\n",
    "        self.stepCount = 0\n",
    "        self.isDone = False\n",
    "        self.state = 'S'\n",
    "        self.cost = 0\n",
    "        self.action = 0\n",
    "        self.lastStep_state = ''\n",
    "        self.customerReward = None\n",
    "        self._honeypot_places = None\n",
    "        self.reward = 0\n",
    "        self.envEpisodeCount += 1\n",
    "        self.modulate_reward()\n",
    "        self._figure = None\n",
    "        return self.getObservation(state_name_to_int(self.state))\n",
    "\n",
    "    def _create_nx_graph(self):\n",
    "        \"\"\" generates the networkx graph representing orso's world with all its paths.\n",
    "\n",
    "        :return: graph, positions\n",
    "        \"\"\"\n",
    "        nx_graph = nx.Graph()\n",
    "        for node_id in self.map.keys():\n",
    "            zoom = 0.6\n",
    "            image = self.image_empty_pot\n",
    "            nx_graph.add_node(node_id, image=image, zoom=zoom)\n",
    "        for source, connections in self.map.items():\n",
    "            for target, cost in connections:\n",
    "                if cost >= 300:\n",
    "                    color = 'dodgerblue'\n",
    "                elif cost >= 200:\n",
    "                    color = 'darkgoldenrod'\n",
    "                elif cost >= 100:\n",
    "                    color = 'forestgreen'\n",
    "                else:\n",
    "                    color = 'greenyellow'\n",
    "                nx_graph.add_edge(source, target, color=color, weight=6, image=self.image_cave)\n",
    "        nx_pos = nx.kamada_kawai_layout(nx_graph)\n",
    "        return nx_graph, nx_pos\n",
    "\n",
    "    def _render_to_figure(self):\n",
    "        \"\"\" Renders the current state as a graph with matplotlib\n",
    "        \"\"\"\n",
    "        # draw graph using matplotlib\n",
    "        if (self._figure is not None):\n",
    "            plt.close(self._figure)\n",
    "        self._figure = plt.figure(\"BeraterEnv\", figsize=(12, 9))\n",
    "        if len(self._figure.axes) == 0:\n",
    "            self._figure.add_subplot(1, 1, 1)\n",
    "        self._figure.axes[0].cla()\n",
    "        ax = self._figure.axes[0]\n",
    "\n",
    "        edges = self.nx_graph.edges()\n",
    "        edge_colors = [self.nx_graph[u][v]['color'] for u, v in edges]\n",
    "        edge_weights = [self.nx_graph[u][v]['weight'] for u, v in edges]\n",
    "        nx.draw(self.nx_graph, pos=self.nx_pos, ax=ax, node_color='lightgrey',\n",
    "                edges=edges, edge_color=edge_colors, width=edge_weights)\n",
    "\n",
    "        # draw images on graph nodes\n",
    "        # set image (according to the current state) and sizes (make orso's current position larger)\n",
    "        for node_id in self.nx_graph.nodes():\n",
    "            node = self.nx_graph.node[node_id]\n",
    "            node['zoom'] = 0.4\n",
    "            if node_id == self.state:\n",
    "                node['zoom'] = 0.6\n",
    "            if node_id in self._honeypot_places:\n",
    "                node['image'] = self.image_empty_pot\n",
    "                if self.customer_reward[node_id] > 0:\n",
    "                    node['image'] = self.image_honey\n",
    "            else:\n",
    "                node['image'] = None\n",
    "            if node_id == 'S':\n",
    "                node['image'] = self.image_cave\n",
    "            if self.state == node_id:\n",
    "                node['image'] = self.image_orso\n",
    "\n",
    "        # position images\n",
    "        for n in self.nx_pos:\n",
    "            node = self.nx_graph.node[n]\n",
    "            image = node['image']\n",
    "            if image is not None: \n",
    "                xp, yp = self.nx_pos[n]\n",
    "                offset_image = OffsetImage(image, node['zoom'])\n",
    "                offset_image.image.axes = ax\n",
    "                ab = AnnotationBbox(offset_image, (xp, yp),\n",
    "                                    xybox=(0, 0),\n",
    "                                    xycoords='data',\n",
    "                                    boxcoords=\"offset points\",\n",
    "                                    pad=0.0,\n",
    "                                    frameon=False\n",
    "                                    )\n",
    "                ax.add_artist(ab)\n",
    "\n",
    "        self._figure.canvas.draw()\n",
    "\n",
    "    def _render_ansi(self):\n",
    "        result = (\"Episode: \" + (\"%4.0f  \" % self.envEpisodeCount) +\n",
    "                  \" Step: \" + (\"%4.0f  \" % self.stepCount) +\n",
    "                  self.lastStep_state + ' --' + str(self.action) + '-> ' + self.state +\n",
    "                  ' R=' + (\"% 2.2f\" % self.reward) + ' totalR=' + (\"% 3.2f\" % self.totalReward) +\n",
    "                  ' cost=' + (\"%4.0f\" % self.cost) + ' customerR=' + (\"%4.0f\" % self.customerReward) + ' optimum=' + (\n",
    "                          \"%4.0f\" % self.optimum)\n",
    "                  )\n",
    "        return result\n",
    "\n",
    "    def _render_rgb(self):\n",
    "        self._render_to_figure()\n",
    "        self._figure.canvas.draw()\n",
    "        buf = self._figure.canvas.tostring_rgb()\n",
    "        num_cols, num_rows = self._figure.canvas.get_width_height()\n",
    "        plt.close(self._figure)\n",
    "        self._figure = None\n",
    "        result = np.fromstring(buf, dtype=np.uint8).reshape(num_rows, num_cols, 3)\n",
    "        return result\n",
    "\n",
    "    def render(self, mode='human'):\n",
    "        if mode == 'ansi':\n",
    "            return self._render_ansi()\n",
    "        elif mode == 'human':\n",
    "            clear_output(wait=True)\n",
    "            self._render_to_figure()\n",
    "            plt.pause(0.01)\n",
    "            return\n",
    "        elif mode == 'rgb_array':\n",
    "            return self._render_rgb()\n",
    "        else:\n",
    "            super().render(mode=mode)\n",
    "          "
   ]
  },
  {
   "cell_type": "code",
   "execution_count": 6,
   "metadata": {
    "colab": {
     "base_uri": "https://localhost:8080/",
     "height": 520
    },
    "colab_type": "code",
    "id": "_fHrBrxxI5Rt",
    "outputId": "c82ed849-7ac1-4765-c944-e476ede36d2b",
    "pycharm": {
     "is_executing": false
    }
   },
   "outputs": [
    {
     "data": {
      "image/png": "[encoded data removed]",
      "text/plain": [
       "<Figure size 864x648 with 1 Axes>"
      ]
     },
     "metadata": {},
     "output_type": "display_data"
    }
   ],
   "source": [
    "env = OrsoEnv()\n",
    "env.reset()\n",
    "env.render() "
   ]
  },
  {
   "cell_type": "code",
   "execution_count": 7,
   "metadata": {
    "colab": {
     "base_uri": "https://localhost:8080/",
     "height": 520
    },
    "colab_type": "code",
    "id": "s2RYX2_2I5Ry",
    "outputId": "2090ef66-8991-4815-c8ab-9748ce1f7784",
    "pycharm": {
     "is_executing": false,
     "name": "#%%\n"
    }
   },
   "outputs": [
    {
     "data": {
      "image/png": "[encoded data removed]",
      "text/plain": [
       "<Figure size 864x648 with 1 Axes>"
      ]
     },
     "metadata": {},
     "output_type": "display_data"
    }
   ],
   "source": [
    "env.step(2)\n",
    "env.render()"
   ]
  },
  {
   "cell_type": "markdown",
   "metadata": {
    "colab_type": "text",
    "id": "CK2tTbjMsayV"
   },
   "source": [
    "### Register with OpenAI Gym"
   ]
  },
  {
   "cell_type": "code",
   "execution_count": 8,
   "metadata": {
    "colab": {},
    "colab_type": "code",
    "id": "OS3pnnbAI5R9",
    "pycharm": {
     "is_executing": false
    }
   },
   "outputs": [],
   "source": [
    "env_name=\"Orso-v1\"\n",
    "\n",
    "env = gym.envs.registration.register(id=env_name,entry_point=OrsoEnv, max_episode_steps=25)\n",
    "\n",
    "# two envs for train and eval\n",
    "train_py_env = suite_gym.load(env_name)\n",
    "eval_py_env = suite_gym.load(env_name)\n",
    "\n",
    "# converted to tf-agents tensorflow envs\n",
    "train_env = tf_py_environment.TFPyEnvironment(train_py_env)\n",
    "eval_env = tf_py_environment.TFPyEnvironment(eval_py_env)"
   ]
  },
  {
   "cell_type": "code",
   "execution_count": 9,
   "metadata": {
    "colab": {
     "base_uri": "https://localhost:8080/",
     "height": 85
    },
    "colab_type": "code",
    "id": "p8fxHl11sayY",
    "outputId": "315a0908-2de7-4d3c-cfd4-473461a3c163"
   },
   "outputs": [
    {
     "data": {
      "text/plain": [
       "<tf.Tensor: id=7, shape=(1, 19), dtype=float32, numpy=\n",
       "array([[    0.,   700.,  -100.,   800., -1000.,     0.,  1000.,     0.,\n",
       "         1000.,  1000.,     0.,     0.,  1000.,     0.,     0.,  1000.,\n",
       "            0.,     0.,  1000.]], dtype=float32)>"
      ]
     },
     "execution_count": 9,
     "metadata": {},
     "output_type": "execute_result"
    }
   ],
   "source": [
    "time_step = train_env.reset()\n",
    "observation = time_step.observation\n",
    "observation"
   ]
  },
  {
   "cell_type": "markdown",
   "metadata": {
    "colab_type": "text",
    "id": "1-ZNIgb_f-I6"
   },
   "source": [
    "### What you need using tf-agents while training\n",
    "\n",
    "![TF-Agents overview](https://github.com/christianhidber/easyagents/blob/master/jupyter_notebooks/images/tf-agents-overview.png?raw=1)\n",
    "\n",
    "https://www.youtube.com/watch?v=tAOApRQAgpc\n",
    "<br>\n",
    "https://www.youtube.com/watch?v=-TTziY7EmUA"
   ]
  },
  {
   "cell_type": "markdown",
   "metadata": {
    "colab_type": "text",
    "id": "RwLuXyAesayZ"
   },
   "source": [
    "## PPO uses two networks\n",
    "\n",
    "_given an observation_\n",
    "* Value Network: what reward to expect?\n",
    "* Actor Network: which action to take?"
   ]
  },
  {
   "cell_type": "markdown",
   "metadata": {
    "colab_type": "text",
    "id": "jd0X4B8tsaya"
   },
   "source": [
    "### Value Network"
   ]
  },
  {
   "cell_type": "code",
   "execution_count": 10,
   "metadata": {
    "colab": {
     "base_uri": "https://localhost:8080/",
     "height": 34
    },
    "colab_type": "code",
    "id": "7Qb5MccTsayb",
    "outputId": "79b95ba8-0ef9-4085-aa94-2fc4791df759"
   },
   "outputs": [
    {
     "data": {
      "text/plain": [
       "array([-20.243689], dtype=float32)"
      ]
     },
     "execution_count": 10,
     "metadata": {},
     "output_type": "execute_result"
    }
   ],
   "source": [
    "value_net = value_network.ValueNetwork(train_env.observation_spec(), \n",
    "                                       fc_layer_params=(500, 500, 500))\n",
    "value_net(observation)[0].numpy()"
   ]
  },
  {
   "cell_type": "code",
   "execution_count": 11,
   "metadata": {
    "colab": {
     "base_uri": "https://localhost:8080/",
     "height": 102
    },
    "colab_type": "code",
    "id": "34LlkBsEsayd",
    "outputId": "7530b545-ccf8-4869-9cf6-b58720e2b03e"
   },
   "outputs": [
    {
     "data": {
      "text/plain": [
       "BoundedTensorSpec(shape=(19,), dtype=tf.float32, name=None, minimum=array([    0., -1000., -1000., -1000., -1000.,     0.,     0.,     0.,\n",
       "           0.,     0.,     0.,     0.,     0.,     0.,     0.,     0.,\n",
       "           0.,     0.,     0.], dtype=float32), maximum=array([  13., 1000., 1000., 1000., 1000., 1000., 1000., 1000., 1000.,\n",
       "       1000., 1000., 1000., 1000., 1000., 1000., 1000., 1000., 1000.,\n",
       "       1000.], dtype=float32))"
      ]
     },
     "execution_count": 11,
     "metadata": {},
     "output_type": "execute_result"
    }
   ],
   "source": [
    "train_env.observation_spec()"
   ]
  },
  {
   "cell_type": "markdown",
   "metadata": {
    "colab_type": "text",
    "id": "9ZOrCWj8sayf"
   },
   "source": [
    "### Actor Network"
   ]
  },
  {
   "cell_type": "code",
   "execution_count": 12,
   "metadata": {
    "colab": {},
    "colab_type": "code",
    "id": "lyhesiZksayf"
   },
   "outputs": [],
   "source": [
    "actor_net = actor_distribution_network.ActorDistributionNetwork(\n",
    "    train_env.observation_spec(),\n",
    "    train_env.action_spec(),\n",
    "    fc_layer_params=(500, 500, 500))"
   ]
  },
  {
   "cell_type": "code",
   "execution_count": 13,
   "metadata": {
    "colab": {
     "base_uri": "https://localhost:8080/",
     "height": 34
    },
    "colab_type": "code",
    "id": "R05Fjxh6sayh",
    "outputId": "886160fa-372b-40ef-e9db-a8774d3b61ff"
   },
   "outputs": [
    {
     "data": {
      "text/plain": [
       "BoundedTensorSpec(shape=(), dtype=tf.int64, name=None, minimum=array(0, dtype=int64), maximum=array(3, dtype=int64))"
      ]
     },
     "execution_count": 13,
     "metadata": {},
     "output_type": "execute_result"
    }
   ],
   "source": [
    "train_env.action_spec()"
   ]
  },
  {
   "cell_type": "code",
   "execution_count": 14,
   "metadata": {
    "colab": {
     "base_uri": "https://localhost:8080/",
     "height": 122
    },
    "colab_type": "code",
    "id": "gIxzIGAusayj",
    "outputId": "92c50579-9a1f-4730-8518-0676ca077f67"
   },
   "outputs": [
    {
     "name": "stdout",
     "output_type": "stream",
     "text": [
      "WARNING:tensorflow:From <ipython-input-14-3cd3fb7eff0a>:2: Categorical.num_categories (from tensorflow_probability.python.distributions.categorical) is deprecated and will be removed after 2019-10-01.\n",
      "Instructions for updating:\n",
      "The `num_categories` property is deprecated.  Use `tf.shape(self.probs if self.logits is None else self.logits)[-1]` instead.\n"
     ]
    },
    {
     "data": {
      "text/plain": [
       "(4, array([[ -0.5145159, -14.473703 ,  21.151375 , -15.385473 ]],\n",
       "       dtype=float32))"
      ]
     },
     "execution_count": 14,
     "metadata": {},
     "output_type": "execute_result"
    }
   ],
   "source": [
    "distribution, _ = actor_net(observation, time_step.step_type, None)\n",
    "distribution.num_categories.numpy(), distribution.logits.numpy()"
   ]
  },
  {
   "cell_type": "code",
   "execution_count": 15,
   "metadata": {
    "colab": {
     "base_uri": "https://localhost:8080/",
     "height": 34
    },
    "colab_type": "code",
    "id": "6QQ5i1Tvsayl",
    "outputId": "e12042ed-ec5e-4012-933f-9765e4472eb9"
   },
   "outputs": [
    {
     "data": {
      "text/plain": [
       "array([2], dtype=int64)"
      ]
     },
     "execution_count": 15,
     "metadata": {},
     "output_type": "execute_result"
    }
   ],
   "source": [
    "# greedy, highest category\n",
    "distribution.mode().numpy()"
   ]
  },
  {
   "cell_type": "markdown",
   "metadata": {
    "colab_type": "text",
    "id": "vT_srWKysayn"
   },
   "source": [
    "### Custom Network (optional)"
   ]
  },
  {
   "cell_type": "markdown",
   "metadata": {
    "colab_type": "text",
    "id": "aRFUpAw4sayn"
   },
   "source": [
    "#### plain network using Keras layer API\n"
   ]
  },
  {
   "cell_type": "code",
   "execution_count": 16,
   "metadata": {
    "colab": {},
    "colab_type": "code",
    "id": "_4qUMpfesayo"
   },
   "outputs": [],
   "source": [
    "import tensorflow as tf\n",
    "\n",
    "model = tf.keras.Sequential([\n",
    "    tf.keras.layers.Dense(500, activation=tf.nn.relu),\n",
    "    tf.keras.layers.Dropout(rate=0.4),\n",
    "    \n",
    "    tf.keras.layers.Dense(250, activation=tf.nn.relu),\n",
    "    tf.keras.layers.Dropout(rate=0.4)\n",
    "])    "
   ]
  },
  {
   "cell_type": "markdown",
   "metadata": {
    "colab_type": "text",
    "id": "lbKJH413sayq"
   },
   "source": [
    "#### glue code"
   ]
  },
  {
   "cell_type": "code",
   "execution_count": 17,
   "metadata": {
    "colab": {},
    "colab_type": "code",
    "id": "ol4K0USZsayq"
   },
   "outputs": [],
   "source": [
    "from tf_agents.utils import nest_utils\n",
    "\n",
    "class CustomActorDistributionNetwork(actor_distribution_network.ActorDistributionNetwork):\n",
    "    def __init__(self,\n",
    "               input_tensor_spec,\n",
    "               output_tensor_spec,\n",
    "               custom_hidden_model):\n",
    "\n",
    "        super(CustomActorDistributionNetwork, self).__init__(input_tensor_spec, output_tensor_spec)\n",
    "        self._custom_hidden_model = custom_hidden_model\n",
    "\n",
    "    def call(self, observations, step_type, network_state):\n",
    "        state = self._custom_hidden_model(observations)\n",
    "        outer_rank = nest_utils.get_outer_rank(observations, self.input_tensor_spec)\n",
    "        output_actions = tf.nest.map_structure(\n",
    "            lambda proj_net: proj_net(state, outer_rank), self._projection_networks)\n",
    "        return output_actions, network_state\n",
    "\n",
    "\n",
    "custom_actor_net = CustomActorDistributionNetwork(\n",
    "    train_env.observation_spec(),\n",
    "    train_env.action_spec(),\n",
    "    custom_hidden_model=model)"
   ]
  },
  {
   "cell_type": "markdown",
   "metadata": {
    "colab_type": "text",
    "id": "DajwUCIXsays"
   },
   "source": [
    "### Agent"
   ]
  },
  {
   "cell_type": "code",
   "execution_count": 18,
   "metadata": {
    "colab": {
     "base_uri": "https://localhost:8080/",
     "height": 88
    },
    "colab_type": "code",
    "id": "UGpyj8wAsays",
    "outputId": "f3d9aaa0-b6d6-41c8-a35b-960559c0052b"
   },
   "outputs": [
    {
     "name": "stdout",
     "output_type": "stream",
     "text": [
      "WARNING:tensorflow:From C:\\Users\\olive\\Anaconda3\\envs\\easyagents\\lib\\site-packages\\tf_agents\\specs\\tensor_spec.py:295: SeedStream.__init__ (from tensorflow_probability.python.util.seed_stream) is deprecated and will be removed after 2019-10-01.\n",
      "Instructions for updating:\n",
      "SeedStream has moved to `tfp.util.SeedStream`.\n"
     ]
    }
   ],
   "source": [
    "optimizer = tf.compat.v1.train.AdamOptimizer(learning_rate=1e-4)\n",
    "# optimizer = tf.compat.v1.train.AdamOptimizer()\n",
    "\n",
    "tf_ppo_agent = ppo_agent.PPOAgent(\n",
    "    train_env.time_step_spec(),\n",
    "    train_env.action_spec(),\n",
    "#     actor_net=actor_net,\n",
    "    actor_net=custom_actor_net,\n",
    "    value_net=value_net,\n",
    "    optimizer=optimizer,\n",
    "#     importance_ratio_clipping=.2,\n",
    "#      initial_adaptive_kl_beta=0,\n",
    "#     entropy_regularization=0.1,\n",
    "#     value_pred_loss_coef=0.01,\n",
    "#     value_pred_loss_coef=0,\n",
    "    num_epochs=10)\n",
    "tf_ppo_agent.initialize()"
   ]
  },
  {
   "cell_type": "code",
   "execution_count": 19,
   "metadata": {
    "colab": {},
    "colab_type": "code",
    "id": "yRNr7zmwsayu"
   },
   "outputs": [],
   "source": [
    "# ppo_agent.PPOAgent?"
   ]
  },
  {
   "cell_type": "markdown",
   "metadata": {
    "colab_type": "text",
    "id": "OY8fAQHZsayw"
   },
   "source": [
    "### Replay Buffer"
   ]
  },
  {
   "cell_type": "code",
   "execution_count": 20,
   "metadata": {
    "colab": {},
    "colab_type": "code",
    "id": "GIiR9QXHsayw"
   },
   "outputs": [],
   "source": [
    "replay_buffer = tf_uniform_replay_buffer.TFUniformReplayBuffer(\n",
    "    data_spec=tf_ppo_agent.collect_data_spec,\n",
    "    batch_size=train_env.batch_size,\n",
    "    max_length=10001)\n",
    "\n",
    "avg_return = tf_metrics.AverageReturnMetric()\n",
    "avg_length = tf_metrics.AverageEpisodeLengthMetric()\n",
    "\n",
    "collect_driver = DynamicEpisodeDriver(train_env,\n",
    "                                      tf_ppo_agent.collect_policy,\n",
    "                                      observers=[replay_buffer.add_batch, avg_return, avg_length],\n",
    "                                      num_episodes=10)\n",
    "\n",
    "# just for optimized execution\n",
    "tf_ppo_agent.train = common.function(tf_ppo_agent.train)\n",
    "collect_driver.run = common.function(collect_driver.run)"
   ]
  },
  {
   "cell_type": "markdown",
   "metadata": {
    "colab_type": "text",
    "id": "ojzPyOIosayz"
   },
   "source": [
    "### Training Loop\n",
    "\n",
    "1. collect data by playing\n",
    "1. train with that data\n",
    "1. erase all data \n",
    "1. repeat for a number of iterations"
   ]
  },
  {
   "cell_type": "code",
   "execution_count": 21,
   "metadata": {},
   "outputs": [
    {
     "name": "stdout",
     "output_type": "stream",
     "text": [
      "WARNING:tensorflow:From C:\\Users\\olive\\Anaconda3\\envs\\easyagents\\lib\\site-packages\\tf_agents\\metrics\\tf_metrics.py:160: where (from tensorflow.python.ops.array_ops) is deprecated and will be removed in a future version.\n",
      "Instructions for updating:\n",
      "Use tf.where in 2.0, which has the same broadcast rule as np.where\n"
     ]
    },
    {
     "data": {
      "text/plain": [
       "LossInfo(loss=<tf.Tensor: id=11623, shape=(), dtype=float32, numpy=333.192>, extra=PPOLossInfo(policy_gradient_loss=<tf.Tensor: id=11624, shape=(), dtype=float32, numpy=-0.08995265>, value_estimation_loss=<tf.Tensor: id=11625, shape=(), dtype=float32, numpy=333.26215>, l2_regularization_loss=<tf.Tensor: id=11626, shape=(), dtype=float32, numpy=0.0>, entropy_regularization_loss=<tf.Tensor: id=11627, shape=(), dtype=float32, numpy=0.0>, kl_penalty_loss=<tf.Tensor: id=11628, shape=(), dtype=float32, numpy=0.01981584>))"
      ]
     },
     "execution_count": 21,
     "metadata": {},
     "output_type": "execute_result"
    }
   ],
   "source": [
    "collect_driver.run()\n",
    "trajectories = replay_buffer.gather_all()\n",
    "\n",
    "# train with a new set of trajectories\n",
    "loss_info = tf_ppo_agent.train(trajectories)\n",
    "loss_info"
   ]
  },
  {
   "cell_type": "code",
   "execution_count": 22,
   "metadata": {
    "colab": {},
    "colab_type": "code",
    "id": "0PuAqMfisay0"
   },
   "outputs": [],
   "source": [
    "num_iterations = 50  # @param {type:\"integer\"}\n",
    "log_interval = 25 # @param {type:\"integer\"}"
   ]
  },
  {
   "cell_type": "code",
   "execution_count": null,
   "metadata": {
    "colab": {
     "base_uri": "https://localhost:8080/",
     "height": 972
    },
    "colab_type": "code",
    "id": "U3TW7bzpsay2",
    "outputId": "83ca6200-d993-492a-d4d6-4424efec35ea"
   },
   "outputs": [
    {
     "name": "stdout",
     "output_type": "stream",
     "text": [
      "step = 50: loss = 144.49778747558594, avg return = -0.7516666650772095, avg length = 25.0\n",
      "step = 100: loss = 64.0220947265625, avg return = -0.5816667079925537, avg length = 25.0\n",
      "step = 150: loss = 18.619007110595703, avg return = -0.16750004887580872, avg length = 25.0\n",
      "step = 200: loss = 19.545385360717773, avg return = 0.020833298563957214, avg length = 25.0\n",
      "step = 250: loss = 12.186909675598145, avg return = -0.10166667401790619, avg length = 25.0\n",
      "step = 300: loss = 18.422374725341797, avg return = 0.06083332374691963, avg length = 25.0\n",
      "step = 350: loss = 14.820710182189941, avg return = 0.3199999928474426, avg length = 24.600000381469727\n",
      "step = 400: loss = 13.013816833496094, avg return = 0.3358333706855774, avg length = 23.299999237060547\n",
      "step = 450: loss = 10.12404727935791, avg return = 0.3024999797344208, avg length = 24.100000381469727\n",
      "step = 500: loss = 7.73422908782959, avg return = 0.39666667580604553, avg length = 24.100000381469727\n"
     ]
    }
   ],
   "source": [
    "%%time\n",
    "\n",
    "losses = []\n",
    "policy_gradient_losses = []\n",
    "value_estimation_losses = []\n",
    "kl_losses = []\n",
    "entropy_losses = []\n",
    "\n",
    "returns = []\n",
    "lengths = []\n",
    "\n",
    "for iteration in range(num_iterations):\n",
    "    \n",
    "    # play to collect\n",
    "    collect_driver.run()\n",
    "    trajectories = replay_buffer.gather_all()\n",
    "    \n",
    "    # train with a new set of trajectories\n",
    "    loss_info = tf_ppo_agent.train(trajectories)\n",
    "    # and clear afterwards\n",
    "    replay_buffer.clear()\n",
    "\n",
    "    # just tracking of losses and other metrics\n",
    "    total_loss = loss_info.loss.numpy()\n",
    "    losses.append(total_loss)\n",
    "\n",
    "    policy_gradient_loss = loss_info.extra.policy_gradient_loss.numpy()\n",
    "    policy_gradient_losses.append(policy_gradient_loss)\n",
    "    \n",
    "    value_estimation_loss = loss_info.extra.value_estimation_loss.numpy()\n",
    "    value_estimation_losses.append(value_estimation_loss)\n",
    "\n",
    "    kl_loss = loss_info.extra.kl_penalty_loss.numpy()\n",
    "    kl_losses.append(kl_loss)\n",
    "\n",
    "    entropy_losses.append(loss_info.extra.entropy_regularization_loss.numpy())\n",
    "\n",
    "    returns.append(avg_return.result().numpy())\n",
    "    lengths.append(avg_length.result().numpy())    \n",
    "\n",
    "    # logging\n",
    "    step = tf_ppo_agent.train_step_counter.numpy()\n",
    "    if step % log_interval == 0:\n",
    "        print('step = {0}: loss = {1}, avg return = {2}, avg length = {3}'.format(\n",
    "            step, total_loss, avg_return.result().numpy(), avg_length.result().numpy()))"
   ]
  },
  {
   "cell_type": "markdown",
   "metadata": {
    "colab_type": "text",
    "id": "kWQg0sLbsay4"
   },
   "source": [
    "### How did the training go?"
   ]
  },
  {
   "cell_type": "code",
   "execution_count": null,
   "metadata": {
    "colab": {
     "base_uri": "https://localhost:8080/",
     "height": 567
    },
    "colab_type": "code",
    "id": "H_WMFpUssay6",
    "outputId": "320a7203-dd8d-41c4-b699-0313e21f3913"
   },
   "outputs": [],
   "source": [
    "steps = range(0, num_iterations)\n",
    "\n",
    "plt.yscale('log')\n",
    "plt.plot(steps, losses)\n",
    "plt.title('Total loss (log)')\n",
    "plt.ylabel('Total loss')\n",
    "plt.xlabel('Step');"
   ]
  },
  {
   "cell_type": "code",
   "execution_count": null,
   "metadata": {},
   "outputs": [],
   "source": [
    "import statistics"
   ]
  },
  {
   "cell_type": "code",
   "execution_count": null,
   "metadata": {},
   "outputs": [],
   "source": [
    "min(losses), max(losses), statistics.mean(losses)"
   ]
  },
  {
   "cell_type": "code",
   "execution_count": null,
   "metadata": {
    "colab": {
     "base_uri": "https://localhost:8080/",
     "height": 567
    },
    "colab_type": "code",
    "id": "XxCqsIDYiUnL",
    "outputId": "887dc673-e979-427b-bd88-6e1f454823db"
   },
   "outputs": [],
   "source": [
    "steps = range(0, num_iterations)\n",
    "\n",
    "plt.yscale('log')\n",
    "\n",
    "plt.plot(steps, policy_gradient_losses)\n",
    "plt.title('Actor loss (log)')\n",
    "plt.ylabel('Actor loss')\n",
    "plt.xlabel('Step');\n",
    "plt.savefig('actor-loss-high-lr.png', transparent=True)"
   ]
  },
  {
   "cell_type": "code",
   "execution_count": null,
   "metadata": {},
   "outputs": [],
   "source": [
    "min(policy_gradient_losses), max(policy_gradient_losses), statistics.mean(policy_gradient_losses)"
   ]
  },
  {
   "cell_type": "code",
   "execution_count": null,
   "metadata": {
    "colab": {
     "base_uri": "https://localhost:8080/",
     "height": 567
    },
    "colab_type": "code",
    "id": "JXo1kOlRiX8a",
    "outputId": "bd95666e-e8be-4ac6-d7cf-aae19999b47c"
   },
   "outputs": [],
   "source": [
    "steps = range(0, num_iterations)\n",
    "\n",
    "plt.yscale('log')\n",
    "plt.plot(steps, value_estimation_losses)\n",
    "plt.title('Critic loss (log)')\n",
    "plt.ylabel('Critic loss')\n",
    "plt.xlabel('Step');"
   ]
  },
  {
   "cell_type": "code",
   "execution_count": null,
   "metadata": {},
   "outputs": [],
   "source": [
    "min(value_estimation_losses), max(value_estimation_losses), statistics.mean(value_estimation_losses)"
   ]
  },
  {
   "cell_type": "code",
   "execution_count": null,
   "metadata": {},
   "outputs": [],
   "source": [
    "steps = range(0, num_iterations)\n",
    "\n",
    "plt.yscale('log')\n",
    "plt.plot(steps, kl_losses)\n",
    "plt.title('KL loss (log)')\n",
    "plt.ylabel('KL loss')\n",
    "plt.xlabel('Step');\n",
    "plt.savefig('kl-loss-high-lr.png', transparent=True)"
   ]
  },
  {
   "cell_type": "code",
   "execution_count": null,
   "metadata": {},
   "outputs": [],
   "source": [
    "min(kl_losses), max(kl_losses), statistics.mean(kl_losses)"
   ]
  },
  {
   "cell_type": "code",
   "execution_count": null,
   "metadata": {},
   "outputs": [],
   "source": [
    "steps = range(0, num_iterations)\n",
    "\n",
    "plt.plot(steps, entropy_losses)\n",
    "plt.title('Entropy loss')\n",
    "plt.ylabel('Entropy loss')\n",
    "plt.xlabel('Step');"
   ]
  },
  {
   "cell_type": "code",
   "execution_count": null,
   "metadata": {},
   "outputs": [],
   "source": [
    "min(entropy_losses), max(entropy_losses), statistics.mean(entropy_losses)"
   ]
  },
  {
   "cell_type": "code",
   "execution_count": null,
   "metadata": {
    "colab": {
     "base_uri": "https://localhost:8080/",
     "height": 567
    },
    "colab_type": "code",
    "id": "3RyISuOCsay8",
    "outputId": "e0571e32-2034-488d-a7d5-98c2f1662ad3"
   },
   "outputs": [],
   "source": [
    "steps = range(0, num_iterations)\n",
    "plt.plot(steps, returns)\n",
    "plt.title('Average Return')\n",
    "plt.ylabel('Average Return')\n",
    "plt.xlabel('Step');"
   ]
  },
  {
   "cell_type": "code",
   "execution_count": null,
   "metadata": {},
   "outputs": [],
   "source": [
    "min(returns), max(returns)"
   ]
  },
  {
   "cell_type": "code",
   "execution_count": null,
   "metadata": {
    "colab": {
     "base_uri": "https://localhost:8080/",
     "height": 567
    },
    "colab_type": "code",
    "id": "u9AnUC4Ssay-",
    "outputId": "8e27d574-e0fa-42c6-bd68-f9952d8914d4"
   },
   "outputs": [],
   "source": [
    "steps = range(0, num_iterations)\n",
    "\n",
    "plt.plot(steps, lengths)\n",
    "plt.title('Length of episode')\n",
    "plt.ylabel('Length of episode')\n",
    "plt.xlabel('Step');"
   ]
  },
  {
   "cell_type": "code",
   "execution_count": null,
   "metadata": {},
   "outputs": [],
   "source": [
    "min(lengths), max(lengths)"
   ]
  },
  {
   "cell_type": "markdown",
   "metadata": {
    "colab_type": "text",
    "id": "wbsoVSpxsazA"
   },
   "source": [
    "### Trying out the policy network\n",
    "\n",
    "_for play we just need the policy_"
   ]
  },
  {
   "cell_type": "code",
   "execution_count": null,
   "metadata": {
    "colab": {
     "base_uri": "https://localhost:8080/",
     "height": 34
    },
    "colab_type": "code",
    "id": "U3xjpWkvsazA",
    "outputId": "68cad0b6-33cd-4ddc-e70c-84f8a7606806"
   },
   "outputs": [],
   "source": [
    "# not a collect policy, we are trying our best here\n",
    "policy = tf_ppo_agent.policy\n",
    "policy.name"
   ]
  },
  {
   "cell_type": "code",
   "execution_count": null,
   "metadata": {
    "colab": {
     "base_uri": "https://localhost:8080/",
     "height": 85
    },
    "colab_type": "code",
    "id": "hTDqu4e2sazC",
    "outputId": "c2861a40-d815-4520-c6ab-e09aea7b6461"
   },
   "outputs": [],
   "source": [
    "time_step = eval_env.reset()\n",
    "time_step.observation"
   ]
  },
  {
   "cell_type": "code",
   "execution_count": null,
   "metadata": {
    "colab": {
     "base_uri": "https://localhost:8080/",
     "height": 442
    },
    "colab_type": "code",
    "id": "6dd7boGasazE",
    "outputId": "07158b7b-1d75-4d8f-f369-01d65cdf2e84"
   },
   "outputs": [],
   "source": [
    "while not time_step.is_last():\n",
    "#   print(time_step.observation.numpy())\n",
    "  action_step = policy.action(time_step)\n",
    "  print(action_step.action.numpy()[0])  \n",
    "  time_step = eval_env.step(action_step.action)"
   ]
  },
  {
   "cell_type": "markdown",
   "metadata": {
    "colab_type": "text",
    "id": "aJVr0AqWsazF"
   },
   "source": [
    "### Let's finally watch our bear (most likely) fail"
   ]
  },
  {
   "cell_type": "code",
   "execution_count": null,
   "metadata": {
    "colab": {
     "base_uri": "https://localhost:8080/",
     "height": 538
    },
    "colab_type": "code",
    "id": "0u4jLAvBsazG",
    "outputId": "d4fe157c-a3a3-4c8d-d139-16fb5e61a7d0"
   },
   "outputs": [],
   "source": [
    "num_episodes = 1\n",
    "\n",
    "def embed_mp4(filename):\n",
    "  \"\"\"Embeds an mp4 file in the notebook.\"\"\"\n",
    "  video = open(filename,'rb').read()\n",
    "  b64 = base64.b64encode(video)\n",
    "  tag = '''\n",
    "  <video width=\"640\" height=\"480\" controls>\n",
    "    <source src=\"data:video/mp4;base64,{0}\" type=\"video/mp4\">\n",
    "  Your browser does not support the video tag.\n",
    "  </video>'''.format(b64.decode())\n",
    "\n",
    "  return IPython.display.HTML(tag)\n",
    "video_filename = 'imageio.mp4'\n",
    "with imageio.get_writer(video_filename, fps=5) as video:\n",
    "  for _ in range(num_episodes):\n",
    "    time_step = eval_env.reset()\n",
    "    video.append_data(eval_py_env.render())\n",
    "    while not time_step.is_last():\n",
    "      action_step = tf_ppo_agent.policy.action(time_step)\n",
    "#       print(action_step.action.numpy()[0])  \n",
    "      time_step = eval_env.step(action_step.action)\n",
    "      video.append_data(eval_py_env.render())\n",
    "\n",
    "embed_mp4(video_filename)"
   ]
  }
 ],
 "metadata": {
  "accelerator": "GPU",
  "colab": {
   "collapsed_sections": [
    "zpzHtN3-kQ26",
    "w3OdHyWEEEwy",
    "bzoq0VM85p46"
   ],
   "include_colab_link": true,
   "name": "tf_agents_orso_talk.ipynb",
   "provenance": []
  },
  "kernelspec": {
   "display_name": "Python 3",
   "language": "python",
   "name": "python3"
  },
  "language_info": {
   "codemirror_mode": {
    "name": "ipython",
    "version": 3
   },
   "file_extension": ".py",
   "mimetype": "text/x-python",
   "name": "python",
   "nbconvert_exporter": "python",
   "pygments_lexer": "ipython3",
   "version": "3.7.4"
  },
  "pycharm": {
   "stem_cell": {
    "cell_type": "raw",
    "metadata": {
     "collapsed": false
    },
    "source": []
   }
  }
 },
 "nbformat": 4,
 "nbformat_minor": 1
}
