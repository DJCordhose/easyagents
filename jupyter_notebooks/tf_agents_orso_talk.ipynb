{
  "nbformat": 4,
  "nbformat_minor": 0,
  "metadata": {
    "accelerator": "GPU",
    "colab": {
      "name": "tf_agents_orso_talk.ipynb",
      "provenance": [],
      "collapsed_sections": [
        "zpzHtN3-kQ26",
        "w3OdHyWEEEwy",
        "bzoq0VM85p46"
      ],
      "include_colab_link": true
    },
    "kernelspec": {
      "display_name": "Python 3",
      "language": "python",
      "name": "python3"
    },
    "language_info": {
      "codemirror_mode": {
        "name": "ipython",
        "version": 3
      },
      "file_extension": ".py",
      "mimetype": "text/x-python",
      "name": "python",
      "nbconvert_exporter": "python",
      "pygments_lexer": "ipython3",
      "version": "3.7.4"
    },
    "pycharm": {
      "stem_cell": {
        "cell_type": "raw",
        "metadata": {
          "collapsed": false
        },
        "source": []
      }
    }
  },
  "cells": [
    {
      "cell_type": "markdown",
      "metadata": {
        "id": "view-in-github",
        "colab_type": "text"
      },
      "source": [
        "<a href=\"https://colab.research.google.com/github/christianhidber/easyagents/blob/master/jupyter_notebooks/tf_agents_orso_talk.ipynb\" target=\"_parent\"><img src=\"https://colab.research.google.com/assets/colab-badge.svg\" alt=\"Open In Colab\"/></a>"
      ]
    },
    {
      "cell_type": "markdown",
      "metadata": {
        "colab_type": "text",
        "id": "44SKfTDHsayI"
      },
      "source": [
        "# Orso's live running on raw TF Agents\n",
        "\n",
        "Make our bear Orso find all the honey in his home turf choosing the most convenient path.  \n",
        "\n",
        "![Orso](https://github.com/christianhidber/easyagents/blob/master/jupyter_notebooks/images/Orso.png?raw=1)\n",
        "\n",
        "\n",
        "![Orso](https://github.com/christianhidber/easyagents/blob/master/jupyter_notebooks/images/turf.png?raw=1)\n",
        "\n",
        "\n",
        "https://opendatascience.com/bears-need-to-learn-as-well-practical-reinforcement-learning-with-tensorflow-2-0-tf-agents"
      ]
    },
    {
      "cell_type": "code",
      "metadata": {
        "colab_type": "code",
        "id": "d8CBZOeEteb4",
        "colab": {}
      },
      "source": [
        "import matplotlib.pyplot as plt\n",
        "# plt.xkcd()\n",
        "# plt.style.use('ggplot')\n",
        "%matplotlib inline\n",
        "\n",
        "import matplotlib as mpl\n",
        "mpl.rcParams['figure.figsize'] = (12, 9)\n",
        "# mpl.rcParams['figure.figsize'] = (20, 12)\n",
        "# mpl.rcParams[\"figure.dpi\"] = 300"
      ],
      "execution_count": 0,
      "outputs": []
    },
    {
      "cell_type": "code",
      "metadata": {
        "colab_type": "code",
        "id": "D1au63NZtez2",
        "colab": {
          "base_uri": "https://localhost:8080/",
          "height": 425
        },
        "outputId": "ba615359-736b-40a9-f635-44f96663c07b"
      },
      "source": [
        "import sys\n",
        "if 'google.colab' in sys.modules:\n",
        "    !pip install -q easyagents 2>/dev/null\n",
        "    !pip install -q --ignore-installed tensorflow-probability==0.7.0 2>/dev/null\n",
        "    \n",
        "!pip install -q networkx==2.3.0 2>/dev/null"
      ],
      "execution_count": 2,
      "outputs": [
        {
          "output_type": "stream",
          "text": [
            "\u001b[K     |████████████████████████████████| 983kB 3.5MB/s \n",
            "\u001b[K     |████████████████████████████████| 20.0MB 66.7MB/s \n",
            "\u001b[K     |████████████████████████████████| 71kB 2.5MB/s \n",
            "\u001b[K     |████████████████████████████████| 1.5MB 9.3MB/s \n",
            "\u001b[K     |████████████████████████████████| 3.3MB 38.5MB/s \n",
            "\u001b[K     |████████████████████████████████| 22.2MB 1.5MB/s \n",
            "\u001b[K     |████████████████████████████████| 20.4MB 193kB/s \n",
            "\u001b[K     |████████████████████████████████| 2.1MB 36.0MB/s \n",
            "\u001b[K     |████████████████████████████████| 378kB 45.7MB/s \n",
            "\u001b[K     |████████████████████████████████| 40kB 5.6MB/s \n",
            "\u001b[K     |████████████████████████████████| 266kB 42.6MB/s \n",
            "\u001b[K     |████████████████████████████████| 491kB 41.2MB/s \n",
            "\u001b[K     |████████████████████████████████| 757kB 33.7MB/s \n",
            "\u001b[K     |████████████████████████████████| 110.8MB 1.6MB/s \n",
            "\u001b[K     |████████████████████████████████| 51kB 6.5MB/s \n",
            "\u001b[K     |████████████████████████████████| 2.7MB 31.1MB/s \n",
            "\u001b[K     |████████████████████████████████| 3.8MB 36.0MB/s \n",
            "\u001b[K     |████████████████████████████████| 450kB 39.6MB/s \n",
            "\u001b[?25h  Building wheel for easyagents (setup.py) ... \u001b[?25l\u001b[?25hdone\n",
            "  Building wheel for gym (setup.py) ... \u001b[?25l\u001b[?25hdone\n",
            "  Building wheel for imageio (setup.py) ... \u001b[?25l\u001b[?25hdone\n",
            "  Building wheel for keras-rl (setup.py) ... \u001b[?25l\u001b[?25hdone\n",
            "\u001b[K     |████████████████████████████████| 1.8MB 3.5MB/s \n",
            "\u001b[?25h  Building wheel for networkx (setup.py) ... \u001b[?25l\u001b[?25hdone\n"
          ],
          "name": "stdout"
        }
      ]
    },
    {
      "cell_type": "code",
      "metadata": {
        "colab_type": "code",
        "id": "_stl7FMotiB_",
        "outputId": "a0a792d2-a7de-498f-e712-c5fa879571fc",
        "colab": {
          "base_uri": "https://localhost:8080/",
          "height": 34
        }
      },
      "source": [
        "import sys\n",
        "import warnings\n",
        "\n",
        "warnings.filterwarnings('ignore')\n",
        "if 'google.colab' in sys.modules:\n",
        "    !apt-get install xvfb >/dev/null\n",
        "    !pip install pyvirtualdisplay >/dev/null    \n",
        "    \n",
        "    from pyvirtualdisplay import Display\n",
        "    Display(visible=0, size=(960, 720)).start() "
      ],
      "execution_count": 3,
      "outputs": [
        {
          "output_type": "stream",
          "text": [
            "xdpyinfo was not found, X start can not be checked! Please install xdpyinfo!\n"
          ],
          "name": "stderr"
        }
      ]
    },
    {
      "cell_type": "code",
      "metadata": {
        "colab_type": "code",
        "id": "4LNjWlw6sayL",
        "outputId": "7d3c9e43-4c6d-46e4-c7ba-a0a30dda7ff1",
        "colab": {
          "base_uri": "https://localhost:8080/",
          "height": 284
        }
      },
      "source": [
        "from __future__ import absolute_import\n",
        "from __future__ import division\n",
        "from __future__ import print_function\n",
        "\n",
        "import sys\n",
        "import matplotlib.pyplot as plt\n",
        "\n",
        "import base64\n",
        "import imageio\n",
        "import IPython\n",
        "import matplotlib\n",
        "import matplotlib.pyplot as plt\n",
        "import PIL.Image\n",
        "\n",
        "import tensorflow as tf\n",
        "\n",
        "from tf_agents.agents.reinforce import reinforce_agent\n",
        "from tf_agents.agents.ppo import ppo_agent\n",
        "from tf_agents.drivers import dynamic_step_driver\n",
        "from tf_agents.drivers.dynamic_episode_driver import DynamicEpisodeDriver\n",
        "from tf_agents.environments import suite_gym\n",
        "from tf_agents.environments import tf_py_environment\n",
        "from tf_agents.eval import metric_utils\n",
        "from tf_agents.metrics import tf_metrics\n",
        "from tf_agents.networks import actor_distribution_network\n",
        "from tf_agents.networks import value_network\n",
        "from tf_agents.replay_buffers import tf_uniform_replay_buffer\n",
        "from tf_agents.trajectories import trajectory\n",
        "from tf_agents.utils import common\n",
        "\n",
        "tf.compat.v1.enable_v2_behavior()"
      ],
      "execution_count": 4,
      "outputs": [
        {
          "output_type": "stream",
          "text": [
            "WARNING:tensorflow:\n",
            "\n",
            "  TensorFlow's `tf-nightly` package will soon be updated to TensorFlow 2.0.\n",
            "\n",
            "  Please upgrade your code to TensorFlow 2.0:\n",
            "    * https://www.tensorflow.org/beta/guide/migration_guide\n",
            "\n",
            "  Or install the latest stable TensorFlow 1.X release:\n",
            "    * `pip install -U \"tensorflow==1.*\"`\n",
            "\n",
            "  Otherwise your code may be broken by the change.\n",
            "\n",
            "  \n"
          ],
          "name": "stdout"
        },
        {
          "output_type": "display_data",
          "data": {
            "text/html": [
              "<p style=\"color: red;\">\n",
              "The default version of TensorFlow in Colab will soon switch to TensorFlow 2.x.<br>\n",
              "We recommend you <a href=\"https://www.tensorflow.org/guide/migrate\" target=\"_blank\">upgrade</a> now \n",
              "or ensure your notebook will continue to use TensorFlow 1.x via the <code>%tensorflow_version 1.x</code> magic:\n",
              "<a href=\"https://colab.research.google.com/notebooks/tensorflow_version.ipynb\" target=\"_blank\">more info</a>.</p>\n"
            ],
            "text/plain": [
              "<IPython.core.display.HTML object>"
            ]
          },
          "metadata": {
            "tags": []
          }
        }
      ]
    },
    {
      "cell_type": "markdown",
      "metadata": {
        "colab_type": "text",
        "id": "x-olom0nwiSX"
      },
      "source": [
        "### Orso's Environment (OpenAI Gym)"
      ]
    },
    {
      "cell_type": "code",
      "metadata": {
        "colab_type": "code",
        "id": "3plH2u3Swotj",
        "pycharm": {
          "is_executing": false
        },
        "colab": {}
      },
      "source": [
        "import gym\n",
        "from gym import spaces\n",
        "import matplotlib.image as mpi\n",
        "from matplotlib.offsetbox import (OffsetImage, AnnotationBbox)\n",
        "from IPython.display import display, clear_output\n",
        "import networkx as nx\n",
        "import numpy as np\n",
        "import random\n",
        "\n",
        "graph = {\n",
        "            'S': [('A', 300), ('B', 100), ('C', 200)],\n",
        "            'A': [('S', 300), ('B', 100), ('E', 100), ('D', 100)],\n",
        "            'B': [('S', 100), ('A', 100), ('C', 50), ('K', 200)],\n",
        "            'C': [('S', 200), ('B', 50), ('M', 100), ('L', 200)],\n",
        "            'D': [('A', 100), ('F', 50)],\n",
        "            'E': [('A', 100), ('F', 100), ('H', 100)],\n",
        "            'F': [('D', 50), ('E', 100), ('G', 200)],\n",
        "            'G': [('F', 200), ('O', 300)],\n",
        "            'H': [('E', 100), ('K', 300)],\n",
        "            'K': [('B', 200), ('H', 300)],\n",
        "            'L': [('C', 200), ('M', 50)],\n",
        "            'M': [('C', 100), ('L', 50), ('N', 100)],\n",
        "            'N': [('M', 100), ('O', 100)],\n",
        "            'O': [('N', 100), ('G', 300)]\n",
        "        }\n",
        "\n",
        "def state_name_to_int(state):\n",
        "    state_name_map = {\n",
        "        'S': 0,\n",
        "        'A': 1,\n",
        "        'B': 2,\n",
        "        'C': 3,\n",
        "        'D': 4,\n",
        "        'E': 5,\n",
        "        'F': 6,\n",
        "        'G': 7,\n",
        "        'H': 8,\n",
        "        'K': 9,\n",
        "        'L': 10,\n",
        "        'M': 11,\n",
        "        'N': 12,\n",
        "        'O': 13\n",
        "    }\n",
        "    return state_name_map[state]\n",
        "\n",
        "def int_to_state_name(state_as_int):\n",
        "    state_map = {\n",
        "        0: 'S',\n",
        "        1: 'A',\n",
        "        2: 'B',\n",
        "        3: 'C',\n",
        "        4: 'D',\n",
        "        5: 'E',\n",
        "        6: 'F',\n",
        "        7: 'G',\n",
        "        8: 'H',\n",
        "        9: 'K',\n",
        "        10: 'L',\n",
        "        11: 'M',\n",
        "        12: 'N',\n",
        "        13: 'O'\n",
        "    }\n",
        "    return state_map[state_as_int]\n",
        "\n",
        "class OrsoEnv(gym.Env):\n",
        "    metadata = {'render.modes': ['ansi']}\n",
        "    showStep = False\n",
        "\n",
        "    def __init__(self):\n",
        "        self.map = graph\n",
        "        max_paths = 4\n",
        "        self.action_space = spaces.Discrete(max_paths)\n",
        "\n",
        "        positions = len(self.map)\n",
        "        # observations: position, reward of all 4 local paths, rest reward of all locations\n",
        "        # non existing path is -1000 and no position change\n",
        "        # look at what #getObservation returns if you are confused\n",
        "        low = np.append(np.append([0], np.full(max_paths, -1000)), np.full(positions, 0))\n",
        "        high = np.append(np.append([positions - 1], np.full(max_paths, 1000)), np.full(positions, 1000))\n",
        "        self.observation_space = spaces.Box(low=low,\n",
        "                                            high=high,\n",
        "                                            dtype=np.float32)\n",
        "        self.reward_range = (-1, 1)\n",
        "        self.envEpisodeCount = 0\n",
        "        self.envStepCount = 0\n",
        "        self._figure = None\n",
        "\n",
        "        self.reset()\n",
        "        self.optimum = self.calculate_customers_reward()\n",
        "\n",
        "        base = \"https://raw.githubusercontent.com/christianhidber/easyagents/master/images/\"\n",
        "        self.image_orso = mpi.imread(base + \"Bear.png\")\n",
        "        self.image_cave = mpi.imread(base + \"Cave.png\")\n",
        "        self.image_honey = mpi.imread(base + \"Honey.png\")\n",
        "        self.image_empty_pot = mpi.imread(base + \"EmptyPot.png\")\n",
        "        self.nx_graph, self.nx_pos = self._create_nx_graph()\n",
        "\n",
        "    def iterate_path(self, state, action):\n",
        "        paths = self.map[state]\n",
        "        if action < len(paths):\n",
        "            return paths[action]\n",
        "        else:\n",
        "            # sorry, no such action, stay where you are and pay a high penalty\n",
        "            return (state, 1000)\n",
        "\n",
        "    def step(self, action):\n",
        "        destination, cost = self.iterate_path(self.state, action)\n",
        "\n",
        "        self.cost = cost\n",
        "        self.action = action\n",
        "        self.lastStep_state = self.state\n",
        "        self.state = destination\n",
        "        self.customerReward = self.customer_reward[destination]\n",
        "        self.reward = 0\n",
        "        self.reward = (self.customerReward - self.cost) / self.optimum\n",
        "\n",
        "        self.customer_visited(destination)\n",
        "        done = (destination == 'S' and self.all_customers_visited())\n",
        "\n",
        "        stateAsInt = state_name_to_int(self.state)\n",
        "        self.totalReward += self.reward\n",
        "        self.stepCount += 1\n",
        "        self.envStepCount += 1\n",
        "\n",
        "        if done and not self.isDone:\n",
        "            self.envEpisodeCount += 1\n",
        "\n",
        "        self.isDone = done\n",
        "        observation = self.getObservation(stateAsInt)\n",
        "        info = {\"from\": self.state, \"to\": destination}\n",
        "        return observation, self.reward, done, info\n",
        "\n",
        "    def getObservation(self, position):\n",
        "        result = np.array([position,\n",
        "                           self.getPathObservation(position, 0),\n",
        "                           self.getPathObservation(position, 1),\n",
        "                           self.getPathObservation(position, 2),\n",
        "                           self.getPathObservation(position, 3)\n",
        "                           ],\n",
        "                          dtype=np.float32)\n",
        "        all_rest_rewards = list(self.customer_reward.values())\n",
        "        result = np.append(result, all_rest_rewards)\n",
        "        return result\n",
        "\n",
        "    def getPathObservation(self, position, path):\n",
        "        paths = self.map[self.state]\n",
        "        if path < len(paths):\n",
        "            target, cost = paths[path]\n",
        "            reward = self.customer_reward[target]\n",
        "            result = reward - cost\n",
        "        else:\n",
        "            result = -1000\n",
        "\n",
        "        return result\n",
        "\n",
        "    def customer_visited(self, customer):\n",
        "        self.customer_reward[customer] = 0\n",
        "\n",
        "    def all_customers_visited(self):\n",
        "        return self.calculate_customers_reward() == 0\n",
        "\n",
        "    def calculate_customers_reward(self):\n",
        "        sum = 0\n",
        "        for value in self.customer_reward.values():\n",
        "            sum += value\n",
        "        return sum\n",
        "\n",
        "    def modulate_reward(self):\n",
        "        number_of_customers = len(self.map) - 1\n",
        "        number_per_consultant = int(number_of_customers / 2)\n",
        "        self.customer_reward = {\n",
        "            'S': 0\n",
        "        }\n",
        "        self._honeypot_places = []\n",
        "        for customer_nr in range(1, number_of_customers + 1):\n",
        "            self.customer_reward[int_to_state_name(customer_nr)] = 0\n",
        "\n",
        "        # every consultant only visits a few random customers\n",
        "        samples = random.sample(range(1, number_of_customers + 1), k=number_per_consultant)\n",
        "        key_list = list(self.customer_reward.keys())\n",
        "        for sample in samples:\n",
        "            self.customer_reward[key_list[sample]] = 1000\n",
        "            self._honeypot_places = self._honeypot_places + [key_list[sample]]\n",
        "\n",
        "    def reset(self):\n",
        "        self.totalReward = 0\n",
        "        self.stepCount = 0\n",
        "        self.isDone = False\n",
        "        self.state = 'S'\n",
        "        self.cost = 0\n",
        "        self.action = 0\n",
        "        self.lastStep_state = ''\n",
        "        self.customerReward = None\n",
        "        self._honeypot_places = None\n",
        "        self.reward = 0\n",
        "        self.envEpisodeCount += 1\n",
        "        self.modulate_reward()\n",
        "        self._figure = None\n",
        "        return self.getObservation(state_name_to_int(self.state))\n",
        "\n",
        "    def _create_nx_graph(self):\n",
        "        \"\"\" generates the networkx graph representing orso's world with all its paths.\n",
        "\n",
        "        :return: graph, positions\n",
        "        \"\"\"\n",
        "        nx_graph = nx.Graph()\n",
        "        for node_id in self.map.keys():\n",
        "            zoom = 0.6\n",
        "            image = self.image_empty_pot\n",
        "            nx_graph.add_node(node_id, image=image, zoom=zoom)\n",
        "        for source, connections in self.map.items():\n",
        "            for target, cost in connections:\n",
        "                if cost >= 300:\n",
        "                    color = 'dodgerblue'\n",
        "                elif cost >= 200:\n",
        "                    color = 'darkgoldenrod'\n",
        "                elif cost >= 100:\n",
        "                    color = 'forestgreen'\n",
        "                else:\n",
        "                    color = 'greenyellow'\n",
        "                nx_graph.add_edge(source, target, color=color, weight=6, image=self.image_cave)\n",
        "        nx_pos = nx.kamada_kawai_layout(nx_graph)\n",
        "        return nx_graph, nx_pos\n",
        "\n",
        "    def _render_to_figure(self):\n",
        "        \"\"\" Renders the current state as a graph with matplotlib\n",
        "        \"\"\"\n",
        "        # draw graph using matplotlib\n",
        "        if (self._figure is not None):\n",
        "            plt.close(self._figure)\n",
        "        self._figure = plt.figure(\"BeraterEnv\", figsize=(12, 9))\n",
        "        if len(self._figure.axes) == 0:\n",
        "            self._figure.add_subplot(1, 1, 1)\n",
        "        self._figure.axes[0].cla()\n",
        "        ax = self._figure.axes[0]\n",
        "\n",
        "        edges = self.nx_graph.edges()\n",
        "        edge_colors = [self.nx_graph[u][v]['color'] for u, v in edges]\n",
        "        edge_weights = [self.nx_graph[u][v]['weight'] for u, v in edges]\n",
        "        nx.draw(self.nx_graph, pos=self.nx_pos, ax=ax, node_color='lightgrey',\n",
        "                edges=edges, edge_color=edge_colors, width=edge_weights)\n",
        "\n",
        "        # draw images on graph nodes\n",
        "        # set image (according to the current state) and sizes (make orso's current position larger)\n",
        "        for node_id in self.nx_graph.nodes():\n",
        "            node = self.nx_graph.node[node_id]\n",
        "            node['zoom'] = 0.4\n",
        "            if node_id == self.state:\n",
        "                node['zoom'] = 0.6\n",
        "            if node_id in self._honeypot_places:\n",
        "                node['image'] = self.image_empty_pot\n",
        "                if self.customer_reward[node_id] > 0:\n",
        "                    node['image'] = self.image_honey\n",
        "            else:\n",
        "                node['image'] = None\n",
        "            if node_id == 'S':\n",
        "                node['image'] = self.image_cave\n",
        "            if self.state == node_id:\n",
        "                node['image'] = self.image_orso\n",
        "\n",
        "        # position images\n",
        "        for n in self.nx_pos:\n",
        "            node = self.nx_graph.node[n]\n",
        "            image = node['image']\n",
        "            if image is not None: \n",
        "                xp, yp = self.nx_pos[n]\n",
        "                offset_image = OffsetImage(image, node['zoom'])\n",
        "                offset_image.image.axes = ax\n",
        "                ab = AnnotationBbox(offset_image, (xp, yp),\n",
        "                                    xybox=(0, 0),\n",
        "                                    xycoords='data',\n",
        "                                    boxcoords=\"offset points\",\n",
        "                                    pad=0.0,\n",
        "                                    frameon=False\n",
        "                                    )\n",
        "                ax.add_artist(ab)\n",
        "\n",
        "        self._figure.canvas.draw()\n",
        "\n",
        "    def _render_ansi(self):\n",
        "        result = (\"Episode: \" + (\"%4.0f  \" % self.envEpisodeCount) +\n",
        "                  \" Step: \" + (\"%4.0f  \" % self.stepCount) +\n",
        "                  self.lastStep_state + ' --' + str(self.action) + '-> ' + self.state +\n",
        "                  ' R=' + (\"% 2.2f\" % self.reward) + ' totalR=' + (\"% 3.2f\" % self.totalReward) +\n",
        "                  ' cost=' + (\"%4.0f\" % self.cost) + ' customerR=' + (\"%4.0f\" % self.customerReward) + ' optimum=' + (\n",
        "                          \"%4.0f\" % self.optimum)\n",
        "                  )\n",
        "        return result\n",
        "\n",
        "    def _render_rgb(self):\n",
        "        self._render_to_figure()\n",
        "        self._figure.canvas.draw()\n",
        "        buf = self._figure.canvas.tostring_rgb()\n",
        "        num_cols, num_rows = self._figure.canvas.get_width_height()\n",
        "        plt.close(self._figure)\n",
        "        self._figure = None\n",
        "        result = np.fromstring(buf, dtype=np.uint8).reshape(num_rows, num_cols, 3)\n",
        "        return result\n",
        "\n",
        "    def render(self, mode='human'):\n",
        "        if mode == 'ansi':\n",
        "            return self._render_ansi()\n",
        "        elif mode == 'human':\n",
        "            clear_output(wait=True)\n",
        "            self._render_to_figure()\n",
        "            plt.pause(0.01)\n",
        "            return\n",
        "        elif mode == 'rgb_array':\n",
        "            return self._render_rgb()\n",
        "        else:\n",
        "            super().render(mode=mode)\n",
        "          "
      ],
      "execution_count": 0,
      "outputs": []
    },
    {
      "cell_type": "code",
      "metadata": {
        "colab_type": "code",
        "id": "_fHrBrxxI5Rt",
        "outputId": "6b38462c-5e0c-43c2-c558-b713e2a8dc6e",
        "pycharm": {
          "is_executing": false
        },
        "colab": {
          "base_uri": "https://localhost:8080/",
          "height": 68
        }
      },
      "source": [
        "env = OrsoEnv()\n",
        "env.reset()"
      ],
      "execution_count": 6,
      "outputs": [
        {
          "output_type": "execute_result",
          "data": {
            "text/plain": [
              "array([    0.,   700.,   900.,   800., -1000.,     0.,  1000.,  1000.,\n",
              "        1000.,  1000.,     0.,  1000.,  1000.,     0.,     0.,     0.,\n",
              "           0.,     0.,     0.])"
            ]
          },
          "metadata": {
            "tags": []
          },
          "execution_count": 6
        }
      ]
    },
    {
      "cell_type": "code",
      "metadata": {
        "id": "5y1MNogZ-h4g",
        "colab_type": "code",
        "outputId": "6d97ca8e-d3a7-48fe-d936-4c546920cc96",
        "colab": {
          "base_uri": "https://localhost:8080/",
          "height": 520
        }
      },
      "source": [
        "env.render() "
      ],
      "execution_count": 7,
      "outputs": [
        {
          "output_type": "display_data",
          "data": {
            "image/png": "[encoded data removed]",
            "text/plain": [
              "<Figure size 864x648 with 1 Axes>"
            ]
          },
          "metadata": {
            "tags": []
          }
        }
      ]
    },
    {
      "cell_type": "code",
      "metadata": {
        "colab_type": "code",
        "id": "s2RYX2_2I5Ry",
        "outputId": "ad422048-e01a-45a7-dcc0-b619d5dcac9d",
        "pycharm": {
          "is_executing": false,
          "name": "#%%\n"
        },
        "colab": {
          "base_uri": "https://localhost:8080/",
          "height": 520
        }
      },
      "source": [
        "env.step(2)\n",
        "env.render()"
      ],
      "execution_count": 8,
      "outputs": [
        {
          "output_type": "display_data",
          "data": {
            "image/png": "[encoded data removed]",
            "text/plain": [
              "<Figure size 864x648 with 1 Axes>"
            ]
          },
          "metadata": {
            "tags": []
          }
        }
      ]
    },
    {
      "cell_type": "markdown",
      "metadata": {
        "colab_type": "text",
        "id": "CK2tTbjMsayV"
      },
      "source": [
        "### Register with OpenAI Gym"
      ]
    },
    {
      "cell_type": "code",
      "metadata": {
        "colab_type": "code",
        "id": "OS3pnnbAI5R9",
        "pycharm": {
          "is_executing": false
        },
        "colab": {}
      },
      "source": [
        "env_name=\"Orso-v1\"\n",
        "\n",
        "env = gym.envs.registration.register(id=env_name,entry_point=OrsoEnv, max_episode_steps=25)\n",
        "\n",
        "# two envs for train and eval\n",
        "train_py_env = suite_gym.load(env_name)\n",
        "eval_py_env = suite_gym.load(env_name)\n",
        "\n",
        "# converted to tf-agents tensorflow envs\n",
        "train_env = tf_py_environment.TFPyEnvironment(train_py_env)\n",
        "eval_env = tf_py_environment.TFPyEnvironment(eval_py_env)"
      ],
      "execution_count": 0,
      "outputs": []
    },
    {
      "cell_type": "code",
      "metadata": {
        "colab_type": "code",
        "id": "p8fxHl11sayY",
        "outputId": "294ef2cf-aaa5-40b5-8a54-5e951af3c66c",
        "colab": {
          "base_uri": "https://localhost:8080/",
          "height": 85
        }
      },
      "source": [
        "time_step = train_env.reset()\n",
        "observation = time_step.observation\n",
        "observation"
      ],
      "execution_count": 10,
      "outputs": [
        {
          "output_type": "execute_result",
          "data": {
            "text/plain": [
              "<tf.Tensor: id=7, shape=(1, 19), dtype=float32, numpy=\n",
              "array([[    0.,   700.,   900.,  -200., -1000.,     0.,  1000.,  1000.,\n",
              "            0.,     0.,     0.,  1000.,     0.,  1000.,  1000.,     0.,\n",
              "         1000.,     0.,     0.]], dtype=float32)>"
            ]
          },
          "metadata": {
            "tags": []
          },
          "execution_count": 10
        }
      ]
    },
    {
      "cell_type": "markdown",
      "metadata": {
        "colab_type": "text",
        "id": "1-ZNIgb_f-I6"
      },
      "source": [
        "### What you need using tf-agents while training\n",
        "\n",
        "![TF-Agents overview](https://github.com/christianhidber/easyagents/blob/master/jupyter_notebooks/images/tf-agents-overview.png?raw=1)\n",
        "\n",
        "https://www.youtube.com/watch?v=tAOApRQAgpc\n",
        "<br>\n",
        "https://www.youtube.com/watch?v=-TTziY7EmUA"
      ]
    },
    {
      "cell_type": "markdown",
      "metadata": {
        "colab_type": "text",
        "id": "RwLuXyAesayZ"
      },
      "source": [
        "## PPO uses two networks\n",
        "\n",
        "_given an observation_\n",
        "* Value Network: what reward to expect?\n",
        "* Actor Network: which action to take?"
      ]
    },
    {
      "cell_type": "markdown",
      "metadata": {
        "colab_type": "text",
        "id": "jd0X4B8tsaya"
      },
      "source": [
        "### Value Network"
      ]
    },
    {
      "cell_type": "code",
      "metadata": {
        "id": "Htwga3NQ5Ufb",
        "colab_type": "code",
        "colab": {}
      },
      "source": [
        "value_net = value_network.ValueNetwork(train_env.observation_spec(), \n",
        "                                       fc_layer_params=(500, 500, 500))"
      ],
      "execution_count": 0,
      "outputs": []
    },
    {
      "cell_type": "code",
      "metadata": {
        "colab_type": "code",
        "id": "7Qb5MccTsayb",
        "outputId": "20d6ef18-ac4b-42e9-ef51-d5822b061514",
        "colab": {
          "base_uri": "https://localhost:8080/",
          "height": 34
        }
      },
      "source": [
        "value_net(observation)[0].numpy()"
      ],
      "execution_count": 12,
      "outputs": [
        {
          "output_type": "execute_result",
          "data": {
            "text/plain": [
              "array([-15.524718], dtype=float32)"
            ]
          },
          "metadata": {
            "tags": []
          },
          "execution_count": 12
        }
      ]
    },
    {
      "cell_type": "code",
      "metadata": {
        "colab_type": "code",
        "id": "34LlkBsEsayd",
        "outputId": "c24d08db-dea4-43fb-b80f-6e6984969b13",
        "colab": {
          "base_uri": "https://localhost:8080/",
          "height": 102
        }
      },
      "source": [
        "train_env.observation_spec()"
      ],
      "execution_count": 13,
      "outputs": [
        {
          "output_type": "execute_result",
          "data": {
            "text/plain": [
              "BoundedTensorSpec(shape=(19,), dtype=tf.float32, name=None, minimum=array([    0., -1000., -1000., -1000., -1000.,     0.,     0.,     0.,\n",
              "           0.,     0.,     0.,     0.,     0.,     0.,     0.,     0.,\n",
              "           0.,     0.,     0.], dtype=float32), maximum=array([  13., 1000., 1000., 1000., 1000., 1000., 1000., 1000., 1000.,\n",
              "       1000., 1000., 1000., 1000., 1000., 1000., 1000., 1000., 1000.,\n",
              "       1000.], dtype=float32))"
            ]
          },
          "metadata": {
            "tags": []
          },
          "execution_count": 13
        }
      ]
    },
    {
      "cell_type": "markdown",
      "metadata": {
        "colab_type": "text",
        "id": "9ZOrCWj8sayf"
      },
      "source": [
        "### Actor Network"
      ]
    },
    {
      "cell_type": "code",
      "metadata": {
        "colab_type": "code",
        "id": "lyhesiZksayf",
        "colab": {}
      },
      "source": [
        "actor_net = actor_distribution_network.ActorDistributionNetwork(\n",
        "    train_env.observation_spec(),\n",
        "    train_env.action_spec(),\n",
        "    fc_layer_params=(500, 500, 500))"
      ],
      "execution_count": 0,
      "outputs": []
    },
    {
      "cell_type": "code",
      "metadata": {
        "colab_type": "code",
        "id": "R05Fjxh6sayh",
        "outputId": "ec99b2f4-f9b7-45c2-a4eb-e545d9f991f6",
        "colab": {
          "base_uri": "https://localhost:8080/",
          "height": 34
        }
      },
      "source": [
        "train_env.action_spec()"
      ],
      "execution_count": 15,
      "outputs": [
        {
          "output_type": "execute_result",
          "data": {
            "text/plain": [
              "BoundedTensorSpec(shape=(), dtype=tf.int64, name=None, minimum=array(0), maximum=array(3))"
            ]
          },
          "metadata": {
            "tags": []
          },
          "execution_count": 15
        }
      ]
    },
    {
      "cell_type": "code",
      "metadata": {
        "colab_type": "code",
        "id": "gIxzIGAusayj",
        "outputId": "7eeed2cb-a7ab-469d-8460-1d4dec5a55f8",
        "colab": {
          "base_uri": "https://localhost:8080/",
          "height": 181
        }
      },
      "source": [
        "# https://www.tensorflow.org/probability/api_docs/python/tfp/distributions/Categorical\n",
        "distribution, _ = actor_net(observation, time_step.step_type, None)\n",
        "distribution.num_categories.numpy(), distribution.logits.numpy()"
      ],
      "execution_count": 16,
      "outputs": [
        {
          "output_type": "error",
          "ename": "AttributeError",
          "evalue": "ignored",
          "traceback": [
            "\u001b[0;31m---------------------------------------------------------------------------\u001b[0m",
            "\u001b[0;31mAttributeError\u001b[0m                            Traceback (most recent call last)",
            "\u001b[0;32m<ipython-input-16-3cd3fb7eff0a>\u001b[0m in \u001b[0;36m<module>\u001b[0;34m()\u001b[0m\n\u001b[1;32m      1\u001b[0m \u001b[0mdistribution\u001b[0m\u001b[0;34m,\u001b[0m \u001b[0m_\u001b[0m \u001b[0;34m=\u001b[0m \u001b[0mactor_net\u001b[0m\u001b[0;34m(\u001b[0m\u001b[0mobservation\u001b[0m\u001b[0;34m,\u001b[0m \u001b[0mtime_step\u001b[0m\u001b[0;34m.\u001b[0m\u001b[0mstep_type\u001b[0m\u001b[0;34m,\u001b[0m \u001b[0;32mNone\u001b[0m\u001b[0;34m)\u001b[0m\u001b[0;34m\u001b[0m\u001b[0;34m\u001b[0m\u001b[0m\n\u001b[0;32m----> 2\u001b[0;31m \u001b[0mdistribution\u001b[0m\u001b[0;34m.\u001b[0m\u001b[0mnum_categories\u001b[0m\u001b[0;34m.\u001b[0m\u001b[0mnumpy\u001b[0m\u001b[0;34m(\u001b[0m\u001b[0;34m)\u001b[0m\u001b[0;34m,\u001b[0m \u001b[0mdistribution\u001b[0m\u001b[0;34m.\u001b[0m\u001b[0mlogits\u001b[0m\u001b[0;34m.\u001b[0m\u001b[0mnumpy\u001b[0m\u001b[0;34m(\u001b[0m\u001b[0;34m)\u001b[0m\u001b[0;34m\u001b[0m\u001b[0;34m\u001b[0m\u001b[0m\n\u001b[0m",
            "\u001b[0;31mAttributeError\u001b[0m: 'Categorical' object has no attribute 'num_categories'"
          ]
        }
      ]
    },
    {
      "cell_type": "code",
      "metadata": {
        "colab_type": "code",
        "id": "6QQ5i1Tvsayl",
        "colab": {}
      },
      "source": [
        "# greedy, highest category\n",
        "distribution.mode().numpy()"
      ],
      "execution_count": 0,
      "outputs": []
    },
    {
      "cell_type": "markdown",
      "metadata": {
        "colab_type": "text",
        "id": "vT_srWKysayn"
      },
      "source": [
        "### Custom Network (optional)"
      ]
    },
    {
      "cell_type": "markdown",
      "metadata": {
        "colab_type": "text",
        "id": "aRFUpAw4sayn"
      },
      "source": [
        "#### plain network using Keras layer API\n"
      ]
    },
    {
      "cell_type": "code",
      "metadata": {
        "colab_type": "code",
        "id": "_4qUMpfesayo",
        "colab": {}
      },
      "source": [
        "import tensorflow as tf\n",
        "\n",
        "model = tf.keras.Sequential([\n",
        "    tf.keras.layers.Dense(500, activation=tf.nn.relu),\n",
        "    tf.keras.layers.Dropout(rate=0.4),\n",
        "    \n",
        "    tf.keras.layers.Dense(250, activation=tf.nn.relu),\n",
        "    tf.keras.layers.Dropout(rate=0.4)\n",
        "])    "
      ],
      "execution_count": 0,
      "outputs": []
    },
    {
      "cell_type": "markdown",
      "metadata": {
        "colab_type": "text",
        "id": "lbKJH413sayq"
      },
      "source": [
        "#### glue code"
      ]
    },
    {
      "cell_type": "code",
      "metadata": {
        "colab_type": "code",
        "id": "ol4K0USZsayq",
        "colab": {}
      },
      "source": [
        "from tf_agents.utils import nest_utils\n",
        "\n",
        "class CustomActorDistributionNetwork(actor_distribution_network.ActorDistributionNetwork):\n",
        "    def __init__(self,\n",
        "               input_tensor_spec,\n",
        "               output_tensor_spec,\n",
        "               custom_hidden_model):\n",
        "\n",
        "        super(CustomActorDistributionNetwork, self).__init__(input_tensor_spec, output_tensor_spec)\n",
        "        self._custom_hidden_model = custom_hidden_model\n",
        "\n",
        "    def call(self, observations, step_type, network_state):\n",
        "        state = self._custom_hidden_model(observations)\n",
        "        outer_rank = nest_utils.get_outer_rank(observations, self.input_tensor_spec)\n",
        "        output_actions = tf.nest.map_structure(\n",
        "            lambda proj_net: proj_net(state, outer_rank), self._projection_networks)\n",
        "        return output_actions, network_state\n",
        "\n",
        "\n",
        "custom_actor_net = CustomActorDistributionNetwork(\n",
        "    train_env.observation_spec(),\n",
        "    train_env.action_spec(),\n",
        "    custom_hidden_model=model)"
      ],
      "execution_count": 0,
      "outputs": []
    },
    {
      "cell_type": "markdown",
      "metadata": {
        "colab_type": "text",
        "id": "DajwUCIXsays"
      },
      "source": [
        "### Agent"
      ]
    },
    {
      "cell_type": "code",
      "metadata": {
        "colab_type": "code",
        "id": "UGpyj8wAsays",
        "colab": {}
      },
      "source": [
        "optimizer = tf.compat.v1.train.AdamOptimizer(learning_rate=1e-4)\n",
        "# optimizer = tf.compat.v1.train.AdamOptimizer()\n",
        "\n",
        "tf_ppo_agent = ppo_agent.PPOAgent(\n",
        "    train_env.time_step_spec(),\n",
        "    train_env.action_spec(),\n",
        "#     actor_net=actor_net,\n",
        "    actor_net=custom_actor_net,\n",
        "    value_net=value_net,\n",
        "    optimizer=optimizer,\n",
        "#     importance_ratio_clipping=.2,\n",
        "#      initial_adaptive_kl_beta=0,\n",
        "#     entropy_regularization=0.1,\n",
        "#     value_pred_loss_coef=0.01,\n",
        "#     value_pred_loss_coef=0,\n",
        "    num_epochs=10)\n",
        "tf_ppo_agent.initialize()"
      ],
      "execution_count": 0,
      "outputs": []
    },
    {
      "cell_type": "code",
      "metadata": {
        "colab_type": "code",
        "id": "yRNr7zmwsayu",
        "colab": {}
      },
      "source": [
        "# ppo_agent.PPOAgent?"
      ],
      "execution_count": 0,
      "outputs": []
    },
    {
      "cell_type": "markdown",
      "metadata": {
        "colab_type": "text",
        "id": "OY8fAQHZsayw"
      },
      "source": [
        "### Replay Buffer"
      ]
    },
    {
      "cell_type": "code",
      "metadata": {
        "colab_type": "code",
        "id": "GIiR9QXHsayw",
        "colab": {}
      },
      "source": [
        "replay_buffer = tf_uniform_replay_buffer.TFUniformReplayBuffer(\n",
        "    data_spec=tf_ppo_agent.collect_data_spec,\n",
        "    batch_size=train_env.batch_size,\n",
        "    max_length=10001)\n",
        "\n",
        "avg_return = tf_metrics.AverageReturnMetric()\n",
        "avg_length = tf_metrics.AverageEpisodeLengthMetric()\n",
        "\n",
        "collect_driver = DynamicEpisodeDriver(train_env,\n",
        "                                      tf_ppo_agent.collect_policy,\n",
        "                                      observers=[replay_buffer.add_batch, avg_return, avg_length],\n",
        "                                      num_episodes=10)\n",
        "\n",
        "# just for optimized execution\n",
        "tf_ppo_agent.train = common.function(tf_ppo_agent.train)\n",
        "collect_driver.run = common.function(collect_driver.run)"
      ],
      "execution_count": 0,
      "outputs": []
    },
    {
      "cell_type": "markdown",
      "metadata": {
        "colab_type": "text",
        "id": "ojzPyOIosayz"
      },
      "source": [
        "### Training Loop\n",
        "\n",
        "1. collect data by playing\n",
        "1. train with that data\n",
        "1. erase all data \n",
        "1. repeat for a number of iterations"
      ]
    },
    {
      "cell_type": "code",
      "metadata": {
        "id": "jq_cBo2V4Mf6",
        "colab_type": "code",
        "colab": {}
      },
      "source": [
        "collect_driver.run()\n",
        "trajectories = replay_buffer.gather_all()\n",
        "\n",
        "# train with a new set of trajectories\n",
        "loss_info = tf_ppo_agent.train(trajectories)\n",
        "loss_info"
      ],
      "execution_count": 0,
      "outputs": []
    },
    {
      "cell_type": "code",
      "metadata": {
        "colab_type": "code",
        "id": "0PuAqMfisay0",
        "colab": {}
      },
      "source": [
        "num_iterations = 100  # @param {type:\"integer\"}\n",
        "log_interval = 25 # @param {type:\"integer\"}"
      ],
      "execution_count": 0,
      "outputs": []
    },
    {
      "cell_type": "code",
      "metadata": {
        "colab_type": "code",
        "id": "U3TW7bzpsay2",
        "colab": {}
      },
      "source": [
        "%%time\n",
        "\n",
        "losses = []\n",
        "policy_gradient_losses = []\n",
        "value_estimation_losses = []\n",
        "kl_losses = []\n",
        "entropy_losses = []\n",
        "\n",
        "returns = []\n",
        "lengths = []\n",
        "\n",
        "for iteration in range(num_iterations):\n",
        "    \n",
        "    # play to collect\n",
        "    collect_driver.run()\n",
        "    trajectories = replay_buffer.gather_all()\n",
        "    \n",
        "    # train with a new set of trajectories\n",
        "    loss_info = tf_ppo_agent.train(trajectories)\n",
        "    # and clear afterwards\n",
        "    replay_buffer.clear()\n",
        "\n",
        "    # just tracking of losses and other metrics\n",
        "    total_loss = loss_info.loss.numpy()\n",
        "    losses.append(total_loss)\n",
        "\n",
        "    policy_gradient_loss = loss_info.extra.policy_gradient_loss.numpy()\n",
        "    policy_gradient_losses.append(policy_gradient_loss)\n",
        "    \n",
        "    value_estimation_loss = loss_info.extra.value_estimation_loss.numpy()\n",
        "    value_estimation_losses.append(value_estimation_loss)\n",
        "\n",
        "    kl_loss = loss_info.extra.kl_penalty_loss.numpy()\n",
        "    kl_losses.append(kl_loss)\n",
        "\n",
        "    entropy_losses.append(loss_info.extra.entropy_regularization_loss.numpy())\n",
        "\n",
        "    returns.append(avg_return.result().numpy())\n",
        "    lengths.append(avg_length.result().numpy())    \n",
        "\n",
        "    # logging\n",
        "    step = tf_ppo_agent.train_step_counter.numpy()\n",
        "    if step % log_interval == 0:\n",
        "        print('step = {0}: loss = {1}, avg return = {2}, avg length = {3}'.format(\n",
        "            step, total_loss, avg_return.result().numpy(), avg_length.result().numpy()))"
      ],
      "execution_count": 0,
      "outputs": []
    },
    {
      "cell_type": "markdown",
      "metadata": {
        "colab_type": "text",
        "id": "kWQg0sLbsay4"
      },
      "source": [
        "### How did the training go?"
      ]
    },
    {
      "cell_type": "code",
      "metadata": {
        "colab_type": "code",
        "id": "H_WMFpUssay6",
        "colab": {}
      },
      "source": [
        "steps = range(0, num_iterations)\n",
        "\n",
        "plt.yscale('log')\n",
        "plt.plot(steps, losses)\n",
        "plt.title('Total loss (log)')\n",
        "plt.ylabel('Total loss')\n",
        "plt.xlabel('Step');"
      ],
      "execution_count": 0,
      "outputs": []
    },
    {
      "cell_type": "code",
      "metadata": {
        "id": "Upzc0ZKi4MgB",
        "colab_type": "code",
        "colab": {}
      },
      "source": [
        "import statistics"
      ],
      "execution_count": 0,
      "outputs": []
    },
    {
      "cell_type": "code",
      "metadata": {
        "id": "7XewNuuS4MgC",
        "colab_type": "code",
        "colab": {}
      },
      "source": [
        "min(losses), max(losses), statistics.mean(losses)"
      ],
      "execution_count": 0,
      "outputs": []
    },
    {
      "cell_type": "code",
      "metadata": {
        "colab_type": "code",
        "id": "XxCqsIDYiUnL",
        "colab": {}
      },
      "source": [
        "steps = range(0, num_iterations)\n",
        "\n",
        "plt.yscale('log')\n",
        "\n",
        "plt.plot(steps, policy_gradient_losses)\n",
        "plt.title('Actor loss (log)')\n",
        "plt.ylabel('Actor loss')\n",
        "plt.xlabel('Step');\n",
        "# plt.savefig('actor-loss-high-lr.png', transparent=True)"
      ],
      "execution_count": 0,
      "outputs": []
    },
    {
      "cell_type": "code",
      "metadata": {
        "id": "vEbzmzSW4MgI",
        "colab_type": "code",
        "colab": {}
      },
      "source": [
        "min(policy_gradient_losses), max(policy_gradient_losses), statistics.mean(policy_gradient_losses)"
      ],
      "execution_count": 0,
      "outputs": []
    },
    {
      "cell_type": "code",
      "metadata": {
        "colab_type": "code",
        "id": "JXo1kOlRiX8a",
        "colab": {}
      },
      "source": [
        "steps = range(0, num_iterations)\n",
        "\n",
        "plt.yscale('log')\n",
        "plt.plot(steps, value_estimation_losses)\n",
        "plt.title('Critic loss (log)')\n",
        "plt.ylabel('Critic loss')\n",
        "plt.xlabel('Step');"
      ],
      "execution_count": 0,
      "outputs": []
    },
    {
      "cell_type": "code",
      "metadata": {
        "id": "AVv1bW104MgK",
        "colab_type": "code",
        "colab": {}
      },
      "source": [
        "min(value_estimation_losses), max(value_estimation_losses), statistics.mean(value_estimation_losses)"
      ],
      "execution_count": 0,
      "outputs": []
    },
    {
      "cell_type": "code",
      "metadata": {
        "id": "e0SWW1nn4MgM",
        "colab_type": "code",
        "colab": {}
      },
      "source": [
        "steps = range(0, num_iterations)\n",
        "\n",
        "plt.yscale('log')\n",
        "plt.plot(steps, kl_losses)\n",
        "plt.title('KL loss (log)')\n",
        "plt.ylabel('KL loss')\n",
        "plt.xlabel('Step');\n",
        "# plt.savefig('kl-loss-high-lr.png', transparent=True)"
      ],
      "execution_count": 0,
      "outputs": []
    },
    {
      "cell_type": "code",
      "metadata": {
        "id": "GotKtPN84MgP",
        "colab_type": "code",
        "colab": {}
      },
      "source": [
        "min(kl_losses), max(kl_losses), statistics.mean(kl_losses)"
      ],
      "execution_count": 0,
      "outputs": []
    },
    {
      "cell_type": "code",
      "metadata": {
        "id": "cqgJEojH4MgQ",
        "colab_type": "code",
        "colab": {}
      },
      "source": [
        "steps = range(0, num_iterations)\n",
        "\n",
        "plt.plot(steps, entropy_losses)\n",
        "plt.title('Entropy loss')\n",
        "plt.ylabel('Entropy loss')\n",
        "plt.xlabel('Step');"
      ],
      "execution_count": 0,
      "outputs": []
    },
    {
      "cell_type": "code",
      "metadata": {
        "id": "_jUhnxvC4MgS",
        "colab_type": "code",
        "colab": {}
      },
      "source": [
        "min(entropy_losses), max(entropy_losses), statistics.mean(entropy_losses)"
      ],
      "execution_count": 0,
      "outputs": []
    },
    {
      "cell_type": "code",
      "metadata": {
        "colab_type": "code",
        "id": "3RyISuOCsay8",
        "colab": {}
      },
      "source": [
        "steps = range(0, num_iterations)\n",
        "plt.plot(steps, returns)\n",
        "plt.title('Average Return')\n",
        "plt.ylabel('Average Return')\n",
        "plt.xlabel('Step');"
      ],
      "execution_count": 0,
      "outputs": []
    },
    {
      "cell_type": "code",
      "metadata": {
        "id": "NgToQfE54MgV",
        "colab_type": "code",
        "colab": {}
      },
      "source": [
        "min(returns), max(returns)"
      ],
      "execution_count": 0,
      "outputs": []
    },
    {
      "cell_type": "code",
      "metadata": {
        "colab_type": "code",
        "id": "u9AnUC4Ssay-",
        "colab": {}
      },
      "source": [
        "steps = range(0, num_iterations)\n",
        "\n",
        "plt.plot(steps, lengths)\n",
        "plt.title('Length of episode')\n",
        "plt.ylabel('Length of episode')\n",
        "plt.xlabel('Step');"
      ],
      "execution_count": 0,
      "outputs": []
    },
    {
      "cell_type": "code",
      "metadata": {
        "id": "e14YxJhi4MgZ",
        "colab_type": "code",
        "colab": {}
      },
      "source": [
        "min(lengths), max(lengths)"
      ],
      "execution_count": 0,
      "outputs": []
    },
    {
      "cell_type": "markdown",
      "metadata": {
        "colab_type": "text",
        "id": "wbsoVSpxsazA"
      },
      "source": [
        "### Trying out the policy network"
      ]
    },
    {
      "cell_type": "code",
      "metadata": {
        "id": "iLFQ582k-pYH",
        "colab_type": "code",
        "colab": {}
      },
      "source": [
        "time_step = eval_env.reset()\n",
        "observation = time_step.observation"
      ],
      "execution_count": 0,
      "outputs": []
    },
    {
      "cell_type": "code",
      "metadata": {
        "id": "NgYBedWK9zC-",
        "colab_type": "code",
        "colab": {}
      },
      "source": [
        "# TODO: how do we get the trained critic network?\n",
        "# value_net(observation)[0].numpy()"
      ],
      "execution_count": 0,
      "outputs": []
    },
    {
      "cell_type": "markdown",
      "metadata": {
        "id": "dhlFJovy_aci",
        "colab_type": "text"
      },
      "source": [
        "\n",
        "_for play we just need the policy_"
      ]
    },
    {
      "cell_type": "code",
      "metadata": {
        "colab_type": "code",
        "id": "U3xjpWkvsazA",
        "colab": {}
      },
      "source": [
        "# not a collect policy, we are trying our best here\n",
        "policy = tf_ppo_agent.policy\n",
        "policy.name"
      ],
      "execution_count": 0,
      "outputs": []
    },
    {
      "cell_type": "code",
      "metadata": {
        "id": "ki133L9m_hYl",
        "colab_type": "code",
        "colab": {}
      },
      "source": [
        "print(time_step.observation)\n",
        "action_step = policy.action(time_step)\n",
        "print(action_step.action.numpy()[0])  \n",
        "time_step = eval_env.step(action_step.action)\n",
        "print(time_step.observation)"
      ],
      "execution_count": 0,
      "outputs": []
    },
    {
      "cell_type": "code",
      "metadata": {
        "colab_type": "code",
        "id": "6dd7boGasazE",
        "colab": {}
      },
      "source": [
        "while not time_step.is_last():\n",
        "#   print(time_step.observation.numpy())\n",
        "  action_step = policy.action(time_step)\n",
        "  print(action_step.action.numpy()[0])  \n",
        "  time_step = eval_env.step(action_step.action)"
      ],
      "execution_count": 0,
      "outputs": []
    },
    {
      "cell_type": "markdown",
      "metadata": {
        "colab_type": "text",
        "id": "aJVr0AqWsazF"
      },
      "source": [
        "### Let's finally watch our bear (most likely) fail"
      ]
    },
    {
      "cell_type": "code",
      "metadata": {
        "colab_type": "code",
        "id": "0u4jLAvBsazG",
        "colab": {}
      },
      "source": [
        "num_episodes = 1\n",
        "\n",
        "def embed_mp4(filename):\n",
        "  \"\"\"Embeds an mp4 file in the notebook.\"\"\"\n",
        "  video = open(filename,'rb').read()\n",
        "  b64 = base64.b64encode(video)\n",
        "  tag = '''\n",
        "  <video width=\"640\" height=\"480\" controls>\n",
        "    <source src=\"data:video/mp4;base64,{0}\" type=\"video/mp4\">\n",
        "  Your browser does not support the video tag.\n",
        "  </video>'''.format(b64.decode())\n",
        "\n",
        "  return IPython.display.HTML(tag)\n",
        "video_filename = 'imageio.mp4'\n",
        "with imageio.get_writer(video_filename, fps=5) as video:\n",
        "  for _ in range(num_episodes):\n",
        "    time_step = eval_env.reset()\n",
        "    video.append_data(eval_py_env.render())\n",
        "    while not time_step.is_last():\n",
        "      action_step = tf_ppo_agent.policy.action(time_step)\n",
        "#       print(action_step.action.numpy()[0])  \n",
        "      time_step = eval_env.step(action_step.action)\n",
        "      video.append_data(eval_py_env.render())\n",
        "\n",
        "embed_mp4(video_filename)"
      ],
      "execution_count": 0,
      "outputs": []
    }
  ]
}